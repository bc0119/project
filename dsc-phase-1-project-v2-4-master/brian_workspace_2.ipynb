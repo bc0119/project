{
 "cells": [
  {
   "cell_type": "code",
   "execution_count": 2,
   "metadata": {
    "ExecuteTime": {
     "end_time": "2022-03-08T14:45:13.343855Z",
     "start_time": "2022-03-08T14:45:12.908299Z"
    }
   },
   "outputs": [],
   "source": [
    "import pandas as pd\n",
    "import sqlite3"
   ]
  },
  {
   "cell_type": "code",
   "execution_count": 3,
   "metadata": {
    "ExecuteTime": {
     "end_time": "2022-03-08T14:45:16.460736Z",
     "start_time": "2022-03-08T14:45:13.360856Z"
    }
   },
   "outputs": [],
   "source": [
    "conn = sqlite3.connect('zippedData/im.db')\n",
    "\n",
    "df = pd.read_sql(\"\"\"\n",
    "\n",
    "SELECT *\n",
    "FROM movie_basics\n",
    "JOIN movie_ratings\n",
    "    USING(movie_id)\n",
    "JOIN movie_akas\n",
    "    USING(movie_id)\n",
    "\n",
    "\n",
    "\"\"\", conn)"
   ]
  },
  {
   "cell_type": "code",
   "execution_count": 4,
   "metadata": {
    "ExecuteTime": {
     "end_time": "2022-03-08T14:45:17.308992Z",
     "start_time": "2022-03-08T14:45:17.157071Z"
    }
   },
   "outputs": [],
   "source": [
    "df.drop_duplicates(subset=['movie_id'], inplace=True)\n",
    "df.drop(columns=['primary_title', 'original_title', 'ordering', 'region', 'types', 'attributes', 'is_original_title'], inplace=True)"
   ]
  },
  {
   "cell_type": "code",
   "execution_count": 5,
   "metadata": {
    "ExecuteTime": {
     "end_time": "2022-03-08T14:45:17.967129Z",
     "start_time": "2022-03-08T14:45:17.928260Z"
    }
   },
   "outputs": [
    {
     "data": {
      "text/html": [
       "<div>\n",
       "<style scoped>\n",
       "    .dataframe tbody tr th:only-of-type {\n",
       "        vertical-align: middle;\n",
       "    }\n",
       "\n",
       "    .dataframe tbody tr th {\n",
       "        vertical-align: top;\n",
       "    }\n",
       "\n",
       "    .dataframe thead th {\n",
       "        text-align: right;\n",
       "    }\n",
       "</style>\n",
       "<table border=\"1\" class=\"dataframe\">\n",
       "  <thead>\n",
       "    <tr style=\"text-align: right;\">\n",
       "      <th></th>\n",
       "      <th>movie_id</th>\n",
       "      <th>start_year</th>\n",
       "      <th>runtime_minutes</th>\n",
       "      <th>genres</th>\n",
       "      <th>averagerating</th>\n",
       "      <th>numvotes</th>\n",
       "      <th>title</th>\n",
       "      <th>language</th>\n",
       "    </tr>\n",
       "  </thead>\n",
       "  <tbody>\n",
       "    <tr>\n",
       "      <th>0</th>\n",
       "      <td>tt0063540</td>\n",
       "      <td>2013</td>\n",
       "      <td>175.0</td>\n",
       "      <td>Action,Crime,Drama</td>\n",
       "      <td>7.0</td>\n",
       "      <td>77</td>\n",
       "      <td>Sangharsh</td>\n",
       "      <td>hi</td>\n",
       "    </tr>\n",
       "    <tr>\n",
       "      <th>5</th>\n",
       "      <td>tt0066787</td>\n",
       "      <td>2019</td>\n",
       "      <td>114.0</td>\n",
       "      <td>Biography,Drama</td>\n",
       "      <td>7.2</td>\n",
       "      <td>43</td>\n",
       "      <td>One Day Before the Rainy Season</td>\n",
       "      <td>en</td>\n",
       "    </tr>\n",
       "    <tr>\n",
       "      <th>9</th>\n",
       "      <td>tt0069049</td>\n",
       "      <td>2018</td>\n",
       "      <td>122.0</td>\n",
       "      <td>Drama</td>\n",
       "      <td>6.9</td>\n",
       "      <td>4517</td>\n",
       "      <td>O Outro Lado do Vento</td>\n",
       "      <td>None</td>\n",
       "    </tr>\n",
       "    <tr>\n",
       "      <th>22</th>\n",
       "      <td>tt0069204</td>\n",
       "      <td>2018</td>\n",
       "      <td>NaN</td>\n",
       "      <td>Comedy,Drama</td>\n",
       "      <td>6.1</td>\n",
       "      <td>13</td>\n",
       "      <td>Subse Bada Sukh</td>\n",
       "      <td>bn</td>\n",
       "    </tr>\n",
       "    <tr>\n",
       "      <th>25</th>\n",
       "      <td>tt0100275</td>\n",
       "      <td>2017</td>\n",
       "      <td>80.0</td>\n",
       "      <td>Comedy,Drama,Fantasy</td>\n",
       "      <td>6.5</td>\n",
       "      <td>119</td>\n",
       "      <td>La Telenovela Errante</td>\n",
       "      <td>None</td>\n",
       "    </tr>\n",
       "    <tr>\n",
       "      <th>...</th>\n",
       "      <td>...</td>\n",
       "      <td>...</td>\n",
       "      <td>...</td>\n",
       "      <td>...</td>\n",
       "      <td>...</td>\n",
       "      <td>...</td>\n",
       "      <td>...</td>\n",
       "      <td>...</td>\n",
       "    </tr>\n",
       "    <tr>\n",
       "      <th>261792</th>\n",
       "      <td>tt9899860</td>\n",
       "      <td>2019</td>\n",
       "      <td>100.0</td>\n",
       "      <td>Drama,Thriller</td>\n",
       "      <td>8.1</td>\n",
       "      <td>7</td>\n",
       "      <td>Watching This Movie Is a Crime</td>\n",
       "      <td>en</td>\n",
       "    </tr>\n",
       "    <tr>\n",
       "      <th>261795</th>\n",
       "      <td>tt9899880</td>\n",
       "      <td>2018</td>\n",
       "      <td>85.0</td>\n",
       "      <td>Comedy</td>\n",
       "      <td>5.8</td>\n",
       "      <td>5</td>\n",
       "      <td>Columbus</td>\n",
       "      <td>None</td>\n",
       "    </tr>\n",
       "    <tr>\n",
       "      <th>261797</th>\n",
       "      <td>tt9903952</td>\n",
       "      <td>2018</td>\n",
       "      <td>87.0</td>\n",
       "      <td>Comedy,Horror</td>\n",
       "      <td>9.2</td>\n",
       "      <td>5</td>\n",
       "      <td>BADMEN with a good behavior</td>\n",
       "      <td>None</td>\n",
       "    </tr>\n",
       "    <tr>\n",
       "      <th>261800</th>\n",
       "      <td>tt9905462</td>\n",
       "      <td>2019</td>\n",
       "      <td>111.0</td>\n",
       "      <td>Drama</td>\n",
       "      <td>8.4</td>\n",
       "      <td>600</td>\n",
       "      <td>Pengalila</td>\n",
       "      <td>None</td>\n",
       "    </tr>\n",
       "    <tr>\n",
       "      <th>261803</th>\n",
       "      <td>tt9911774</td>\n",
       "      <td>2019</td>\n",
       "      <td>130.0</td>\n",
       "      <td>Drama</td>\n",
       "      <td>8.4</td>\n",
       "      <td>365</td>\n",
       "      <td>Padmavyuhathile Abhimanyu</td>\n",
       "      <td>None</td>\n",
       "    </tr>\n",
       "  </tbody>\n",
       "</table>\n",
       "<p>69577 rows × 8 columns</p>\n",
       "</div>"
      ],
      "text/plain": [
       "         movie_id  start_year  runtime_minutes                genres  \\\n",
       "0       tt0063540        2013            175.0    Action,Crime,Drama   \n",
       "5       tt0066787        2019            114.0       Biography,Drama   \n",
       "9       tt0069049        2018            122.0                 Drama   \n",
       "22      tt0069204        2018              NaN          Comedy,Drama   \n",
       "25      tt0100275        2017             80.0  Comedy,Drama,Fantasy   \n",
       "...           ...         ...              ...                   ...   \n",
       "261792  tt9899860        2019            100.0        Drama,Thriller   \n",
       "261795  tt9899880        2018             85.0                Comedy   \n",
       "261797  tt9903952        2018             87.0         Comedy,Horror   \n",
       "261800  tt9905462        2019            111.0                 Drama   \n",
       "261803  tt9911774        2019            130.0                 Drama   \n",
       "\n",
       "        averagerating  numvotes                            title language  \n",
       "0                 7.0        77                        Sangharsh       hi  \n",
       "5                 7.2        43  One Day Before the Rainy Season       en  \n",
       "9                 6.9      4517            O Outro Lado do Vento     None  \n",
       "22                6.1        13                  Subse Bada Sukh       bn  \n",
       "25                6.5       119            La Telenovela Errante     None  \n",
       "...               ...       ...                              ...      ...  \n",
       "261792            8.1         7   Watching This Movie Is a Crime       en  \n",
       "261795            5.8         5                         Columbus     None  \n",
       "261797            9.2         5      BADMEN with a good behavior     None  \n",
       "261800            8.4       600                        Pengalila     None  \n",
       "261803            8.4       365        Padmavyuhathile Abhimanyu     None  \n",
       "\n",
       "[69577 rows x 8 columns]"
      ]
     },
     "execution_count": 5,
     "metadata": {},
     "output_type": "execute_result"
    }
   ],
   "source": [
    "df"
   ]
  },
  {
   "cell_type": "code",
   "execution_count": 6,
   "metadata": {
    "ExecuteTime": {
     "end_time": "2022-03-08T14:45:19.748226Z",
     "start_time": "2022-03-08T14:45:19.708138Z"
    }
   },
   "outputs": [],
   "source": [
    "df2 = pd.read_csv('zippedData/tn.movie_budgets.csv.gz', compression='gzip')"
   ]
  },
  {
   "cell_type": "code",
   "execution_count": 7,
   "metadata": {
    "ExecuteTime": {
     "end_time": "2022-03-08T14:45:20.838410Z",
     "start_time": "2022-03-08T14:45:20.809508Z"
    }
   },
   "outputs": [
    {
     "data": {
      "text/html": [
       "<div>\n",
       "<style scoped>\n",
       "    .dataframe tbody tr th:only-of-type {\n",
       "        vertical-align: middle;\n",
       "    }\n",
       "\n",
       "    .dataframe tbody tr th {\n",
       "        vertical-align: top;\n",
       "    }\n",
       "\n",
       "    .dataframe thead th {\n",
       "        text-align: right;\n",
       "    }\n",
       "</style>\n",
       "<table border=\"1\" class=\"dataframe\">\n",
       "  <thead>\n",
       "    <tr style=\"text-align: right;\">\n",
       "      <th></th>\n",
       "      <th>id</th>\n",
       "      <th>release_date</th>\n",
       "      <th>movie</th>\n",
       "      <th>production_budget</th>\n",
       "      <th>domestic_gross</th>\n",
       "      <th>worldwide_gross</th>\n",
       "    </tr>\n",
       "  </thead>\n",
       "  <tbody>\n",
       "    <tr>\n",
       "      <th>0</th>\n",
       "      <td>1</td>\n",
       "      <td>Dec 18, 2009</td>\n",
       "      <td>Avatar</td>\n",
       "      <td>$425,000,000</td>\n",
       "      <td>$760,507,625</td>\n",
       "      <td>$2,776,345,279</td>\n",
       "    </tr>\n",
       "    <tr>\n",
       "      <th>1</th>\n",
       "      <td>2</td>\n",
       "      <td>May 20, 2011</td>\n",
       "      <td>Pirates of the Caribbean: On Stranger Tides</td>\n",
       "      <td>$410,600,000</td>\n",
       "      <td>$241,063,875</td>\n",
       "      <td>$1,045,663,875</td>\n",
       "    </tr>\n",
       "    <tr>\n",
       "      <th>2</th>\n",
       "      <td>3</td>\n",
       "      <td>Jun 7, 2019</td>\n",
       "      <td>Dark Phoenix</td>\n",
       "      <td>$350,000,000</td>\n",
       "      <td>$42,762,350</td>\n",
       "      <td>$149,762,350</td>\n",
       "    </tr>\n",
       "    <tr>\n",
       "      <th>3</th>\n",
       "      <td>4</td>\n",
       "      <td>May 1, 2015</td>\n",
       "      <td>Avengers: Age of Ultron</td>\n",
       "      <td>$330,600,000</td>\n",
       "      <td>$459,005,868</td>\n",
       "      <td>$1,403,013,963</td>\n",
       "    </tr>\n",
       "    <tr>\n",
       "      <th>4</th>\n",
       "      <td>5</td>\n",
       "      <td>Dec 15, 2017</td>\n",
       "      <td>Star Wars Ep. VIII: The Last Jedi</td>\n",
       "      <td>$317,000,000</td>\n",
       "      <td>$620,181,382</td>\n",
       "      <td>$1,316,721,747</td>\n",
       "    </tr>\n",
       "    <tr>\n",
       "      <th>...</th>\n",
       "      <td>...</td>\n",
       "      <td>...</td>\n",
       "      <td>...</td>\n",
       "      <td>...</td>\n",
       "      <td>...</td>\n",
       "      <td>...</td>\n",
       "    </tr>\n",
       "    <tr>\n",
       "      <th>5777</th>\n",
       "      <td>78</td>\n",
       "      <td>Dec 31, 2018</td>\n",
       "      <td>Red 11</td>\n",
       "      <td>$7,000</td>\n",
       "      <td>$0</td>\n",
       "      <td>$0</td>\n",
       "    </tr>\n",
       "    <tr>\n",
       "      <th>5778</th>\n",
       "      <td>79</td>\n",
       "      <td>Apr 2, 1999</td>\n",
       "      <td>Following</td>\n",
       "      <td>$6,000</td>\n",
       "      <td>$48,482</td>\n",
       "      <td>$240,495</td>\n",
       "    </tr>\n",
       "    <tr>\n",
       "      <th>5779</th>\n",
       "      <td>80</td>\n",
       "      <td>Jul 13, 2005</td>\n",
       "      <td>Return to the Land of Wonders</td>\n",
       "      <td>$5,000</td>\n",
       "      <td>$1,338</td>\n",
       "      <td>$1,338</td>\n",
       "    </tr>\n",
       "    <tr>\n",
       "      <th>5780</th>\n",
       "      <td>81</td>\n",
       "      <td>Sep 29, 2015</td>\n",
       "      <td>A Plague So Pleasant</td>\n",
       "      <td>$1,400</td>\n",
       "      <td>$0</td>\n",
       "      <td>$0</td>\n",
       "    </tr>\n",
       "    <tr>\n",
       "      <th>5781</th>\n",
       "      <td>82</td>\n",
       "      <td>Aug 5, 2005</td>\n",
       "      <td>My Date With Drew</td>\n",
       "      <td>$1,100</td>\n",
       "      <td>$181,041</td>\n",
       "      <td>$181,041</td>\n",
       "    </tr>\n",
       "  </tbody>\n",
       "</table>\n",
       "<p>5782 rows × 6 columns</p>\n",
       "</div>"
      ],
      "text/plain": [
       "      id  release_date                                        movie  \\\n",
       "0      1  Dec 18, 2009                                       Avatar   \n",
       "1      2  May 20, 2011  Pirates of the Caribbean: On Stranger Tides   \n",
       "2      3   Jun 7, 2019                                 Dark Phoenix   \n",
       "3      4   May 1, 2015                      Avengers: Age of Ultron   \n",
       "4      5  Dec 15, 2017            Star Wars Ep. VIII: The Last Jedi   \n",
       "...   ..           ...                                          ...   \n",
       "5777  78  Dec 31, 2018                                       Red 11   \n",
       "5778  79   Apr 2, 1999                                    Following   \n",
       "5779  80  Jul 13, 2005                Return to the Land of Wonders   \n",
       "5780  81  Sep 29, 2015                         A Plague So Pleasant   \n",
       "5781  82   Aug 5, 2005                            My Date With Drew   \n",
       "\n",
       "     production_budget domestic_gross worldwide_gross  \n",
       "0         $425,000,000   $760,507,625  $2,776,345,279  \n",
       "1         $410,600,000   $241,063,875  $1,045,663,875  \n",
       "2         $350,000,000    $42,762,350    $149,762,350  \n",
       "3         $330,600,000   $459,005,868  $1,403,013,963  \n",
       "4         $317,000,000   $620,181,382  $1,316,721,747  \n",
       "...                ...            ...             ...  \n",
       "5777            $7,000             $0              $0  \n",
       "5778            $6,000        $48,482        $240,495  \n",
       "5779            $5,000         $1,338          $1,338  \n",
       "5780            $1,400             $0              $0  \n",
       "5781            $1,100       $181,041        $181,041  \n",
       "\n",
       "[5782 rows x 6 columns]"
      ]
     },
     "execution_count": 7,
     "metadata": {},
     "output_type": "execute_result"
    }
   ],
   "source": [
    "df2"
   ]
  },
  {
   "cell_type": "code",
   "execution_count": 8,
   "metadata": {
    "ExecuteTime": {
     "end_time": "2022-03-08T14:45:22.001976Z",
     "start_time": "2022-03-08T14:45:21.986100Z"
    }
   },
   "outputs": [],
   "source": [
    "df2.rename(columns={'movie': 'title'}, inplace=True)"
   ]
  },
  {
   "cell_type": "code",
   "execution_count": 9,
   "metadata": {
    "ExecuteTime": {
     "end_time": "2022-03-08T14:45:22.700235Z",
     "start_time": "2022-03-08T14:45:22.640437Z"
    }
   },
   "outputs": [],
   "source": [
    "merged = df.merge(df2, on='title')"
   ]
  },
  {
   "cell_type": "code",
   "execution_count": 10,
   "metadata": {
    "ExecuteTime": {
     "end_time": "2022-03-08T14:45:23.160694Z",
     "start_time": "2022-03-08T14:45:23.143752Z"
    }
   },
   "outputs": [
    {
     "data": {
      "text/plain": [
       "Index(['movie_id', 'start_year', 'runtime_minutes', 'genres', 'averagerating',\n",
       "       'numvotes', 'title', 'language', 'id', 'release_date',\n",
       "       'production_budget', 'domestic_gross', 'worldwide_gross'],\n",
       "      dtype='object')"
      ]
     },
     "execution_count": 10,
     "metadata": {},
     "output_type": "execute_result"
    }
   ],
   "source": [
    "merged.columns"
   ]
  },
  {
   "cell_type": "code",
   "execution_count": 11,
   "metadata": {
    "ExecuteTime": {
     "end_time": "2022-03-08T14:45:24.416898Z",
     "start_time": "2022-03-08T14:45:24.404936Z"
    }
   },
   "outputs": [],
   "source": [
    "merged.genres = merged.genres.str.split(',')"
   ]
  },
  {
   "cell_type": "code",
   "execution_count": 12,
   "metadata": {
    "ExecuteTime": {
     "end_time": "2022-03-08T14:45:24.975147Z",
     "start_time": "2022-03-08T14:45:24.964185Z"
    }
   },
   "outputs": [
    {
     "data": {
      "text/plain": [
       "0                          [Horror]\n",
       "1          [Comedy, Drama, Romance]\n",
       "2                           [Drama]\n",
       "3                [Horror, Thriller]\n",
       "4       [Action, Adventure, Sci-Fi]\n",
       "                   ...             \n",
       "1223     [Biography, Comedy, Drama]\n",
       "1224                  [Documentary]\n",
       "1225                  [Documentary]\n",
       "1226                  [Documentary]\n",
       "1227             [Biography, Drama]\n",
       "Name: genres, Length: 1228, dtype: object"
      ]
     },
     "execution_count": 12,
     "metadata": {},
     "output_type": "execute_result"
    }
   ],
   "source": [
    "merged.genres"
   ]
  },
  {
   "cell_type": "code",
   "execution_count": 17,
   "metadata": {
    "ExecuteTime": {
     "end_time": "2022-03-08T14:49:03.710328Z",
     "start_time": "2022-03-08T14:49:03.700363Z"
    }
   },
   "outputs": [],
   "source": [
    "merged.drop(columns=['language'], inplace=True)"
   ]
  },
  {
   "cell_type": "code",
   "execution_count": 20,
   "metadata": {
    "ExecuteTime": {
     "end_time": "2022-03-08T14:50:00.619314Z",
     "start_time": "2022-03-08T14:50:00.600378Z"
    }
   },
   "outputs": [
    {
     "name": "stdout",
     "output_type": "stream",
     "text": [
      "<class 'pandas.core.frame.DataFrame'>\n",
      "Int64Index: 1228 entries, 0 to 1227\n",
      "Data columns (total 12 columns):\n",
      " #   Column             Non-Null Count  Dtype  \n",
      "---  ------             --------------  -----  \n",
      " 0   movie_id           1228 non-null   object \n",
      " 1   start_year         1228 non-null   int64  \n",
      " 2   runtime_minutes    1127 non-null   float64\n",
      " 3   genres             1225 non-null   object \n",
      " 4   averagerating      1228 non-null   float64\n",
      " 5   numvotes           1228 non-null   int64  \n",
      " 6   title              1228 non-null   object \n",
      " 7   id                 1228 non-null   int64  \n",
      " 8   release_date       1228 non-null   object \n",
      " 9   production_budget  1228 non-null   object \n",
      " 10  domestic_gross     1228 non-null   object \n",
      " 11  worldwide_gross    1228 non-null   object \n",
      "dtypes: float64(2), int64(3), object(7)\n",
      "memory usage: 124.7+ KB\n"
     ]
    }
   ],
   "source": [
    "merged.info()"
   ]
  },
  {
   "cell_type": "code",
   "execution_count": 22,
   "metadata": {
    "ExecuteTime": {
     "end_time": "2022-03-08T14:50:34.320371Z",
     "start_time": "2022-03-08T14:50:34.301434Z"
    }
   },
   "outputs": [],
   "source": [
    "merged.dropna(subset=['genres'], inplace=True)"
   ]
  },
  {
   "cell_type": "code",
   "execution_count": 23,
   "metadata": {
    "ExecuteTime": {
     "end_time": "2022-03-08T14:50:41.690707Z",
     "start_time": "2022-03-08T14:50:41.667781Z"
    }
   },
   "outputs": [
    {
     "name": "stdout",
     "output_type": "stream",
     "text": [
      "<class 'pandas.core.frame.DataFrame'>\n",
      "Int64Index: 1225 entries, 0 to 1227\n",
      "Data columns (total 12 columns):\n",
      " #   Column             Non-Null Count  Dtype  \n",
      "---  ------             --------------  -----  \n",
      " 0   movie_id           1225 non-null   object \n",
      " 1   start_year         1225 non-null   int64  \n",
      " 2   runtime_minutes    1127 non-null   float64\n",
      " 3   genres             1225 non-null   object \n",
      " 4   averagerating      1225 non-null   float64\n",
      " 5   numvotes           1225 non-null   int64  \n",
      " 6   title              1225 non-null   object \n",
      " 7   id                 1225 non-null   int64  \n",
      " 8   release_date       1225 non-null   object \n",
      " 9   production_budget  1225 non-null   object \n",
      " 10  domestic_gross     1225 non-null   object \n",
      " 11  worldwide_gross    1225 non-null   object \n",
      "dtypes: float64(2), int64(3), object(7)\n",
      "memory usage: 124.4+ KB\n"
     ]
    }
   ],
   "source": [
    "merged.info()"
   ]
  },
  {
   "cell_type": "code",
   "execution_count": 32,
   "metadata": {
    "ExecuteTime": {
     "end_time": "2022-03-08T14:53:27.431036Z",
     "start_time": "2022-03-08T14:53:27.415201Z"
    }
   },
   "outputs": [
    {
     "data": {
      "text/plain": [
       "['Horror',\n",
       " 'History',\n",
       " 'Action',\n",
       " 'Romance',\n",
       " 'Comedy',\n",
       " 'Sport',\n",
       " 'Drama',\n",
       " 'Western',\n",
       " 'Crime',\n",
       " 'Thriller',\n",
       " 'News',\n",
       " 'Animation',\n",
       " 'Mystery',\n",
       " 'Biography',\n",
       " 'Music',\n",
       " 'Sci-Fi',\n",
       " 'War',\n",
       " 'Fantasy',\n",
       " 'Family',\n",
       " 'Musical',\n",
       " 'Adventure',\n",
       " 'Documentary']"
      ]
     },
     "execution_count": 32,
     "metadata": {},
     "output_type": "execute_result"
    }
   ],
   "source": [
    "genre_columns = []\n",
    "\n",
    "for i in merged.genres:\n",
    "    for x in i:\n",
    "        genre_columns.append(x)\n",
    "\n",
    "genre_columns = list(set(genre_columns))\n",
    "\n",
    "genre_columns"
   ]
  },
  {
   "cell_type": "code",
   "execution_count": 26,
   "metadata": {
    "ExecuteTime": {
     "end_time": "2022-03-08T14:51:28.767091Z",
     "start_time": "2022-03-08T14:51:28.755131Z"
    }
   },
   "outputs": [],
   "source": [
    "def binary_genres(lst, genre):\n",
    "    \n",
    "    if genre in lst:\n",
    "        return 1\n",
    "    else:\n",
    "        return 0\n",
    "    \n",
    "merged['Comedy'] = merged.genres.apply(lambda x: binary_genres(x, 'Comedy'))"
   ]
  },
  {
   "cell_type": "code",
   "execution_count": 27,
   "metadata": {
    "ExecuteTime": {
     "end_time": "2022-03-08T14:51:33.087084Z",
     "start_time": "2022-03-08T14:51:33.079109Z"
    }
   },
   "outputs": [
    {
     "data": {
      "text/plain": [
       "0       0\n",
       "1       1\n",
       "2       0\n",
       "3       0\n",
       "4       0\n",
       "       ..\n",
       "1223    1\n",
       "1224    0\n",
       "1225    0\n",
       "1226    0\n",
       "1227    0\n",
       "Name: Comedy, Length: 1225, dtype: int64"
      ]
     },
     "execution_count": 27,
     "metadata": {},
     "output_type": "execute_result"
    }
   ],
   "source": [
    "merged.Comedy"
   ]
  },
  {
   "cell_type": "code",
   "execution_count": 33,
   "metadata": {
    "ExecuteTime": {
     "end_time": "2022-03-08T14:53:40.152257Z",
     "start_time": "2022-03-08T14:53:40.142282Z"
    }
   },
   "outputs": [
    {
     "data": {
      "text/plain": [
       "['Horror',\n",
       " 'History',\n",
       " 'Action',\n",
       " 'Romance',\n",
       " 'Comedy',\n",
       " 'Sport',\n",
       " 'Drama',\n",
       " 'Western',\n",
       " 'Crime',\n",
       " 'Thriller',\n",
       " 'News',\n",
       " 'Animation',\n",
       " 'Mystery',\n",
       " 'Biography',\n",
       " 'Music',\n",
       " 'Sci-Fi',\n",
       " 'War',\n",
       " 'Fantasy',\n",
       " 'Family',\n",
       " 'Musical',\n",
       " 'Adventure',\n",
       " 'Documentary']"
      ]
     },
     "execution_count": 33,
     "metadata": {},
     "output_type": "execute_result"
    }
   ],
   "source": [
    "genre_columns"
   ]
  },
  {
   "cell_type": "code",
   "execution_count": 34,
   "metadata": {
    "ExecuteTime": {
     "end_time": "2022-03-08T14:57:06.903971Z",
     "start_time": "2022-03-08T14:57:06.841181Z"
    }
   },
   "outputs": [],
   "source": [
    "merged['Horror'] = merged.genres.apply(lambda x: binary_genres(x, 'Horror'))\n",
    "merged['History'] = merged.genres.apply(lambda x: binary_genres(x, 'History'))\n",
    "merged['Action'] = merged.genres.apply(lambda x: binary_genres(x, 'Action'))\n",
    "merged['Romance'] = merged.genres.apply(lambda x: binary_genres(x, 'Romance'))\n",
    "merged['Sport'] = merged.genres.apply(lambda x: binary_genres(x, 'Sport'))\n",
    "merged['Drama'] = merged.genres.apply(lambda x: binary_genres(x, 'Drama'))\n",
    "merged['Western'] = merged.genres.apply(lambda x: binary_genres(x, 'Western'))\n",
    "merged['Crime'] = merged.genres.apply(lambda x: binary_genres(x, 'Crime'))\n",
    "merged['Thriller'] = merged.genres.apply(lambda x: binary_genres(x, 'Thriller'))\n",
    "merged['News'] = merged.genres.apply(lambda x: binary_genres(x, 'News'))\n",
    "merged['Animation'] = merged.genres.apply(lambda x: binary_genres(x, 'Animation'))\n",
    "merged['Mystery'] = merged.genres.apply(lambda x: binary_genres(x, 'Mystery'))\n",
    "merged['Biography'] = merged.genres.apply(lambda x: binary_genres(x, 'Biography'))\n",
    "merged['Music'] = merged.genres.apply(lambda x: binary_genres(x, 'Music'))\n",
    "merged['Sci-Fi'] = merged.genres.apply(lambda x: binary_genres(x, 'Sci-Fi'))\n",
    "merged['War'] = merged.genres.apply(lambda x: binary_genres(x, 'War'))\n",
    "merged['Fantasy'] = merged.genres.apply(lambda x: binary_genres(x, 'Fantasy'))\n",
    "merged['Family'] = merged.genres.apply(lambda x: binary_genres(x, 'Family'))\n",
    "merged['Musical'] = merged.genres.apply(lambda x: binary_genres(x, 'Musical'))\n",
    "merged['Adventure'] = merged.genres.apply(lambda x: binary_genres(x, 'Adventure'))\n",
    "merged['Documentary'] = merged.genres.apply(lambda x: binary_genres(x, 'Documentary'))"
   ]
  },
  {
   "cell_type": "code",
   "execution_count": 52,
   "metadata": {
    "ExecuteTime": {
     "end_time": "2022-03-08T15:02:22.478532Z",
     "start_time": "2022-03-08T15:02:22.425902Z"
    }
   },
   "outputs": [
    {
     "data": {
      "text/html": [
       "<div>\n",
       "<style scoped>\n",
       "    .dataframe tbody tr th:only-of-type {\n",
       "        vertical-align: middle;\n",
       "    }\n",
       "\n",
       "    .dataframe tbody tr th {\n",
       "        vertical-align: top;\n",
       "    }\n",
       "\n",
       "    .dataframe thead th {\n",
       "        text-align: right;\n",
       "    }\n",
       "</style>\n",
       "<table border=\"1\" class=\"dataframe\">\n",
       "  <thead>\n",
       "    <tr style=\"text-align: right;\">\n",
       "      <th></th>\n",
       "      <th>movie_id</th>\n",
       "      <th>start_year</th>\n",
       "      <th>runtime_minutes</th>\n",
       "      <th>genres</th>\n",
       "      <th>averagerating</th>\n",
       "      <th>numvotes</th>\n",
       "      <th>title</th>\n",
       "      <th>id</th>\n",
       "      <th>release_date</th>\n",
       "      <th>production_budget</th>\n",
       "      <th>...</th>\n",
       "      <th>Mystery</th>\n",
       "      <th>Biography</th>\n",
       "      <th>Music</th>\n",
       "      <th>Sci-Fi</th>\n",
       "      <th>War</th>\n",
       "      <th>Fantasy</th>\n",
       "      <th>Family</th>\n",
       "      <th>Musical</th>\n",
       "      <th>Adventure</th>\n",
       "      <th>Documentary</th>\n",
       "    </tr>\n",
       "  </thead>\n",
       "  <tbody>\n",
       "    <tr>\n",
       "      <th>0</th>\n",
       "      <td>tt0339736</td>\n",
       "      <td>2017</td>\n",
       "      <td>98.0</td>\n",
       "      <td>[Horror]</td>\n",
       "      <td>5.6</td>\n",
       "      <td>2420</td>\n",
       "      <td>Whiplash</td>\n",
       "      <td>43</td>\n",
       "      <td>Oct 10, 2014</td>\n",
       "      <td>$3,300,000</td>\n",
       "      <td>...</td>\n",
       "      <td>0</td>\n",
       "      <td>0</td>\n",
       "      <td>0</td>\n",
       "      <td>0</td>\n",
       "      <td>0</td>\n",
       "      <td>0</td>\n",
       "      <td>0</td>\n",
       "      <td>0</td>\n",
       "      <td>0</td>\n",
       "      <td>0</td>\n",
       "    </tr>\n",
       "    <tr>\n",
       "      <th>1</th>\n",
       "      <td>tt0393049</td>\n",
       "      <td>2010</td>\n",
       "      <td>98.0</td>\n",
       "      <td>[Comedy, Drama, Romance]</td>\n",
       "      <td>5.5</td>\n",
       "      <td>106</td>\n",
       "      <td>Anderson's Cross</td>\n",
       "      <td>65</td>\n",
       "      <td>Dec 31, 2010</td>\n",
       "      <td>$300,000</td>\n",
       "      <td>...</td>\n",
       "      <td>0</td>\n",
       "      <td>0</td>\n",
       "      <td>0</td>\n",
       "      <td>0</td>\n",
       "      <td>0</td>\n",
       "      <td>0</td>\n",
       "      <td>0</td>\n",
       "      <td>0</td>\n",
       "      <td>0</td>\n",
       "      <td>0</td>\n",
       "    </tr>\n",
       "    <tr>\n",
       "      <th>2</th>\n",
       "      <td>tt0426566</td>\n",
       "      <td>2012</td>\n",
       "      <td>NaN</td>\n",
       "      <td>[Drama]</td>\n",
       "      <td>6.0</td>\n",
       "      <td>13</td>\n",
       "      <td>Breakdown</td>\n",
       "      <td>11</td>\n",
       "      <td>May 2, 1997</td>\n",
       "      <td>$36,000,000</td>\n",
       "      <td>...</td>\n",
       "      <td>0</td>\n",
       "      <td>0</td>\n",
       "      <td>0</td>\n",
       "      <td>0</td>\n",
       "      <td>0</td>\n",
       "      <td>0</td>\n",
       "      <td>0</td>\n",
       "      <td>0</td>\n",
       "      <td>0</td>\n",
       "      <td>0</td>\n",
       "    </tr>\n",
       "    <tr>\n",
       "      <th>3</th>\n",
       "      <td>tt0436230</td>\n",
       "      <td>2010</td>\n",
       "      <td>NaN</td>\n",
       "      <td>[Horror, Thriller]</td>\n",
       "      <td>6.7</td>\n",
       "      <td>34</td>\n",
       "      <td>The Devil Inside</td>\n",
       "      <td>12</td>\n",
       "      <td>Jan 6, 2012</td>\n",
       "      <td>$1,000,000</td>\n",
       "      <td>...</td>\n",
       "      <td>0</td>\n",
       "      <td>0</td>\n",
       "      <td>0</td>\n",
       "      <td>0</td>\n",
       "      <td>0</td>\n",
       "      <td>0</td>\n",
       "      <td>0</td>\n",
       "      <td>0</td>\n",
       "      <td>0</td>\n",
       "      <td>0</td>\n",
       "    </tr>\n",
       "    <tr>\n",
       "      <th>4</th>\n",
       "      <td>tt0437086</td>\n",
       "      <td>2019</td>\n",
       "      <td>122.0</td>\n",
       "      <td>[Action, Adventure, Sci-Fi]</td>\n",
       "      <td>7.5</td>\n",
       "      <td>88207</td>\n",
       "      <td>Alita: Battle Angel</td>\n",
       "      <td>24</td>\n",
       "      <td>Feb 14, 2019</td>\n",
       "      <td>$170,000,000</td>\n",
       "      <td>...</td>\n",
       "      <td>0</td>\n",
       "      <td>0</td>\n",
       "      <td>0</td>\n",
       "      <td>1</td>\n",
       "      <td>0</td>\n",
       "      <td>0</td>\n",
       "      <td>0</td>\n",
       "      <td>0</td>\n",
       "      <td>1</td>\n",
       "      <td>0</td>\n",
       "    </tr>\n",
       "    <tr>\n",
       "      <th>...</th>\n",
       "      <td>...</td>\n",
       "      <td>...</td>\n",
       "      <td>...</td>\n",
       "      <td>...</td>\n",
       "      <td>...</td>\n",
       "      <td>...</td>\n",
       "      <td>...</td>\n",
       "      <td>...</td>\n",
       "      <td>...</td>\n",
       "      <td>...</td>\n",
       "      <td>...</td>\n",
       "      <td>...</td>\n",
       "      <td>...</td>\n",
       "      <td>...</td>\n",
       "      <td>...</td>\n",
       "      <td>...</td>\n",
       "      <td>...</td>\n",
       "      <td>...</td>\n",
       "      <td>...</td>\n",
       "      <td>...</td>\n",
       "      <td>...</td>\n",
       "    </tr>\n",
       "    <tr>\n",
       "      <th>1223</th>\n",
       "      <td>tt8266310</td>\n",
       "      <td>2019</td>\n",
       "      <td>117.0</td>\n",
       "      <td>[Biography, Comedy, Drama]</td>\n",
       "      <td>6.2</td>\n",
       "      <td>173</td>\n",
       "      <td>Blinded by the Light</td>\n",
       "      <td>64</td>\n",
       "      <td>Aug 14, 2019</td>\n",
       "      <td>$15,000,000</td>\n",
       "      <td>...</td>\n",
       "      <td>0</td>\n",
       "      <td>1</td>\n",
       "      <td>0</td>\n",
       "      <td>0</td>\n",
       "      <td>0</td>\n",
       "      <td>0</td>\n",
       "      <td>0</td>\n",
       "      <td>0</td>\n",
       "      <td>0</td>\n",
       "      <td>0</td>\n",
       "    </tr>\n",
       "    <tr>\n",
       "      <th>1224</th>\n",
       "      <td>tt8450662</td>\n",
       "      <td>2018</td>\n",
       "      <td>66.0</td>\n",
       "      <td>[Documentary]</td>\n",
       "      <td>7.3</td>\n",
       "      <td>22</td>\n",
       "      <td>Beloved</td>\n",
       "      <td>65</td>\n",
       "      <td>Oct 16, 1998</td>\n",
       "      <td>$53,000,000</td>\n",
       "      <td>...</td>\n",
       "      <td>0</td>\n",
       "      <td>0</td>\n",
       "      <td>0</td>\n",
       "      <td>0</td>\n",
       "      <td>0</td>\n",
       "      <td>0</td>\n",
       "      <td>0</td>\n",
       "      <td>0</td>\n",
       "      <td>0</td>\n",
       "      <td>1</td>\n",
       "    </tr>\n",
       "    <tr>\n",
       "      <th>1225</th>\n",
       "      <td>tt8632862</td>\n",
       "      <td>2018</td>\n",
       "      <td>128.0</td>\n",
       "      <td>[Documentary]</td>\n",
       "      <td>6.7</td>\n",
       "      <td>11628</td>\n",
       "      <td>Fahrenheit 11/9</td>\n",
       "      <td>29</td>\n",
       "      <td>Sep 21, 2018</td>\n",
       "      <td>$5,000,000</td>\n",
       "      <td>...</td>\n",
       "      <td>0</td>\n",
       "      <td>0</td>\n",
       "      <td>0</td>\n",
       "      <td>0</td>\n",
       "      <td>0</td>\n",
       "      <td>0</td>\n",
       "      <td>0</td>\n",
       "      <td>0</td>\n",
       "      <td>0</td>\n",
       "      <td>1</td>\n",
       "    </tr>\n",
       "    <tr>\n",
       "      <th>1226</th>\n",
       "      <td>tt8816388</td>\n",
       "      <td>2018</td>\n",
       "      <td>28.0</td>\n",
       "      <td>[Documentary]</td>\n",
       "      <td>5.7</td>\n",
       "      <td>7</td>\n",
       "      <td>Demonic</td>\n",
       "      <td>56</td>\n",
       "      <td>Oct 10, 2017</td>\n",
       "      <td>$3,000,000</td>\n",
       "      <td>...</td>\n",
       "      <td>0</td>\n",
       "      <td>0</td>\n",
       "      <td>0</td>\n",
       "      <td>0</td>\n",
       "      <td>0</td>\n",
       "      <td>0</td>\n",
       "      <td>0</td>\n",
       "      <td>0</td>\n",
       "      <td>0</td>\n",
       "      <td>1</td>\n",
       "    </tr>\n",
       "    <tr>\n",
       "      <th>1227</th>\n",
       "      <td>tt9024106</td>\n",
       "      <td>2019</td>\n",
       "      <td>106.0</td>\n",
       "      <td>[Biography, Drama]</td>\n",
       "      <td>6.3</td>\n",
       "      <td>5945</td>\n",
       "      <td>Unplanned</td>\n",
       "      <td>33</td>\n",
       "      <td>Mar 29, 2019</td>\n",
       "      <td>$6,000,000</td>\n",
       "      <td>...</td>\n",
       "      <td>0</td>\n",
       "      <td>1</td>\n",
       "      <td>0</td>\n",
       "      <td>0</td>\n",
       "      <td>0</td>\n",
       "      <td>0</td>\n",
       "      <td>0</td>\n",
       "      <td>0</td>\n",
       "      <td>0</td>\n",
       "      <td>0</td>\n",
       "    </tr>\n",
       "  </tbody>\n",
       "</table>\n",
       "<p>1225 rows × 34 columns</p>\n",
       "</div>"
      ],
      "text/plain": [
       "       movie_id  start_year  runtime_minutes                       genres  \\\n",
       "0     tt0339736        2017             98.0                     [Horror]   \n",
       "1     tt0393049        2010             98.0     [Comedy, Drama, Romance]   \n",
       "2     tt0426566        2012              NaN                      [Drama]   \n",
       "3     tt0436230        2010              NaN           [Horror, Thriller]   \n",
       "4     tt0437086        2019            122.0  [Action, Adventure, Sci-Fi]   \n",
       "...         ...         ...              ...                          ...   \n",
       "1223  tt8266310        2019            117.0   [Biography, Comedy, Drama]   \n",
       "1224  tt8450662        2018             66.0                [Documentary]   \n",
       "1225  tt8632862        2018            128.0                [Documentary]   \n",
       "1226  tt8816388        2018             28.0                [Documentary]   \n",
       "1227  tt9024106        2019            106.0           [Biography, Drama]   \n",
       "\n",
       "      averagerating  numvotes                 title  id  release_date  \\\n",
       "0               5.6      2420              Whiplash  43  Oct 10, 2014   \n",
       "1               5.5       106      Anderson's Cross  65  Dec 31, 2010   \n",
       "2               6.0        13             Breakdown  11   May 2, 1997   \n",
       "3               6.7        34      The Devil Inside  12   Jan 6, 2012   \n",
       "4               7.5     88207   Alita: Battle Angel  24  Feb 14, 2019   \n",
       "...             ...       ...                   ...  ..           ...   \n",
       "1223            6.2       173  Blinded by the Light  64  Aug 14, 2019   \n",
       "1224            7.3        22               Beloved  65  Oct 16, 1998   \n",
       "1225            6.7     11628       Fahrenheit 11/9  29  Sep 21, 2018   \n",
       "1226            5.7         7               Demonic  56  Oct 10, 2017   \n",
       "1227            6.3      5945             Unplanned  33  Mar 29, 2019   \n",
       "\n",
       "     production_budget  ... Mystery Biography  Music  Sci-Fi  War  Fantasy  \\\n",
       "0           $3,300,000  ...       0         0      0       0    0        0   \n",
       "1             $300,000  ...       0         0      0       0    0        0   \n",
       "2          $36,000,000  ...       0         0      0       0    0        0   \n",
       "3           $1,000,000  ...       0         0      0       0    0        0   \n",
       "4         $170,000,000  ...       0         0      0       1    0        0   \n",
       "...                ...  ...     ...       ...    ...     ...  ...      ...   \n",
       "1223       $15,000,000  ...       0         1      0       0    0        0   \n",
       "1224       $53,000,000  ...       0         0      0       0    0        0   \n",
       "1225        $5,000,000  ...       0         0      0       0    0        0   \n",
       "1226        $3,000,000  ...       0         0      0       0    0        0   \n",
       "1227        $6,000,000  ...       0         1      0       0    0        0   \n",
       "\n",
       "      Family  Musical  Adventure  Documentary  \n",
       "0          0        0          0            0  \n",
       "1          0        0          0            0  \n",
       "2          0        0          0            0  \n",
       "3          0        0          0            0  \n",
       "4          0        0          1            0  \n",
       "...      ...      ...        ...          ...  \n",
       "1223       0        0          0            0  \n",
       "1224       0        0          0            1  \n",
       "1225       0        0          0            1  \n",
       "1226       0        0          0            1  \n",
       "1227       0        0          0            0  \n",
       "\n",
       "[1225 rows x 34 columns]"
      ]
     },
     "execution_count": 52,
     "metadata": {},
     "output_type": "execute_result"
    }
   ],
   "source": [
    "merged"
   ]
  },
  {
   "cell_type": "code",
   "execution_count": 58,
   "metadata": {
    "ExecuteTime": {
     "end_time": "2022-03-08T15:08:35.888396Z",
     "start_time": "2022-03-08T15:08:35.873447Z"
    }
   },
   "outputs": [],
   "source": [
    "merged.production_budget = merged['production_budget'].str.strip('$')\n",
    "merged.production_budget = merged['production_budget'].str.replace(',', '')\n",
    "merged.production_budget = merged.production_budget.astype('float')"
   ]
  },
  {
   "cell_type": "code",
   "execution_count": 59,
   "metadata": {
    "ExecuteTime": {
     "end_time": "2022-03-08T15:09:13.788536Z",
     "start_time": "2022-03-08T15:09:13.780476Z"
    }
   },
   "outputs": [],
   "source": [
    "merged.worldwide_gross = merged['worldwide_gross'].str.strip('$')\n",
    "merged.worldwide_gross = merged['worldwide_gross'].str.replace(',', '')\n",
    "merged.worldwide_gross = merged.worldwide_gross.astype('float')"
   ]
  },
  {
   "cell_type": "code",
   "execution_count": 60,
   "metadata": {
    "ExecuteTime": {
     "end_time": "2022-03-08T15:10:01.376866Z",
     "start_time": "2022-03-08T15:10:01.358926Z"
    }
   },
   "outputs": [],
   "source": [
    "merged.domestic_gross = merged['domestic_gross'].str.strip('$')\n",
    "merged.domestic_gross = merged['domestic_gross'].str.replace(',', '')\n",
    "merged.domestic_gross = merged.domestic_gross.astype('float')"
   ]
  },
  {
   "cell_type": "code",
   "execution_count": 62,
   "metadata": {
    "ExecuteTime": {
     "end_time": "2022-03-08T15:11:44.817769Z",
     "start_time": "2022-03-08T15:11:44.802747Z"
    }
   },
   "outputs": [],
   "source": [
    "merged['budget_percentage_contribution'] = merged.production_budget / (merged.production_budget + merged.worldwide_gross)\n",
    "merged['worldwide_gross_percentage_contribution'] = merged.worldwide_gross / (merged.production_budget + merged.worldwide_gross)\n",
    "merged['domestic_gross_percentage_contribution'] = merged.domestic_gross / (merged.production_budget + merged.domestic_gross)"
   ]
  },
  {
   "cell_type": "code",
   "execution_count": 63,
   "metadata": {
    "ExecuteTime": {
     "end_time": "2022-03-08T15:11:52.838733Z",
     "start_time": "2022-03-08T15:11:52.822779Z"
    }
   },
   "outputs": [
    {
     "name": "stdout",
     "output_type": "stream",
     "text": [
      "<class 'pandas.core.frame.DataFrame'>\n",
      "Int64Index: 1225 entries, 0 to 1227\n",
      "Data columns (total 37 columns):\n",
      " #   Column                                   Non-Null Count  Dtype  \n",
      "---  ------                                   --------------  -----  \n",
      " 0   movie_id                                 1225 non-null   object \n",
      " 1   start_year                               1225 non-null   int64  \n",
      " 2   runtime_minutes                          1127 non-null   float64\n",
      " 3   genres                                   1225 non-null   object \n",
      " 4   averagerating                            1225 non-null   float64\n",
      " 5   numvotes                                 1225 non-null   int64  \n",
      " 6   title                                    1225 non-null   object \n",
      " 7   id                                       1225 non-null   int64  \n",
      " 8   release_date                             1225 non-null   object \n",
      " 9   production_budget                        1225 non-null   float64\n",
      " 10  domestic_gross                           1225 non-null   float64\n",
      " 11  worldwide_gross                          1225 non-null   float64\n",
      " 12  Comedy                                   1225 non-null   int64  \n",
      " 13  Horror                                   1225 non-null   int64  \n",
      " 14  History                                  1225 non-null   int64  \n",
      " 15  Action                                   1225 non-null   int64  \n",
      " 16  Romance                                  1225 non-null   int64  \n",
      " 17  Sport                                    1225 non-null   int64  \n",
      " 18  Drama                                    1225 non-null   int64  \n",
      " 19  Western                                  1225 non-null   int64  \n",
      " 20  Crime                                    1225 non-null   int64  \n",
      " 21  Thriller                                 1225 non-null   int64  \n",
      " 22  News                                     1225 non-null   int64  \n",
      " 23  Animation                                1225 non-null   int64  \n",
      " 24  Mystery                                  1225 non-null   int64  \n",
      " 25  Biography                                1225 non-null   int64  \n",
      " 26  Music                                    1225 non-null   int64  \n",
      " 27  Sci-Fi                                   1225 non-null   int64  \n",
      " 28  War                                      1225 non-null   int64  \n",
      " 29  Fantasy                                  1225 non-null   int64  \n",
      " 30  Family                                   1225 non-null   int64  \n",
      " 31  Musical                                  1225 non-null   int64  \n",
      " 32  Adventure                                1225 non-null   int64  \n",
      " 33  Documentary                              1225 non-null   int64  \n",
      " 34  budget_percentage_contribution           1225 non-null   float64\n",
      " 35  worldwide_gross_percentage_contribution  1225 non-null   float64\n",
      " 36  domestic_gross_percentage_contribution   1225 non-null   float64\n",
      "dtypes: float64(8), int64(25), object(4)\n",
      "memory usage: 363.7+ KB\n"
     ]
    }
   ],
   "source": [
    "merged.info()"
   ]
  },
  {
   "cell_type": "code",
   "execution_count": 64,
   "metadata": {
    "ExecuteTime": {
     "end_time": "2022-03-08T15:12:04.730838Z",
     "start_time": "2022-03-08T15:12:04.698946Z"
    }
   },
   "outputs": [
    {
     "data": {
      "text/html": [
       "<div>\n",
       "<style scoped>\n",
       "    .dataframe tbody tr th:only-of-type {\n",
       "        vertical-align: middle;\n",
       "    }\n",
       "\n",
       "    .dataframe tbody tr th {\n",
       "        vertical-align: top;\n",
       "    }\n",
       "\n",
       "    .dataframe thead th {\n",
       "        text-align: right;\n",
       "    }\n",
       "</style>\n",
       "<table border=\"1\" class=\"dataframe\">\n",
       "  <thead>\n",
       "    <tr style=\"text-align: right;\">\n",
       "      <th></th>\n",
       "      <th>movie_id</th>\n",
       "      <th>start_year</th>\n",
       "      <th>runtime_minutes</th>\n",
       "      <th>genres</th>\n",
       "      <th>averagerating</th>\n",
       "      <th>numvotes</th>\n",
       "      <th>title</th>\n",
       "      <th>id</th>\n",
       "      <th>release_date</th>\n",
       "      <th>production_budget</th>\n",
       "      <th>...</th>\n",
       "      <th>Sci-Fi</th>\n",
       "      <th>War</th>\n",
       "      <th>Fantasy</th>\n",
       "      <th>Family</th>\n",
       "      <th>Musical</th>\n",
       "      <th>Adventure</th>\n",
       "      <th>Documentary</th>\n",
       "      <th>budget_percentage_contribution</th>\n",
       "      <th>worldwide_gross_percentage_contribution</th>\n",
       "      <th>domestic_gross_percentage_contribution</th>\n",
       "    </tr>\n",
       "  </thead>\n",
       "  <tbody>\n",
       "    <tr>\n",
       "      <th>0</th>\n",
       "      <td>tt0339736</td>\n",
       "      <td>2017</td>\n",
       "      <td>98.0</td>\n",
       "      <td>[Horror]</td>\n",
       "      <td>5.6</td>\n",
       "      <td>2420</td>\n",
       "      <td>Whiplash</td>\n",
       "      <td>43</td>\n",
       "      <td>Oct 10, 2014</td>\n",
       "      <td>3300000.0</td>\n",
       "      <td>...</td>\n",
       "      <td>0</td>\n",
       "      <td>0</td>\n",
       "      <td>0</td>\n",
       "      <td>0</td>\n",
       "      <td>0</td>\n",
       "      <td>0</td>\n",
       "      <td>0</td>\n",
       "      <td>0.078071</td>\n",
       "      <td>0.921929</td>\n",
       "      <td>0.798682</td>\n",
       "    </tr>\n",
       "    <tr>\n",
       "      <th>1</th>\n",
       "      <td>tt0393049</td>\n",
       "      <td>2010</td>\n",
       "      <td>98.0</td>\n",
       "      <td>[Comedy, Drama, Romance]</td>\n",
       "      <td>5.5</td>\n",
       "      <td>106</td>\n",
       "      <td>Anderson's Cross</td>\n",
       "      <td>65</td>\n",
       "      <td>Dec 31, 2010</td>\n",
       "      <td>300000.0</td>\n",
       "      <td>...</td>\n",
       "      <td>0</td>\n",
       "      <td>0</td>\n",
       "      <td>0</td>\n",
       "      <td>0</td>\n",
       "      <td>0</td>\n",
       "      <td>0</td>\n",
       "      <td>0</td>\n",
       "      <td>1.000000</td>\n",
       "      <td>0.000000</td>\n",
       "      <td>0.000000</td>\n",
       "    </tr>\n",
       "    <tr>\n",
       "      <th>2</th>\n",
       "      <td>tt0426566</td>\n",
       "      <td>2012</td>\n",
       "      <td>NaN</td>\n",
       "      <td>[Drama]</td>\n",
       "      <td>6.0</td>\n",
       "      <td>13</td>\n",
       "      <td>Breakdown</td>\n",
       "      <td>11</td>\n",
       "      <td>May 2, 1997</td>\n",
       "      <td>36000000.0</td>\n",
       "      <td>...</td>\n",
       "      <td>0</td>\n",
       "      <td>0</td>\n",
       "      <td>0</td>\n",
       "      <td>0</td>\n",
       "      <td>0</td>\n",
       "      <td>0</td>\n",
       "      <td>0</td>\n",
       "      <td>0.417831</td>\n",
       "      <td>0.582169</td>\n",
       "      <td>0.582169</td>\n",
       "    </tr>\n",
       "    <tr>\n",
       "      <th>3</th>\n",
       "      <td>tt0436230</td>\n",
       "      <td>2010</td>\n",
       "      <td>NaN</td>\n",
       "      <td>[Horror, Thriller]</td>\n",
       "      <td>6.7</td>\n",
       "      <td>34</td>\n",
       "      <td>The Devil Inside</td>\n",
       "      <td>12</td>\n",
       "      <td>Jan 6, 2012</td>\n",
       "      <td>1000000.0</td>\n",
       "      <td>...</td>\n",
       "      <td>0</td>\n",
       "      <td>0</td>\n",
       "      <td>0</td>\n",
       "      <td>0</td>\n",
       "      <td>0</td>\n",
       "      <td>0</td>\n",
       "      <td>0</td>\n",
       "      <td>0.009731</td>\n",
       "      <td>0.990269</td>\n",
       "      <td>0.981571</td>\n",
       "    </tr>\n",
       "    <tr>\n",
       "      <th>4</th>\n",
       "      <td>tt0437086</td>\n",
       "      <td>2019</td>\n",
       "      <td>122.0</td>\n",
       "      <td>[Action, Adventure, Sci-Fi]</td>\n",
       "      <td>7.5</td>\n",
       "      <td>88207</td>\n",
       "      <td>Alita: Battle Angel</td>\n",
       "      <td>24</td>\n",
       "      <td>Feb 14, 2019</td>\n",
       "      <td>170000000.0</td>\n",
       "      <td>...</td>\n",
       "      <td>1</td>\n",
       "      <td>0</td>\n",
       "      <td>0</td>\n",
       "      <td>0</td>\n",
       "      <td>0</td>\n",
       "      <td>1</td>\n",
       "      <td>0</td>\n",
       "      <td>0.296697</td>\n",
       "      <td>0.703303</td>\n",
       "      <td>0.335185</td>\n",
       "    </tr>\n",
       "  </tbody>\n",
       "</table>\n",
       "<p>5 rows × 37 columns</p>\n",
       "</div>"
      ],
      "text/plain": [
       "    movie_id  start_year  runtime_minutes                       genres  \\\n",
       "0  tt0339736        2017             98.0                     [Horror]   \n",
       "1  tt0393049        2010             98.0     [Comedy, Drama, Romance]   \n",
       "2  tt0426566        2012              NaN                      [Drama]   \n",
       "3  tt0436230        2010              NaN           [Horror, Thriller]   \n",
       "4  tt0437086        2019            122.0  [Action, Adventure, Sci-Fi]   \n",
       "\n",
       "   averagerating  numvotes                title  id  release_date  \\\n",
       "0            5.6      2420             Whiplash  43  Oct 10, 2014   \n",
       "1            5.5       106     Anderson's Cross  65  Dec 31, 2010   \n",
       "2            6.0        13            Breakdown  11   May 2, 1997   \n",
       "3            6.7        34     The Devil Inside  12   Jan 6, 2012   \n",
       "4            7.5     88207  Alita: Battle Angel  24  Feb 14, 2019   \n",
       "\n",
       "   production_budget  ...  Sci-Fi  War  Fantasy  Family  Musical  Adventure  \\\n",
       "0          3300000.0  ...       0    0        0       0        0          0   \n",
       "1           300000.0  ...       0    0        0       0        0          0   \n",
       "2         36000000.0  ...       0    0        0       0        0          0   \n",
       "3          1000000.0  ...       0    0        0       0        0          0   \n",
       "4        170000000.0  ...       1    0        0       0        0          1   \n",
       "\n",
       "   Documentary  budget_percentage_contribution  \\\n",
       "0            0                        0.078071   \n",
       "1            0                        1.000000   \n",
       "2            0                        0.417831   \n",
       "3            0                        0.009731   \n",
       "4            0                        0.296697   \n",
       "\n",
       "   worldwide_gross_percentage_contribution  \\\n",
       "0                                 0.921929   \n",
       "1                                 0.000000   \n",
       "2                                 0.582169   \n",
       "3                                 0.990269   \n",
       "4                                 0.703303   \n",
       "\n",
       "   domestic_gross_percentage_contribution  \n",
       "0                                0.798682  \n",
       "1                                0.000000  \n",
       "2                                0.582169  \n",
       "3                                0.981571  \n",
       "4                                0.335185  \n",
       "\n",
       "[5 rows x 37 columns]"
      ]
     },
     "execution_count": 64,
     "metadata": {},
     "output_type": "execute_result"
    }
   ],
   "source": [
    "merged.head()"
   ]
  },
  {
   "cell_type": "code",
   "execution_count": null,
   "metadata": {},
   "outputs": [],
   "source": []
  }
 ],
 "metadata": {
  "kernelspec": {
   "display_name": "Python 3",
   "language": "python",
   "name": "python3"
  },
  "language_info": {
   "codemirror_mode": {
    "name": "ipython",
    "version": 3
   },
   "file_extension": ".py",
   "mimetype": "text/x-python",
   "name": "python",
   "nbconvert_exporter": "python",
   "pygments_lexer": "ipython3",
   "version": "3.8.5"
  },
  "toc": {
   "base_numbering": 1,
   "nav_menu": {},
   "number_sections": true,
   "sideBar": true,
   "skip_h1_title": false,
   "title_cell": "Table of Contents",
   "title_sidebar": "Contents",
   "toc_cell": false,
   "toc_position": {},
   "toc_section_display": true,
   "toc_window_display": false
  },
  "varInspector": {
   "cols": {
    "lenName": 16,
    "lenType": 16,
    "lenVar": 40
   },
   "kernels_config": {
    "python": {
     "delete_cmd_postfix": "",
     "delete_cmd_prefix": "del ",
     "library": "var_list.py",
     "varRefreshCmd": "print(var_dic_list())"
    },
    "r": {
     "delete_cmd_postfix": ") ",
     "delete_cmd_prefix": "rm(",
     "library": "var_list.r",
     "varRefreshCmd": "cat(var_dic_list()) "
    }
   },
   "types_to_exclude": [
    "module",
    "function",
    "builtin_function_or_method",
    "instance",
    "_Feature"
   ],
   "window_display": false
  }
 },
 "nbformat": 4,
 "nbformat_minor": 4
}

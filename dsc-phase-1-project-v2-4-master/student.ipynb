{
 "cells": [
  {
   "cell_type": "markdown",
   "metadata": {},
   "source": [
    "## Final Project Submission\n",
    "\n",
    "Please fill out:\n",
    "* Student name: Michael Orlando, Brian Choi\n",
    "* Student pace: Full time\n",
    "* Scheduled project review date/time: 3/11/2022\n",
    "* Instructor name: Praveen Gowtham\n",
    "* Blog post URL:\n"
   ]
  },
  {
   "cell_type": "markdown",
   "metadata": {},
   "source": [
    "1. Loaded in Data"
   ]
  },
  {
   "cell_type": "code",
   "execution_count": 203,
   "metadata": {
    "ExecuteTime": {
     "end_time": "2022-03-09T22:24:10.079120Z",
     "start_time": "2022-03-09T22:24:08.766473Z"
    }
   },
   "outputs": [],
   "source": [
    "#loaded in appropriate modules\n",
    "\n",
    "import pandas as pd\n",
    "import sqlite3\n",
    "import matplotlib.pyplot as plt\n",
    "import seaborn as sns\n",
    "import warnings\n",
    "\n",
    "warnings.filterwarnings(\"ignore\")\n",
    "\n",
    "%matplotlib inline\n",
    "\n"
   ]
  },
  {
   "cell_type": "code",
   "execution_count": 204,
   "metadata": {
    "ExecuteTime": {
     "end_time": "2022-03-09T22:24:11.064181Z",
     "start_time": "2022-03-09T22:24:11.038850Z"
    }
   },
   "outputs": [
    {
     "data": {
      "text/html": [
       "<div>\n",
       "<style scoped>\n",
       "    .dataframe tbody tr th:only-of-type {\n",
       "        vertical-align: middle;\n",
       "    }\n",
       "\n",
       "    .dataframe tbody tr th {\n",
       "        vertical-align: top;\n",
       "    }\n",
       "\n",
       "    .dataframe thead th {\n",
       "        text-align: right;\n",
       "    }\n",
       "</style>\n",
       "<table border=\"1\" class=\"dataframe\">\n",
       "  <thead>\n",
       "    <tr style=\"text-align: right;\">\n",
       "      <th></th>\n",
       "      <th>Table Names</th>\n",
       "    </tr>\n",
       "  </thead>\n",
       "  <tbody>\n",
       "    <tr>\n",
       "      <th>0</th>\n",
       "      <td>movie_basics</td>\n",
       "    </tr>\n",
       "    <tr>\n",
       "      <th>1</th>\n",
       "      <td>directors</td>\n",
       "    </tr>\n",
       "    <tr>\n",
       "      <th>2</th>\n",
       "      <td>known_for</td>\n",
       "    </tr>\n",
       "    <tr>\n",
       "      <th>3</th>\n",
       "      <td>movie_akas</td>\n",
       "    </tr>\n",
       "    <tr>\n",
       "      <th>4</th>\n",
       "      <td>movie_ratings</td>\n",
       "    </tr>\n",
       "    <tr>\n",
       "      <th>5</th>\n",
       "      <td>persons</td>\n",
       "    </tr>\n",
       "    <tr>\n",
       "      <th>6</th>\n",
       "      <td>principals</td>\n",
       "    </tr>\n",
       "    <tr>\n",
       "      <th>7</th>\n",
       "      <td>writers</td>\n",
       "    </tr>\n",
       "  </tbody>\n",
       "</table>\n",
       "</div>"
      ],
      "text/plain": [
       "     Table Names\n",
       "0   movie_basics\n",
       "1      directors\n",
       "2      known_for\n",
       "3     movie_akas\n",
       "4  movie_ratings\n",
       "5        persons\n",
       "6     principals\n",
       "7        writers"
      ]
     },
     "execution_count": 204,
     "metadata": {},
     "output_type": "execute_result"
    }
   ],
   "source": [
    "#connecting to imdb database\n",
    "conn = sqlite3.connect('zippedData/im.db')\n",
    "\n",
    "#created a table query\n",
    "table_name_query = \"\"\"SELECT name \n",
    "                      AS 'Table Names' \n",
    "                      FROM sqlite_master \n",
    "                      WHERE type='table';\"\"\"\n",
    "\n",
    "\n",
    "pd.read_sql(table_name_query, conn)"
   ]
  },
  {
   "cell_type": "code",
   "execution_count": 205,
   "metadata": {
    "ExecuteTime": {
     "end_time": "2022-03-09T22:24:20.209996Z",
     "start_time": "2022-03-09T22:24:11.991974Z"
    }
   },
   "outputs": [],
   "source": [
    "#loaded in database of movie_basics joined with movie_ratings joined with movie_akas\n",
    "\n",
    "df = pd.read_sql(\"\"\"\n",
    "\n",
    "SELECT *\n",
    "FROM movie_basics\n",
    "JOIN movie_ratings\n",
    "    USING(movie_id)\n",
    "JOIN movie_akas\n",
    "    USING(movie_id)\n",
    "\n",
    "\n",
    "\"\"\", conn)"
   ]
  },
  {
   "cell_type": "code",
   "execution_count": 206,
   "metadata": {
    "ExecuteTime": {
     "end_time": "2022-03-09T22:24:21.218240Z",
     "start_time": "2022-03-09T22:24:21.171248Z"
    }
   },
   "outputs": [
    {
     "data": {
      "text/html": [
       "<div>\n",
       "<style scoped>\n",
       "    .dataframe tbody tr th:only-of-type {\n",
       "        vertical-align: middle;\n",
       "    }\n",
       "\n",
       "    .dataframe tbody tr th {\n",
       "        vertical-align: top;\n",
       "    }\n",
       "\n",
       "    .dataframe thead th {\n",
       "        text-align: right;\n",
       "    }\n",
       "</style>\n",
       "<table border=\"1\" class=\"dataframe\">\n",
       "  <thead>\n",
       "    <tr style=\"text-align: right;\">\n",
       "      <th></th>\n",
       "      <th>movie_id</th>\n",
       "      <th>primary_title</th>\n",
       "      <th>original_title</th>\n",
       "      <th>start_year</th>\n",
       "      <th>runtime_minutes</th>\n",
       "      <th>genres</th>\n",
       "      <th>averagerating</th>\n",
       "      <th>numvotes</th>\n",
       "      <th>ordering</th>\n",
       "      <th>title</th>\n",
       "      <th>region</th>\n",
       "      <th>language</th>\n",
       "      <th>types</th>\n",
       "      <th>attributes</th>\n",
       "      <th>is_original_title</th>\n",
       "    </tr>\n",
       "  </thead>\n",
       "  <tbody>\n",
       "    <tr>\n",
       "      <th>0</th>\n",
       "      <td>tt0063540</td>\n",
       "      <td>Sunghursh</td>\n",
       "      <td>Sunghursh</td>\n",
       "      <td>2013</td>\n",
       "      <td>175.0</td>\n",
       "      <td>Action,Crime,Drama</td>\n",
       "      <td>7.0</td>\n",
       "      <td>77</td>\n",
       "      <td>1</td>\n",
       "      <td>Sangharsh</td>\n",
       "      <td>IN</td>\n",
       "      <td>hi</td>\n",
       "      <td>None</td>\n",
       "      <td>alternative transliteration</td>\n",
       "      <td>0.0</td>\n",
       "    </tr>\n",
       "    <tr>\n",
       "      <th>1</th>\n",
       "      <td>tt0063540</td>\n",
       "      <td>Sunghursh</td>\n",
       "      <td>Sunghursh</td>\n",
       "      <td>2013</td>\n",
       "      <td>175.0</td>\n",
       "      <td>Action,Crime,Drama</td>\n",
       "      <td>7.0</td>\n",
       "      <td>77</td>\n",
       "      <td>2</td>\n",
       "      <td>Sunghursh</td>\n",
       "      <td>None</td>\n",
       "      <td>None</td>\n",
       "      <td>original</td>\n",
       "      <td>None</td>\n",
       "      <td>1.0</td>\n",
       "    </tr>\n",
       "    <tr>\n",
       "      <th>2</th>\n",
       "      <td>tt0063540</td>\n",
       "      <td>Sunghursh</td>\n",
       "      <td>Sunghursh</td>\n",
       "      <td>2013</td>\n",
       "      <td>175.0</td>\n",
       "      <td>Action,Crime,Drama</td>\n",
       "      <td>7.0</td>\n",
       "      <td>77</td>\n",
       "      <td>3</td>\n",
       "      <td>Sunghursh</td>\n",
       "      <td>IN</td>\n",
       "      <td>None</td>\n",
       "      <td>None</td>\n",
       "      <td>None</td>\n",
       "      <td>0.0</td>\n",
       "    </tr>\n",
       "    <tr>\n",
       "      <th>3</th>\n",
       "      <td>tt0063540</td>\n",
       "      <td>Sunghursh</td>\n",
       "      <td>Sunghursh</td>\n",
       "      <td>2013</td>\n",
       "      <td>175.0</td>\n",
       "      <td>Action,Crime,Drama</td>\n",
       "      <td>7.0</td>\n",
       "      <td>77</td>\n",
       "      <td>4</td>\n",
       "      <td>Sunghursh</td>\n",
       "      <td>IN</td>\n",
       "      <td>hi</td>\n",
       "      <td>None</td>\n",
       "      <td>alternative transliteration</td>\n",
       "      <td>0.0</td>\n",
       "    </tr>\n",
       "    <tr>\n",
       "      <th>4</th>\n",
       "      <td>tt0063540</td>\n",
       "      <td>Sunghursh</td>\n",
       "      <td>Sunghursh</td>\n",
       "      <td>2013</td>\n",
       "      <td>175.0</td>\n",
       "      <td>Action,Crime,Drama</td>\n",
       "      <td>7.0</td>\n",
       "      <td>77</td>\n",
       "      <td>5</td>\n",
       "      <td>Sungharsh</td>\n",
       "      <td>IN</td>\n",
       "      <td>hi</td>\n",
       "      <td>None</td>\n",
       "      <td>alternative spelling</td>\n",
       "      <td>0.0</td>\n",
       "    </tr>\n",
       "  </tbody>\n",
       "</table>\n",
       "</div>"
      ],
      "text/plain": [
       "    movie_id primary_title original_title  start_year  runtime_minutes  \\\n",
       "0  tt0063540     Sunghursh      Sunghursh        2013            175.0   \n",
       "1  tt0063540     Sunghursh      Sunghursh        2013            175.0   \n",
       "2  tt0063540     Sunghursh      Sunghursh        2013            175.0   \n",
       "3  tt0063540     Sunghursh      Sunghursh        2013            175.0   \n",
       "4  tt0063540     Sunghursh      Sunghursh        2013            175.0   \n",
       "\n",
       "               genres  averagerating  numvotes  ordering      title region  \\\n",
       "0  Action,Crime,Drama            7.0        77         1  Sangharsh     IN   \n",
       "1  Action,Crime,Drama            7.0        77         2  Sunghursh   None   \n",
       "2  Action,Crime,Drama            7.0        77         3  Sunghursh     IN   \n",
       "3  Action,Crime,Drama            7.0        77         4  Sunghursh     IN   \n",
       "4  Action,Crime,Drama            7.0        77         5  Sungharsh     IN   \n",
       "\n",
       "  language     types                   attributes  is_original_title  \n",
       "0       hi      None  alternative transliteration                0.0  \n",
       "1     None  original                         None                1.0  \n",
       "2     None      None                         None                0.0  \n",
       "3       hi      None  alternative transliteration                0.0  \n",
       "4       hi      None         alternative spelling                0.0  "
      ]
     },
     "execution_count": 206,
     "metadata": {},
     "output_type": "execute_result"
    }
   ],
   "source": [
    "df.head()"
   ]
  },
  {
   "cell_type": "code",
   "execution_count": 207,
   "metadata": {
    "ExecuteTime": {
     "end_time": "2022-03-09T22:24:22.138346Z",
     "start_time": "2022-03-09T22:24:22.089121Z"
    }
   },
   "outputs": [],
   "source": [
    "#loaded in budgets csv file\n",
    "df2 = pd.read_csv('zippedData/tn.movie_budgets.csv.gz', compression='gzip')"
   ]
  },
  {
   "cell_type": "code",
   "execution_count": 208,
   "metadata": {
    "ExecuteTime": {
     "end_time": "2022-03-09T22:24:23.028395Z",
     "start_time": "2022-03-09T22:24:23.000912Z"
    }
   },
   "outputs": [
    {
     "data": {
      "text/html": [
       "<div>\n",
       "<style scoped>\n",
       "    .dataframe tbody tr th:only-of-type {\n",
       "        vertical-align: middle;\n",
       "    }\n",
       "\n",
       "    .dataframe tbody tr th {\n",
       "        vertical-align: top;\n",
       "    }\n",
       "\n",
       "    .dataframe thead th {\n",
       "        text-align: right;\n",
       "    }\n",
       "</style>\n",
       "<table border=\"1\" class=\"dataframe\">\n",
       "  <thead>\n",
       "    <tr style=\"text-align: right;\">\n",
       "      <th></th>\n",
       "      <th>id</th>\n",
       "      <th>release_date</th>\n",
       "      <th>movie</th>\n",
       "      <th>production_budget</th>\n",
       "      <th>domestic_gross</th>\n",
       "      <th>worldwide_gross</th>\n",
       "    </tr>\n",
       "  </thead>\n",
       "  <tbody>\n",
       "    <tr>\n",
       "      <th>0</th>\n",
       "      <td>1</td>\n",
       "      <td>Dec 18, 2009</td>\n",
       "      <td>Avatar</td>\n",
       "      <td>$425,000,000</td>\n",
       "      <td>$760,507,625</td>\n",
       "      <td>$2,776,345,279</td>\n",
       "    </tr>\n",
       "    <tr>\n",
       "      <th>1</th>\n",
       "      <td>2</td>\n",
       "      <td>May 20, 2011</td>\n",
       "      <td>Pirates of the Caribbean: On Stranger Tides</td>\n",
       "      <td>$410,600,000</td>\n",
       "      <td>$241,063,875</td>\n",
       "      <td>$1,045,663,875</td>\n",
       "    </tr>\n",
       "    <tr>\n",
       "      <th>2</th>\n",
       "      <td>3</td>\n",
       "      <td>Jun 7, 2019</td>\n",
       "      <td>Dark Phoenix</td>\n",
       "      <td>$350,000,000</td>\n",
       "      <td>$42,762,350</td>\n",
       "      <td>$149,762,350</td>\n",
       "    </tr>\n",
       "    <tr>\n",
       "      <th>3</th>\n",
       "      <td>4</td>\n",
       "      <td>May 1, 2015</td>\n",
       "      <td>Avengers: Age of Ultron</td>\n",
       "      <td>$330,600,000</td>\n",
       "      <td>$459,005,868</td>\n",
       "      <td>$1,403,013,963</td>\n",
       "    </tr>\n",
       "    <tr>\n",
       "      <th>4</th>\n",
       "      <td>5</td>\n",
       "      <td>Dec 15, 2017</td>\n",
       "      <td>Star Wars Ep. VIII: The Last Jedi</td>\n",
       "      <td>$317,000,000</td>\n",
       "      <td>$620,181,382</td>\n",
       "      <td>$1,316,721,747</td>\n",
       "    </tr>\n",
       "  </tbody>\n",
       "</table>\n",
       "</div>"
      ],
      "text/plain": [
       "   id  release_date                                        movie  \\\n",
       "0   1  Dec 18, 2009                                       Avatar   \n",
       "1   2  May 20, 2011  Pirates of the Caribbean: On Stranger Tides   \n",
       "2   3   Jun 7, 2019                                 Dark Phoenix   \n",
       "3   4   May 1, 2015                      Avengers: Age of Ultron   \n",
       "4   5  Dec 15, 2017            Star Wars Ep. VIII: The Last Jedi   \n",
       "\n",
       "  production_budget domestic_gross worldwide_gross  \n",
       "0      $425,000,000   $760,507,625  $2,776,345,279  \n",
       "1      $410,600,000   $241,063,875  $1,045,663,875  \n",
       "2      $350,000,000    $42,762,350    $149,762,350  \n",
       "3      $330,600,000   $459,005,868  $1,403,013,963  \n",
       "4      $317,000,000   $620,181,382  $1,316,721,747  "
      ]
     },
     "execution_count": 208,
     "metadata": {},
     "output_type": "execute_result"
    }
   ],
   "source": [
    "df2.head()"
   ]
  },
  {
   "cell_type": "markdown",
   "metadata": {},
   "source": [
    "2. Clean and Manipulate Data"
   ]
  },
  {
   "cell_type": "code",
   "execution_count": 209,
   "metadata": {
    "ExecuteTime": {
     "end_time": "2022-03-09T22:24:24.098862Z",
     "start_time": "2022-03-09T22:24:23.938773Z"
    }
   },
   "outputs": [],
   "source": [
    "#dropped duplicates and unnecessary columns for data analysis\n",
    "df.drop_duplicates(subset=['movie_id'], inplace=True)\n",
    "df.drop(columns=['primary_title', 'original_title', 'ordering', 'region', 'types', 'attributes', 'is_original_title'], inplace=True)"
   ]
  },
  {
   "cell_type": "code",
   "execution_count": 210,
   "metadata": {
    "ExecuteTime": {
     "end_time": "2022-03-09T22:24:25.014893Z",
     "start_time": "2022-03-09T22:24:24.999001Z"
    }
   },
   "outputs": [],
   "source": [
    "df2.rename(columns={'movie': 'title'}, inplace=True)"
   ]
  },
  {
   "cell_type": "code",
   "execution_count": 211,
   "metadata": {
    "ExecuteTime": {
     "end_time": "2022-03-09T22:24:26.018274Z",
     "start_time": "2022-03-09T22:24:25.936550Z"
    }
   },
   "outputs": [],
   "source": [
    "merged = df.merge(df2, on='title')"
   ]
  },
  {
   "cell_type": "code",
   "execution_count": 212,
   "metadata": {
    "ExecuteTime": {
     "end_time": "2022-03-09T22:24:26.946468Z",
     "start_time": "2022-03-09T22:24:26.901315Z"
    }
   },
   "outputs": [
    {
     "data": {
      "text/html": [
       "<div>\n",
       "<style scoped>\n",
       "    .dataframe tbody tr th:only-of-type {\n",
       "        vertical-align: middle;\n",
       "    }\n",
       "\n",
       "    .dataframe tbody tr th {\n",
       "        vertical-align: top;\n",
       "    }\n",
       "\n",
       "    .dataframe thead th {\n",
       "        text-align: right;\n",
       "    }\n",
       "</style>\n",
       "<table border=\"1\" class=\"dataframe\">\n",
       "  <thead>\n",
       "    <tr style=\"text-align: right;\">\n",
       "      <th></th>\n",
       "      <th>movie_id</th>\n",
       "      <th>start_year</th>\n",
       "      <th>runtime_minutes</th>\n",
       "      <th>genres</th>\n",
       "      <th>averagerating</th>\n",
       "      <th>numvotes</th>\n",
       "      <th>title</th>\n",
       "      <th>language</th>\n",
       "      <th>id</th>\n",
       "      <th>release_date</th>\n",
       "      <th>production_budget</th>\n",
       "      <th>domestic_gross</th>\n",
       "      <th>worldwide_gross</th>\n",
       "    </tr>\n",
       "  </thead>\n",
       "  <tbody>\n",
       "    <tr>\n",
       "      <th>0</th>\n",
       "      <td>tt0339736</td>\n",
       "      <td>2017</td>\n",
       "      <td>98.0</td>\n",
       "      <td>Horror</td>\n",
       "      <td>5.6</td>\n",
       "      <td>2420</td>\n",
       "      <td>Whiplash</td>\n",
       "      <td>None</td>\n",
       "      <td>43</td>\n",
       "      <td>Oct 10, 2014</td>\n",
       "      <td>$3,300,000</td>\n",
       "      <td>$13,092,006</td>\n",
       "      <td>$38,969,037</td>\n",
       "    </tr>\n",
       "    <tr>\n",
       "      <th>1</th>\n",
       "      <td>tt0393049</td>\n",
       "      <td>2010</td>\n",
       "      <td>98.0</td>\n",
       "      <td>Comedy,Drama,Romance</td>\n",
       "      <td>5.5</td>\n",
       "      <td>106</td>\n",
       "      <td>Anderson's Cross</td>\n",
       "      <td>None</td>\n",
       "      <td>65</td>\n",
       "      <td>Dec 31, 2010</td>\n",
       "      <td>$300,000</td>\n",
       "      <td>$0</td>\n",
       "      <td>$0</td>\n",
       "    </tr>\n",
       "    <tr>\n",
       "      <th>2</th>\n",
       "      <td>tt0426566</td>\n",
       "      <td>2012</td>\n",
       "      <td>NaN</td>\n",
       "      <td>Drama</td>\n",
       "      <td>6.0</td>\n",
       "      <td>13</td>\n",
       "      <td>Breakdown</td>\n",
       "      <td>None</td>\n",
       "      <td>11</td>\n",
       "      <td>May 2, 1997</td>\n",
       "      <td>$36,000,000</td>\n",
       "      <td>$50,159,144</td>\n",
       "      <td>$50,159,144</td>\n",
       "    </tr>\n",
       "    <tr>\n",
       "      <th>3</th>\n",
       "      <td>tt0436230</td>\n",
       "      <td>2010</td>\n",
       "      <td>NaN</td>\n",
       "      <td>Horror,Thriller</td>\n",
       "      <td>6.7</td>\n",
       "      <td>34</td>\n",
       "      <td>The Devil Inside</td>\n",
       "      <td>None</td>\n",
       "      <td>12</td>\n",
       "      <td>Jan 6, 2012</td>\n",
       "      <td>$1,000,000</td>\n",
       "      <td>$53,262,945</td>\n",
       "      <td>$101,759,490</td>\n",
       "    </tr>\n",
       "    <tr>\n",
       "      <th>4</th>\n",
       "      <td>tt0437086</td>\n",
       "      <td>2019</td>\n",
       "      <td>122.0</td>\n",
       "      <td>Action,Adventure,Sci-Fi</td>\n",
       "      <td>7.5</td>\n",
       "      <td>88207</td>\n",
       "      <td>Alita: Battle Angel</td>\n",
       "      <td>None</td>\n",
       "      <td>24</td>\n",
       "      <td>Feb 14, 2019</td>\n",
       "      <td>$170,000,000</td>\n",
       "      <td>$85,710,210</td>\n",
       "      <td>$402,976,036</td>\n",
       "    </tr>\n",
       "  </tbody>\n",
       "</table>\n",
       "</div>"
      ],
      "text/plain": [
       "    movie_id  start_year  runtime_minutes                   genres  \\\n",
       "0  tt0339736        2017             98.0                   Horror   \n",
       "1  tt0393049        2010             98.0     Comedy,Drama,Romance   \n",
       "2  tt0426566        2012              NaN                    Drama   \n",
       "3  tt0436230        2010              NaN          Horror,Thriller   \n",
       "4  tt0437086        2019            122.0  Action,Adventure,Sci-Fi   \n",
       "\n",
       "   averagerating  numvotes                title language  id  release_date  \\\n",
       "0            5.6      2420             Whiplash     None  43  Oct 10, 2014   \n",
       "1            5.5       106     Anderson's Cross     None  65  Dec 31, 2010   \n",
       "2            6.0        13            Breakdown     None  11   May 2, 1997   \n",
       "3            6.7        34     The Devil Inside     None  12   Jan 6, 2012   \n",
       "4            7.5     88207  Alita: Battle Angel     None  24  Feb 14, 2019   \n",
       "\n",
       "  production_budget domestic_gross worldwide_gross  \n",
       "0        $3,300,000    $13,092,006     $38,969,037  \n",
       "1          $300,000             $0              $0  \n",
       "2       $36,000,000    $50,159,144     $50,159,144  \n",
       "3        $1,000,000    $53,262,945    $101,759,490  \n",
       "4      $170,000,000    $85,710,210    $402,976,036  "
      ]
     },
     "execution_count": 212,
     "metadata": {},
     "output_type": "execute_result"
    }
   ],
   "source": [
    "merged.head()"
   ]
  },
  {
   "cell_type": "code",
   "execution_count": 213,
   "metadata": {
    "ExecuteTime": {
     "end_time": "2022-03-09T22:24:27.888959Z",
     "start_time": "2022-03-09T22:24:27.852457Z"
    }
   },
   "outputs": [],
   "source": [
    "#changing values in merged.genres to lists and dropping more unneccessary columns\n",
    "merged.genres = merged.genres.str.split(',')\n",
    "merged.dropna(subset=['genres'], inplace=True)\n",
    "merged.drop(columns=['language'], inplace=True)"
   ]
  },
  {
   "cell_type": "code",
   "execution_count": 214,
   "metadata": {
    "ExecuteTime": {
     "end_time": "2022-03-09T22:24:28.754164Z",
     "start_time": "2022-03-09T22:24:28.729085Z"
    }
   },
   "outputs": [
    {
     "name": "stdout",
     "output_type": "stream",
     "text": [
      "<class 'pandas.core.frame.DataFrame'>\n",
      "Int64Index: 1225 entries, 0 to 1227\n",
      "Data columns (total 12 columns):\n",
      " #   Column             Non-Null Count  Dtype  \n",
      "---  ------             --------------  -----  \n",
      " 0   movie_id           1225 non-null   object \n",
      " 1   start_year         1225 non-null   int64  \n",
      " 2   runtime_minutes    1127 non-null   float64\n",
      " 3   genres             1225 non-null   object \n",
      " 4   averagerating      1225 non-null   float64\n",
      " 5   numvotes           1225 non-null   int64  \n",
      " 6   title              1225 non-null   object \n",
      " 7   id                 1225 non-null   int64  \n",
      " 8   release_date       1225 non-null   object \n",
      " 9   production_budget  1225 non-null   object \n",
      " 10  domestic_gross     1225 non-null   object \n",
      " 11  worldwide_gross    1225 non-null   object \n",
      "dtypes: float64(2), int64(3), object(7)\n",
      "memory usage: 124.4+ KB\n"
     ]
    }
   ],
   "source": [
    "merged.info()"
   ]
  },
  {
   "cell_type": "code",
   "execution_count": 215,
   "metadata": {
    "ExecuteTime": {
     "end_time": "2022-03-09T22:24:29.650784Z",
     "start_time": "2022-03-09T22:24:29.618786Z"
    }
   },
   "outputs": [
    {
     "data": {
      "text/plain": [
       "['Western',\n",
       " 'Fantasy',\n",
       " 'Drama',\n",
       " 'Musical',\n",
       " 'News',\n",
       " 'Documentary',\n",
       " 'Music',\n",
       " 'Horror',\n",
       " 'Sport',\n",
       " 'Adventure',\n",
       " 'Thriller',\n",
       " 'Animation',\n",
       " 'Biography',\n",
       " 'Family',\n",
       " 'History',\n",
       " 'Mystery',\n",
       " 'Crime',\n",
       " 'Romance',\n",
       " 'Sci-Fi',\n",
       " 'Comedy',\n",
       " 'War',\n",
       " 'Action']"
      ]
     },
     "execution_count": 215,
     "metadata": {},
     "output_type": "execute_result"
    }
   ],
   "source": [
    "#creating an unique genre list\n",
    "\n",
    "genre_columns = []\n",
    "\n",
    "for i in merged.genres:\n",
    "    for x in i:\n",
    "        genre_columns.append(x)\n",
    "\n",
    "genre_columns = list(set(genre_columns))\n",
    "\n",
    "genre_columns"
   ]
  },
  {
   "cell_type": "code",
   "execution_count": 216,
   "metadata": {
    "ExecuteTime": {
     "end_time": "2022-03-09T22:24:30.552766Z",
     "start_time": "2022-03-09T22:24:30.539343Z"
    }
   },
   "outputs": [],
   "source": [
    "#created a function to add genre columns encoded by 1 (if movie fits this genre) and 0 (if movie doesn't fit this genre)\n",
    "\n",
    "def binary_genres(lst, genre):   \n",
    "    if genre in lst:\n",
    "        return 1\n",
    "    else:\n",
    "        return 0\n",
    "    \n",
    "#looping through genre columns to apply binary_genres function to add new columns\n",
    "for i in genre_columns:\n",
    "    merged[i] = merged.genres.apply(lambda x: binary_genres(x, i)"
   ]
  },
  {
   "cell_type": "code",
   "execution_count": 218,
   "metadata": {
    "ExecuteTime": {
     "end_time": "2022-03-09T22:24:32.548335Z",
     "start_time": "2022-03-09T22:24:32.470960Z"
    }
   },
   "outputs": [
    {
     "data": {
      "text/html": [
       "<div>\n",
       "<style scoped>\n",
       "    .dataframe tbody tr th:only-of-type {\n",
       "        vertical-align: middle;\n",
       "    }\n",
       "\n",
       "    .dataframe tbody tr th {\n",
       "        vertical-align: top;\n",
       "    }\n",
       "\n",
       "    .dataframe thead th {\n",
       "        text-align: right;\n",
       "    }\n",
       "</style>\n",
       "<table border=\"1\" class=\"dataframe\">\n",
       "  <thead>\n",
       "    <tr style=\"text-align: right;\">\n",
       "      <th></th>\n",
       "      <th>movie_id</th>\n",
       "      <th>start_year</th>\n",
       "      <th>runtime_minutes</th>\n",
       "      <th>genres</th>\n",
       "      <th>averagerating</th>\n",
       "      <th>numvotes</th>\n",
       "      <th>title</th>\n",
       "      <th>id</th>\n",
       "      <th>release_date</th>\n",
       "      <th>production_budget</th>\n",
       "      <th>...</th>\n",
       "      <th>Biography</th>\n",
       "      <th>Family</th>\n",
       "      <th>History</th>\n",
       "      <th>Mystery</th>\n",
       "      <th>Crime</th>\n",
       "      <th>Romance</th>\n",
       "      <th>Sci-Fi</th>\n",
       "      <th>Comedy</th>\n",
       "      <th>War</th>\n",
       "      <th>Action</th>\n",
       "    </tr>\n",
       "  </thead>\n",
       "  <tbody>\n",
       "    <tr>\n",
       "      <th>0</th>\n",
       "      <td>tt0339736</td>\n",
       "      <td>2017</td>\n",
       "      <td>98.0</td>\n",
       "      <td>[Horror]</td>\n",
       "      <td>5.6</td>\n",
       "      <td>2420</td>\n",
       "      <td>Whiplash</td>\n",
       "      <td>43</td>\n",
       "      <td>Oct 10, 2014</td>\n",
       "      <td>$3,300,000</td>\n",
       "      <td>...</td>\n",
       "      <td>0</td>\n",
       "      <td>0</td>\n",
       "      <td>0</td>\n",
       "      <td>0</td>\n",
       "      <td>0</td>\n",
       "      <td>0</td>\n",
       "      <td>0</td>\n",
       "      <td>0</td>\n",
       "      <td>0</td>\n",
       "      <td>0</td>\n",
       "    </tr>\n",
       "    <tr>\n",
       "      <th>1</th>\n",
       "      <td>tt0393049</td>\n",
       "      <td>2010</td>\n",
       "      <td>98.0</td>\n",
       "      <td>[Comedy, Drama, Romance]</td>\n",
       "      <td>5.5</td>\n",
       "      <td>106</td>\n",
       "      <td>Anderson's Cross</td>\n",
       "      <td>65</td>\n",
       "      <td>Dec 31, 2010</td>\n",
       "      <td>$300,000</td>\n",
       "      <td>...</td>\n",
       "      <td>0</td>\n",
       "      <td>0</td>\n",
       "      <td>0</td>\n",
       "      <td>0</td>\n",
       "      <td>0</td>\n",
       "      <td>1</td>\n",
       "      <td>0</td>\n",
       "      <td>1</td>\n",
       "      <td>0</td>\n",
       "      <td>0</td>\n",
       "    </tr>\n",
       "    <tr>\n",
       "      <th>2</th>\n",
       "      <td>tt0426566</td>\n",
       "      <td>2012</td>\n",
       "      <td>NaN</td>\n",
       "      <td>[Drama]</td>\n",
       "      <td>6.0</td>\n",
       "      <td>13</td>\n",
       "      <td>Breakdown</td>\n",
       "      <td>11</td>\n",
       "      <td>May 2, 1997</td>\n",
       "      <td>$36,000,000</td>\n",
       "      <td>...</td>\n",
       "      <td>0</td>\n",
       "      <td>0</td>\n",
       "      <td>0</td>\n",
       "      <td>0</td>\n",
       "      <td>0</td>\n",
       "      <td>0</td>\n",
       "      <td>0</td>\n",
       "      <td>0</td>\n",
       "      <td>0</td>\n",
       "      <td>0</td>\n",
       "    </tr>\n",
       "    <tr>\n",
       "      <th>3</th>\n",
       "      <td>tt0436230</td>\n",
       "      <td>2010</td>\n",
       "      <td>NaN</td>\n",
       "      <td>[Horror, Thriller]</td>\n",
       "      <td>6.7</td>\n",
       "      <td>34</td>\n",
       "      <td>The Devil Inside</td>\n",
       "      <td>12</td>\n",
       "      <td>Jan 6, 2012</td>\n",
       "      <td>$1,000,000</td>\n",
       "      <td>...</td>\n",
       "      <td>0</td>\n",
       "      <td>0</td>\n",
       "      <td>0</td>\n",
       "      <td>0</td>\n",
       "      <td>0</td>\n",
       "      <td>0</td>\n",
       "      <td>0</td>\n",
       "      <td>0</td>\n",
       "      <td>0</td>\n",
       "      <td>0</td>\n",
       "    </tr>\n",
       "    <tr>\n",
       "      <th>4</th>\n",
       "      <td>tt0437086</td>\n",
       "      <td>2019</td>\n",
       "      <td>122.0</td>\n",
       "      <td>[Action, Adventure, Sci-Fi]</td>\n",
       "      <td>7.5</td>\n",
       "      <td>88207</td>\n",
       "      <td>Alita: Battle Angel</td>\n",
       "      <td>24</td>\n",
       "      <td>Feb 14, 2019</td>\n",
       "      <td>$170,000,000</td>\n",
       "      <td>...</td>\n",
       "      <td>0</td>\n",
       "      <td>0</td>\n",
       "      <td>0</td>\n",
       "      <td>0</td>\n",
       "      <td>0</td>\n",
       "      <td>0</td>\n",
       "      <td>1</td>\n",
       "      <td>0</td>\n",
       "      <td>0</td>\n",
       "      <td>1</td>\n",
       "    </tr>\n",
       "    <tr>\n",
       "      <th>...</th>\n",
       "      <td>...</td>\n",
       "      <td>...</td>\n",
       "      <td>...</td>\n",
       "      <td>...</td>\n",
       "      <td>...</td>\n",
       "      <td>...</td>\n",
       "      <td>...</td>\n",
       "      <td>...</td>\n",
       "      <td>...</td>\n",
       "      <td>...</td>\n",
       "      <td>...</td>\n",
       "      <td>...</td>\n",
       "      <td>...</td>\n",
       "      <td>...</td>\n",
       "      <td>...</td>\n",
       "      <td>...</td>\n",
       "      <td>...</td>\n",
       "      <td>...</td>\n",
       "      <td>...</td>\n",
       "      <td>...</td>\n",
       "      <td>...</td>\n",
       "    </tr>\n",
       "    <tr>\n",
       "      <th>1223</th>\n",
       "      <td>tt8266310</td>\n",
       "      <td>2019</td>\n",
       "      <td>117.0</td>\n",
       "      <td>[Biography, Comedy, Drama]</td>\n",
       "      <td>6.2</td>\n",
       "      <td>173</td>\n",
       "      <td>Blinded by the Light</td>\n",
       "      <td>64</td>\n",
       "      <td>Aug 14, 2019</td>\n",
       "      <td>$15,000,000</td>\n",
       "      <td>...</td>\n",
       "      <td>1</td>\n",
       "      <td>0</td>\n",
       "      <td>0</td>\n",
       "      <td>0</td>\n",
       "      <td>0</td>\n",
       "      <td>0</td>\n",
       "      <td>0</td>\n",
       "      <td>1</td>\n",
       "      <td>0</td>\n",
       "      <td>0</td>\n",
       "    </tr>\n",
       "    <tr>\n",
       "      <th>1224</th>\n",
       "      <td>tt8450662</td>\n",
       "      <td>2018</td>\n",
       "      <td>66.0</td>\n",
       "      <td>[Documentary]</td>\n",
       "      <td>7.3</td>\n",
       "      <td>22</td>\n",
       "      <td>Beloved</td>\n",
       "      <td>65</td>\n",
       "      <td>Oct 16, 1998</td>\n",
       "      <td>$53,000,000</td>\n",
       "      <td>...</td>\n",
       "      <td>0</td>\n",
       "      <td>0</td>\n",
       "      <td>0</td>\n",
       "      <td>0</td>\n",
       "      <td>0</td>\n",
       "      <td>0</td>\n",
       "      <td>0</td>\n",
       "      <td>0</td>\n",
       "      <td>0</td>\n",
       "      <td>0</td>\n",
       "    </tr>\n",
       "    <tr>\n",
       "      <th>1225</th>\n",
       "      <td>tt8632862</td>\n",
       "      <td>2018</td>\n",
       "      <td>128.0</td>\n",
       "      <td>[Documentary]</td>\n",
       "      <td>6.7</td>\n",
       "      <td>11628</td>\n",
       "      <td>Fahrenheit 11/9</td>\n",
       "      <td>29</td>\n",
       "      <td>Sep 21, 2018</td>\n",
       "      <td>$5,000,000</td>\n",
       "      <td>...</td>\n",
       "      <td>0</td>\n",
       "      <td>0</td>\n",
       "      <td>0</td>\n",
       "      <td>0</td>\n",
       "      <td>0</td>\n",
       "      <td>0</td>\n",
       "      <td>0</td>\n",
       "      <td>0</td>\n",
       "      <td>0</td>\n",
       "      <td>0</td>\n",
       "    </tr>\n",
       "    <tr>\n",
       "      <th>1226</th>\n",
       "      <td>tt8816388</td>\n",
       "      <td>2018</td>\n",
       "      <td>28.0</td>\n",
       "      <td>[Documentary]</td>\n",
       "      <td>5.7</td>\n",
       "      <td>7</td>\n",
       "      <td>Demonic</td>\n",
       "      <td>56</td>\n",
       "      <td>Oct 10, 2017</td>\n",
       "      <td>$3,000,000</td>\n",
       "      <td>...</td>\n",
       "      <td>0</td>\n",
       "      <td>0</td>\n",
       "      <td>0</td>\n",
       "      <td>0</td>\n",
       "      <td>0</td>\n",
       "      <td>0</td>\n",
       "      <td>0</td>\n",
       "      <td>0</td>\n",
       "      <td>0</td>\n",
       "      <td>0</td>\n",
       "    </tr>\n",
       "    <tr>\n",
       "      <th>1227</th>\n",
       "      <td>tt9024106</td>\n",
       "      <td>2019</td>\n",
       "      <td>106.0</td>\n",
       "      <td>[Biography, Drama]</td>\n",
       "      <td>6.3</td>\n",
       "      <td>5945</td>\n",
       "      <td>Unplanned</td>\n",
       "      <td>33</td>\n",
       "      <td>Mar 29, 2019</td>\n",
       "      <td>$6,000,000</td>\n",
       "      <td>...</td>\n",
       "      <td>1</td>\n",
       "      <td>0</td>\n",
       "      <td>0</td>\n",
       "      <td>0</td>\n",
       "      <td>0</td>\n",
       "      <td>0</td>\n",
       "      <td>0</td>\n",
       "      <td>0</td>\n",
       "      <td>0</td>\n",
       "      <td>0</td>\n",
       "    </tr>\n",
       "  </tbody>\n",
       "</table>\n",
       "<p>1225 rows × 34 columns</p>\n",
       "</div>"
      ],
      "text/plain": [
       "       movie_id  start_year  runtime_minutes                       genres  \\\n",
       "0     tt0339736        2017             98.0                     [Horror]   \n",
       "1     tt0393049        2010             98.0     [Comedy, Drama, Romance]   \n",
       "2     tt0426566        2012              NaN                      [Drama]   \n",
       "3     tt0436230        2010              NaN           [Horror, Thriller]   \n",
       "4     tt0437086        2019            122.0  [Action, Adventure, Sci-Fi]   \n",
       "...         ...         ...              ...                          ...   \n",
       "1223  tt8266310        2019            117.0   [Biography, Comedy, Drama]   \n",
       "1224  tt8450662        2018             66.0                [Documentary]   \n",
       "1225  tt8632862        2018            128.0                [Documentary]   \n",
       "1226  tt8816388        2018             28.0                [Documentary]   \n",
       "1227  tt9024106        2019            106.0           [Biography, Drama]   \n",
       "\n",
       "      averagerating  numvotes                 title  id  release_date  \\\n",
       "0               5.6      2420              Whiplash  43  Oct 10, 2014   \n",
       "1               5.5       106      Anderson's Cross  65  Dec 31, 2010   \n",
       "2               6.0        13             Breakdown  11   May 2, 1997   \n",
       "3               6.7        34      The Devil Inside  12   Jan 6, 2012   \n",
       "4               7.5     88207   Alita: Battle Angel  24  Feb 14, 2019   \n",
       "...             ...       ...                   ...  ..           ...   \n",
       "1223            6.2       173  Blinded by the Light  64  Aug 14, 2019   \n",
       "1224            7.3        22               Beloved  65  Oct 16, 1998   \n",
       "1225            6.7     11628       Fahrenheit 11/9  29  Sep 21, 2018   \n",
       "1226            5.7         7               Demonic  56  Oct 10, 2017   \n",
       "1227            6.3      5945             Unplanned  33  Mar 29, 2019   \n",
       "\n",
       "     production_budget  ... Biography Family  History  Mystery  Crime  \\\n",
       "0           $3,300,000  ...         0      0        0        0      0   \n",
       "1             $300,000  ...         0      0        0        0      0   \n",
       "2          $36,000,000  ...         0      0        0        0      0   \n",
       "3           $1,000,000  ...         0      0        0        0      0   \n",
       "4         $170,000,000  ...         0      0        0        0      0   \n",
       "...                ...  ...       ...    ...      ...      ...    ...   \n",
       "1223       $15,000,000  ...         1      0        0        0      0   \n",
       "1224       $53,000,000  ...         0      0        0        0      0   \n",
       "1225        $5,000,000  ...         0      0        0        0      0   \n",
       "1226        $3,000,000  ...         0      0        0        0      0   \n",
       "1227        $6,000,000  ...         1      0        0        0      0   \n",
       "\n",
       "      Romance  Sci-Fi  Comedy  War  Action  \n",
       "0           0       0       0    0       0  \n",
       "1           1       0       1    0       0  \n",
       "2           0       0       0    0       0  \n",
       "3           0       0       0    0       0  \n",
       "4           0       1       0    0       1  \n",
       "...       ...     ...     ...  ...     ...  \n",
       "1223        0       0       1    0       0  \n",
       "1224        0       0       0    0       0  \n",
       "1225        0       0       0    0       0  \n",
       "1226        0       0       0    0       0  \n",
       "1227        0       0       0    0       0  \n",
       "\n",
       "[1225 rows x 34 columns]"
      ]
     },
     "execution_count": 218,
     "metadata": {},
     "output_type": "execute_result"
    }
   ],
   "source": [
    "merged"
   ]
  },
  {
   "cell_type": "code",
   "execution_count": 219,
   "metadata": {
    "ExecuteTime": {
     "end_time": "2022-03-09T22:24:33.459053Z",
     "start_time": "2022-03-09T22:24:33.441476Z"
    }
   },
   "outputs": [],
   "source": [
    "#converting production_budget type from str -> float\n",
    "merged.production_budget = merged['production_budget'].str.strip('$')\n",
    "merged.production_budget = merged['production_budget'].str.replace(',', '')\n",
    "merged.production_budget = merged.production_budget.astype('float')"
   ]
  },
  {
   "cell_type": "code",
   "execution_count": 220,
   "metadata": {
    "ExecuteTime": {
     "end_time": "2022-03-09T22:24:34.371820Z",
     "start_time": "2022-03-09T22:24:34.355445Z"
    }
   },
   "outputs": [],
   "source": [
    "#converting worldwide_gross type from str -> float\n",
    "merged.worldwide_gross = merged['worldwide_gross'].str.strip('$')\n",
    "merged.worldwide_gross = merged['worldwide_gross'].str.replace(',', '')\n",
    "merged.worldwide_gross = merged.worldwide_gross.astype('float')"
   ]
  },
  {
   "cell_type": "code",
   "execution_count": 221,
   "metadata": {
    "ExecuteTime": {
     "end_time": "2022-03-09T22:24:35.299181Z",
     "start_time": "2022-03-09T22:24:35.271638Z"
    }
   },
   "outputs": [],
   "source": [
    "#converting domestic_gross type from str -> float\n",
    "merged.domestic_gross = merged['domestic_gross'].str.strip('$')\n",
    "merged.domestic_gross = merged['domestic_gross'].str.replace(',', '')\n",
    "merged.domestic_gross = merged.domestic_gross.astype('float')"
   ]
  },
  {
   "cell_type": "code",
   "execution_count": 222,
   "metadata": {
    "ExecuteTime": {
     "end_time": "2022-03-09T22:24:36.268414Z",
     "start_time": "2022-03-09T22:24:36.230274Z"
    }
   },
   "outputs": [
    {
     "name": "stdout",
     "output_type": "stream",
     "text": [
      "<class 'pandas.core.frame.DataFrame'>\n",
      "Int64Index: 1225 entries, 0 to 1227\n",
      "Data columns (total 34 columns):\n",
      " #   Column             Non-Null Count  Dtype  \n",
      "---  ------             --------------  -----  \n",
      " 0   movie_id           1225 non-null   object \n",
      " 1   start_year         1225 non-null   int64  \n",
      " 2   runtime_minutes    1127 non-null   float64\n",
      " 3   genres             1225 non-null   object \n",
      " 4   averagerating      1225 non-null   float64\n",
      " 5   numvotes           1225 non-null   int64  \n",
      " 6   title              1225 non-null   object \n",
      " 7   id                 1225 non-null   int64  \n",
      " 8   release_date       1225 non-null   object \n",
      " 9   production_budget  1225 non-null   float64\n",
      " 10  domestic_gross     1225 non-null   float64\n",
      " 11  worldwide_gross    1225 non-null   float64\n",
      " 12  Western            1225 non-null   int64  \n",
      " 13  Fantasy            1225 non-null   int64  \n",
      " 14  Drama              1225 non-null   int64  \n",
      " 15  Musical            1225 non-null   int64  \n",
      " 16  News               1225 non-null   int64  \n",
      " 17  Documentary        1225 non-null   int64  \n",
      " 18  Music              1225 non-null   int64  \n",
      " 19  Horror             1225 non-null   int64  \n",
      " 20  Sport              1225 non-null   int64  \n",
      " 21  Adventure          1225 non-null   int64  \n",
      " 22  Thriller           1225 non-null   int64  \n",
      " 23  Animation          1225 non-null   int64  \n",
      " 24  Biography          1225 non-null   int64  \n",
      " 25  Family             1225 non-null   int64  \n",
      " 26  History            1225 non-null   int64  \n",
      " 27  Mystery            1225 non-null   int64  \n",
      " 28  Crime              1225 non-null   int64  \n",
      " 29  Romance            1225 non-null   int64  \n",
      " 30  Sci-Fi             1225 non-null   int64  \n",
      " 31  Comedy             1225 non-null   int64  \n",
      " 32  War                1225 non-null   int64  \n",
      " 33  Action             1225 non-null   int64  \n",
      "dtypes: float64(5), int64(25), object(4)\n",
      "memory usage: 335.0+ KB\n"
     ]
    }
   ],
   "source": [
    "merged.info()"
   ]
  },
  {
   "cell_type": "code",
   "execution_count": 223,
   "metadata": {
    "ExecuteTime": {
     "end_time": "2022-03-09T22:24:37.208887Z",
     "start_time": "2022-03-09T22:24:37.192122Z"
    }
   },
   "outputs": [],
   "source": [
    "#created a dataframe without zero values for worldwide_gross and domestic_gross\n",
    "\n",
    "main_df = merged[(merged.worldwide_gross != 0) & (merged.domestic_gross != 0)]"
   ]
  },
  {
   "cell_type": "code",
   "execution_count": 224,
   "metadata": {
    "ExecuteTime": {
     "end_time": "2022-03-09T22:24:38.125728Z",
     "start_time": "2022-03-09T22:24:38.110744Z"
    }
   },
   "outputs": [],
   "source": [
    "#calculated return on investment (ROI) for movies-- worldwide and domestic \n",
    "#metric to measure the rate of return on money budgeted for production \n",
    "\n",
    "main_df['ROI_worldwide'] = ((main_df.worldwide_gross - main_df.production_budget)/ main_df.production_budget) *100\n",
    "main_df['ROI_domestic'] = ((main_df.domestic_gross - main_df.production_budget)/ main_df.production_budget) *100"
   ]
  },
  {
   "cell_type": "code",
   "execution_count": 225,
   "metadata": {
    "ExecuteTime": {
     "end_time": "2022-03-09T22:24:39.079189Z",
     "start_time": "2022-03-09T22:24:39.058449Z"
    }
   },
   "outputs": [],
   "source": [
    "#calcuated gross profit margin for movies -- worldwide and domestic\n",
    "#assess how efficiently the company generates profit from sales of products\n",
    "\n",
    "main_df['gross_profit_margin_worldwide'] = ((main_df.worldwide_gross - main_df.production_budget)/ main_df.worldwide_gross\n",
    "                                           )*100\n",
    "main_df['gross_profit_margin_domestic'] = ((main_df.domestic_gross - main_df.production_budget)/ main_df.domestic_gross\n",
    "                                           )*100"
   ]
  },
  {
   "cell_type": "code",
   "execution_count": 226,
   "metadata": {
    "ExecuteTime": {
     "end_time": "2022-03-09T22:24:40.009367Z",
     "start_time": "2022-03-09T22:24:39.996272Z"
    }
   },
   "outputs": [],
   "source": [
    "#returns number of genres as a column where values takes the length of list in genres column\n",
    "main_df['num_of_genres'] = main_df.genres.apply(lambda x: len(x))"
   ]
  },
  {
   "cell_type": "code",
   "execution_count": 227,
   "metadata": {
    "ExecuteTime": {
     "end_time": "2022-03-09T22:24:40.988866Z",
     "start_time": "2022-03-09T22:24:40.906435Z"
    }
   },
   "outputs": [
    {
     "data": {
      "text/html": [
       "<div>\n",
       "<style scoped>\n",
       "    .dataframe tbody tr th:only-of-type {\n",
       "        vertical-align: middle;\n",
       "    }\n",
       "\n",
       "    .dataframe tbody tr th {\n",
       "        vertical-align: top;\n",
       "    }\n",
       "\n",
       "    .dataframe thead th {\n",
       "        text-align: right;\n",
       "    }\n",
       "</style>\n",
       "<table border=\"1\" class=\"dataframe\">\n",
       "  <thead>\n",
       "    <tr style=\"text-align: right;\">\n",
       "      <th></th>\n",
       "      <th>movie_id</th>\n",
       "      <th>start_year</th>\n",
       "      <th>runtime_minutes</th>\n",
       "      <th>genres</th>\n",
       "      <th>averagerating</th>\n",
       "      <th>numvotes</th>\n",
       "      <th>title</th>\n",
       "      <th>id</th>\n",
       "      <th>release_date</th>\n",
       "      <th>production_budget</th>\n",
       "      <th>...</th>\n",
       "      <th>Romance</th>\n",
       "      <th>Sci-Fi</th>\n",
       "      <th>Comedy</th>\n",
       "      <th>War</th>\n",
       "      <th>Action</th>\n",
       "      <th>ROI_worldwide</th>\n",
       "      <th>ROI_domestic</th>\n",
       "      <th>gross_profit_margin_worldwide</th>\n",
       "      <th>gross_profit_margin_domestic</th>\n",
       "      <th>num_of_genres</th>\n",
       "    </tr>\n",
       "  </thead>\n",
       "  <tbody>\n",
       "    <tr>\n",
       "      <th>0</th>\n",
       "      <td>tt0339736</td>\n",
       "      <td>2017</td>\n",
       "      <td>98.0</td>\n",
       "      <td>[Horror]</td>\n",
       "      <td>5.6</td>\n",
       "      <td>2420</td>\n",
       "      <td>Whiplash</td>\n",
       "      <td>43</td>\n",
       "      <td>Oct 10, 2014</td>\n",
       "      <td>3300000.0</td>\n",
       "      <td>...</td>\n",
       "      <td>0</td>\n",
       "      <td>0</td>\n",
       "      <td>0</td>\n",
       "      <td>0</td>\n",
       "      <td>0</td>\n",
       "      <td>1080.879909</td>\n",
       "      <td>296.727455</td>\n",
       "      <td>91.531738</td>\n",
       "      <td>74.793779</td>\n",
       "      <td>1</td>\n",
       "    </tr>\n",
       "    <tr>\n",
       "      <th>2</th>\n",
       "      <td>tt0426566</td>\n",
       "      <td>2012</td>\n",
       "      <td>NaN</td>\n",
       "      <td>[Drama]</td>\n",
       "      <td>6.0</td>\n",
       "      <td>13</td>\n",
       "      <td>Breakdown</td>\n",
       "      <td>11</td>\n",
       "      <td>May 2, 1997</td>\n",
       "      <td>36000000.0</td>\n",
       "      <td>...</td>\n",
       "      <td>0</td>\n",
       "      <td>0</td>\n",
       "      <td>0</td>\n",
       "      <td>0</td>\n",
       "      <td>0</td>\n",
       "      <td>39.330956</td>\n",
       "      <td>39.330956</td>\n",
       "      <td>28.228440</td>\n",
       "      <td>28.228440</td>\n",
       "      <td>1</td>\n",
       "    </tr>\n",
       "    <tr>\n",
       "      <th>3</th>\n",
       "      <td>tt0436230</td>\n",
       "      <td>2010</td>\n",
       "      <td>NaN</td>\n",
       "      <td>[Horror, Thriller]</td>\n",
       "      <td>6.7</td>\n",
       "      <td>34</td>\n",
       "      <td>The Devil Inside</td>\n",
       "      <td>12</td>\n",
       "      <td>Jan 6, 2012</td>\n",
       "      <td>1000000.0</td>\n",
       "      <td>...</td>\n",
       "      <td>0</td>\n",
       "      <td>0</td>\n",
       "      <td>0</td>\n",
       "      <td>0</td>\n",
       "      <td>0</td>\n",
       "      <td>10075.949000</td>\n",
       "      <td>5226.294500</td>\n",
       "      <td>99.017291</td>\n",
       "      <td>98.122522</td>\n",
       "      <td>2</td>\n",
       "    </tr>\n",
       "    <tr>\n",
       "      <th>4</th>\n",
       "      <td>tt0437086</td>\n",
       "      <td>2019</td>\n",
       "      <td>122.0</td>\n",
       "      <td>[Action, Adventure, Sci-Fi]</td>\n",
       "      <td>7.5</td>\n",
       "      <td>88207</td>\n",
       "      <td>Alita: Battle Angel</td>\n",
       "      <td>24</td>\n",
       "      <td>Feb 14, 2019</td>\n",
       "      <td>170000000.0</td>\n",
       "      <td>...</td>\n",
       "      <td>0</td>\n",
       "      <td>1</td>\n",
       "      <td>0</td>\n",
       "      <td>0</td>\n",
       "      <td>1</td>\n",
       "      <td>137.044727</td>\n",
       "      <td>-49.582229</td>\n",
       "      <td>57.813869</td>\n",
       "      <td>-98.342765</td>\n",
       "      <td>3</td>\n",
       "    </tr>\n",
       "    <tr>\n",
       "      <th>5</th>\n",
       "      <td>tt0443272</td>\n",
       "      <td>2012</td>\n",
       "      <td>150.0</td>\n",
       "      <td>[Biography, Drama, History]</td>\n",
       "      <td>7.4</td>\n",
       "      <td>228701</td>\n",
       "      <td>Lincoln</td>\n",
       "      <td>73</td>\n",
       "      <td>Nov 9, 2012</td>\n",
       "      <td>65000000.0</td>\n",
       "      <td>...</td>\n",
       "      <td>0</td>\n",
       "      <td>0</td>\n",
       "      <td>0</td>\n",
       "      <td>0</td>\n",
       "      <td>0</td>\n",
       "      <td>320.532740</td>\n",
       "      <td>180.319958</td>\n",
       "      <td>76.220639</td>\n",
       "      <td>64.326479</td>\n",
       "      <td>3</td>\n",
       "    </tr>\n",
       "    <tr>\n",
       "      <th>...</th>\n",
       "      <td>...</td>\n",
       "      <td>...</td>\n",
       "      <td>...</td>\n",
       "      <td>...</td>\n",
       "      <td>...</td>\n",
       "      <td>...</td>\n",
       "      <td>...</td>\n",
       "      <td>...</td>\n",
       "      <td>...</td>\n",
       "      <td>...</td>\n",
       "      <td>...</td>\n",
       "      <td>...</td>\n",
       "      <td>...</td>\n",
       "      <td>...</td>\n",
       "      <td>...</td>\n",
       "      <td>...</td>\n",
       "      <td>...</td>\n",
       "      <td>...</td>\n",
       "      <td>...</td>\n",
       "      <td>...</td>\n",
       "      <td>...</td>\n",
       "    </tr>\n",
       "    <tr>\n",
       "      <th>1220</th>\n",
       "      <td>tt7961060</td>\n",
       "      <td>2018</td>\n",
       "      <td>100.0</td>\n",
       "      <td>[Action, Adventure, Animation]</td>\n",
       "      <td>8.0</td>\n",
       "      <td>16465</td>\n",
       "      <td>Dragon Ball Super: Broly</td>\n",
       "      <td>36</td>\n",
       "      <td>Jan 16, 2019</td>\n",
       "      <td>8500000.0</td>\n",
       "      <td>...</td>\n",
       "      <td>0</td>\n",
       "      <td>0</td>\n",
       "      <td>0</td>\n",
       "      <td>0</td>\n",
       "      <td>1</td>\n",
       "      <td>1344.091235</td>\n",
       "      <td>257.373588</td>\n",
       "      <td>93.075230</td>\n",
       "      <td>72.018078</td>\n",
       "      <td>3</td>\n",
       "    </tr>\n",
       "    <tr>\n",
       "      <th>1221</th>\n",
       "      <td>tt7981492</td>\n",
       "      <td>2018</td>\n",
       "      <td>113.0</td>\n",
       "      <td>[Horror, Thriller]</td>\n",
       "      <td>4.3</td>\n",
       "      <td>971</td>\n",
       "      <td>Sabrina</td>\n",
       "      <td>60</td>\n",
       "      <td>Dec 15, 1995</td>\n",
       "      <td>58000000.0</td>\n",
       "      <td>...</td>\n",
       "      <td>0</td>\n",
       "      <td>0</td>\n",
       "      <td>0</td>\n",
       "      <td>0</td>\n",
       "      <td>0</td>\n",
       "      <td>50.172414</td>\n",
       "      <td>-7.830484</td>\n",
       "      <td>33.409874</td>\n",
       "      <td>-8.495742</td>\n",
       "      <td>2</td>\n",
       "    </tr>\n",
       "    <tr>\n",
       "      <th>1224</th>\n",
       "      <td>tt8450662</td>\n",
       "      <td>2018</td>\n",
       "      <td>66.0</td>\n",
       "      <td>[Documentary]</td>\n",
       "      <td>7.3</td>\n",
       "      <td>22</td>\n",
       "      <td>Beloved</td>\n",
       "      <td>65</td>\n",
       "      <td>Oct 16, 1998</td>\n",
       "      <td>53000000.0</td>\n",
       "      <td>...</td>\n",
       "      <td>0</td>\n",
       "      <td>0</td>\n",
       "      <td>0</td>\n",
       "      <td>0</td>\n",
       "      <td>0</td>\n",
       "      <td>-56.882100</td>\n",
       "      <td>-56.882100</td>\n",
       "      <td>-131.922241</td>\n",
       "      <td>-131.922241</td>\n",
       "      <td>1</td>\n",
       "    </tr>\n",
       "    <tr>\n",
       "      <th>1225</th>\n",
       "      <td>tt8632862</td>\n",
       "      <td>2018</td>\n",
       "      <td>128.0</td>\n",
       "      <td>[Documentary]</td>\n",
       "      <td>6.7</td>\n",
       "      <td>11628</td>\n",
       "      <td>Fahrenheit 11/9</td>\n",
       "      <td>29</td>\n",
       "      <td>Sep 21, 2018</td>\n",
       "      <td>5000000.0</td>\n",
       "      <td>...</td>\n",
       "      <td>0</td>\n",
       "      <td>0</td>\n",
       "      <td>0</td>\n",
       "      <td>0</td>\n",
       "      <td>0</td>\n",
       "      <td>33.074300</td>\n",
       "      <td>27.046120</td>\n",
       "      <td>24.854010</td>\n",
       "      <td>21.288427</td>\n",
       "      <td>1</td>\n",
       "    </tr>\n",
       "    <tr>\n",
       "      <th>1227</th>\n",
       "      <td>tt9024106</td>\n",
       "      <td>2019</td>\n",
       "      <td>106.0</td>\n",
       "      <td>[Biography, Drama]</td>\n",
       "      <td>6.3</td>\n",
       "      <td>5945</td>\n",
       "      <td>Unplanned</td>\n",
       "      <td>33</td>\n",
       "      <td>Mar 29, 2019</td>\n",
       "      <td>6000000.0</td>\n",
       "      <td>...</td>\n",
       "      <td>0</td>\n",
       "      <td>0</td>\n",
       "      <td>0</td>\n",
       "      <td>0</td>\n",
       "      <td>0</td>\n",
       "      <td>201.793683</td>\n",
       "      <td>201.793683</td>\n",
       "      <td>66.864780</td>\n",
       "      <td>66.864780</td>\n",
       "      <td>2</td>\n",
       "    </tr>\n",
       "  </tbody>\n",
       "</table>\n",
       "<p>983 rows × 39 columns</p>\n",
       "</div>"
      ],
      "text/plain": [
       "       movie_id  start_year  runtime_minutes                          genres  \\\n",
       "0     tt0339736        2017             98.0                        [Horror]   \n",
       "2     tt0426566        2012              NaN                         [Drama]   \n",
       "3     tt0436230        2010              NaN              [Horror, Thriller]   \n",
       "4     tt0437086        2019            122.0     [Action, Adventure, Sci-Fi]   \n",
       "5     tt0443272        2012            150.0     [Biography, Drama, History]   \n",
       "...         ...         ...              ...                             ...   \n",
       "1220  tt7961060        2018            100.0  [Action, Adventure, Animation]   \n",
       "1221  tt7981492        2018            113.0              [Horror, Thriller]   \n",
       "1224  tt8450662        2018             66.0                   [Documentary]   \n",
       "1225  tt8632862        2018            128.0                   [Documentary]   \n",
       "1227  tt9024106        2019            106.0              [Biography, Drama]   \n",
       "\n",
       "      averagerating  numvotes                     title  id  release_date  \\\n",
       "0               5.6      2420                  Whiplash  43  Oct 10, 2014   \n",
       "2               6.0        13                 Breakdown  11   May 2, 1997   \n",
       "3               6.7        34          The Devil Inside  12   Jan 6, 2012   \n",
       "4               7.5     88207       Alita: Battle Angel  24  Feb 14, 2019   \n",
       "5               7.4    228701                   Lincoln  73   Nov 9, 2012   \n",
       "...             ...       ...                       ...  ..           ...   \n",
       "1220            8.0     16465  Dragon Ball Super: Broly  36  Jan 16, 2019   \n",
       "1221            4.3       971                   Sabrina  60  Dec 15, 1995   \n",
       "1224            7.3        22                   Beloved  65  Oct 16, 1998   \n",
       "1225            6.7     11628           Fahrenheit 11/9  29  Sep 21, 2018   \n",
       "1227            6.3      5945                 Unplanned  33  Mar 29, 2019   \n",
       "\n",
       "      production_budget  ...  Romance  Sci-Fi  Comedy  War  Action  \\\n",
       "0             3300000.0  ...        0       0       0    0       0   \n",
       "2            36000000.0  ...        0       0       0    0       0   \n",
       "3             1000000.0  ...        0       0       0    0       0   \n",
       "4           170000000.0  ...        0       1       0    0       1   \n",
       "5            65000000.0  ...        0       0       0    0       0   \n",
       "...                 ...  ...      ...     ...     ...  ...     ...   \n",
       "1220          8500000.0  ...        0       0       0    0       1   \n",
       "1221         58000000.0  ...        0       0       0    0       0   \n",
       "1224         53000000.0  ...        0       0       0    0       0   \n",
       "1225          5000000.0  ...        0       0       0    0       0   \n",
       "1227          6000000.0  ...        0       0       0    0       0   \n",
       "\n",
       "      ROI_worldwide  ROI_domestic  gross_profit_margin_worldwide  \\\n",
       "0       1080.879909    296.727455                      91.531738   \n",
       "2         39.330956     39.330956                      28.228440   \n",
       "3      10075.949000   5226.294500                      99.017291   \n",
       "4        137.044727    -49.582229                      57.813869   \n",
       "5        320.532740    180.319958                      76.220639   \n",
       "...             ...           ...                            ...   \n",
       "1220    1344.091235    257.373588                      93.075230   \n",
       "1221      50.172414     -7.830484                      33.409874   \n",
       "1224     -56.882100    -56.882100                    -131.922241   \n",
       "1225      33.074300     27.046120                      24.854010   \n",
       "1227     201.793683    201.793683                      66.864780   \n",
       "\n",
       "      gross_profit_margin_domestic  num_of_genres  \n",
       "0                        74.793779              1  \n",
       "2                        28.228440              1  \n",
       "3                        98.122522              2  \n",
       "4                       -98.342765              3  \n",
       "5                        64.326479              3  \n",
       "...                            ...            ...  \n",
       "1220                     72.018078              3  \n",
       "1221                     -8.495742              2  \n",
       "1224                   -131.922241              1  \n",
       "1225                     21.288427              1  \n",
       "1227                     66.864780              2  \n",
       "\n",
       "[983 rows x 39 columns]"
      ]
     },
     "execution_count": 227,
     "metadata": {},
     "output_type": "execute_result"
    }
   ],
   "source": [
    "main_df"
   ]
  },
  {
   "cell_type": "code",
   "execution_count": 228,
   "metadata": {
    "ExecuteTime": {
     "end_time": "2022-03-09T22:24:41.869249Z",
     "start_time": "2022-03-09T22:24:41.849150Z"
    }
   },
   "outputs": [],
   "source": [
    "#created a function to label rows with 'Great', 'Good', or 'Bad' movies\n",
    "\n",
    "def rating_scale(rating):\n",
    "    if rating >=7:\n",
    "        return 'Great'\n",
    "    elif rating < 7 and rating >= 5:\n",
    "        return 'Good'\n",
    "    else:\n",
    "        return 'Bad'\n",
    "    \n",
    "main_df['rating'] = main_df.averagerating.apply(lambda x: rating_scale(x))"
   ]
  },
  {
   "cell_type": "code",
   "execution_count": 230,
   "metadata": {
    "ExecuteTime": {
     "end_time": "2022-03-09T22:24:43.769484Z",
     "start_time": "2022-03-09T22:24:43.671723Z"
    }
   },
   "outputs": [
    {
     "data": {
      "text/html": [
       "<div>\n",
       "<style scoped>\n",
       "    .dataframe tbody tr th:only-of-type {\n",
       "        vertical-align: middle;\n",
       "    }\n",
       "\n",
       "    .dataframe tbody tr th {\n",
       "        vertical-align: top;\n",
       "    }\n",
       "\n",
       "    .dataframe thead th {\n",
       "        text-align: right;\n",
       "    }\n",
       "</style>\n",
       "<table border=\"1\" class=\"dataframe\">\n",
       "  <thead>\n",
       "    <tr style=\"text-align: right;\">\n",
       "      <th></th>\n",
       "      <th>movie_id</th>\n",
       "      <th>start_year</th>\n",
       "      <th>runtime_minutes</th>\n",
       "      <th>genres</th>\n",
       "      <th>averagerating</th>\n",
       "      <th>numvotes</th>\n",
       "      <th>title</th>\n",
       "      <th>id</th>\n",
       "      <th>release_date</th>\n",
       "      <th>production_budget</th>\n",
       "      <th>...</th>\n",
       "      <th>Sci-Fi</th>\n",
       "      <th>Comedy</th>\n",
       "      <th>War</th>\n",
       "      <th>Action</th>\n",
       "      <th>ROI_worldwide</th>\n",
       "      <th>ROI_domestic</th>\n",
       "      <th>gross_profit_margin_worldwide</th>\n",
       "      <th>gross_profit_margin_domestic</th>\n",
       "      <th>num_of_genres</th>\n",
       "      <th>rating</th>\n",
       "    </tr>\n",
       "  </thead>\n",
       "  <tbody>\n",
       "    <tr>\n",
       "      <th>0</th>\n",
       "      <td>tt0339736</td>\n",
       "      <td>2017</td>\n",
       "      <td>98.0</td>\n",
       "      <td>[Horror]</td>\n",
       "      <td>5.6</td>\n",
       "      <td>2420</td>\n",
       "      <td>Whiplash</td>\n",
       "      <td>43</td>\n",
       "      <td>Oct 10, 2014</td>\n",
       "      <td>3300000.0</td>\n",
       "      <td>...</td>\n",
       "      <td>0</td>\n",
       "      <td>0</td>\n",
       "      <td>0</td>\n",
       "      <td>0</td>\n",
       "      <td>1080.879909</td>\n",
       "      <td>296.727455</td>\n",
       "      <td>91.531738</td>\n",
       "      <td>74.793779</td>\n",
       "      <td>1</td>\n",
       "      <td>Good</td>\n",
       "    </tr>\n",
       "    <tr>\n",
       "      <th>2</th>\n",
       "      <td>tt0426566</td>\n",
       "      <td>2012</td>\n",
       "      <td>NaN</td>\n",
       "      <td>[Drama]</td>\n",
       "      <td>6.0</td>\n",
       "      <td>13</td>\n",
       "      <td>Breakdown</td>\n",
       "      <td>11</td>\n",
       "      <td>May 2, 1997</td>\n",
       "      <td>36000000.0</td>\n",
       "      <td>...</td>\n",
       "      <td>0</td>\n",
       "      <td>0</td>\n",
       "      <td>0</td>\n",
       "      <td>0</td>\n",
       "      <td>39.330956</td>\n",
       "      <td>39.330956</td>\n",
       "      <td>28.228440</td>\n",
       "      <td>28.228440</td>\n",
       "      <td>1</td>\n",
       "      <td>Good</td>\n",
       "    </tr>\n",
       "    <tr>\n",
       "      <th>3</th>\n",
       "      <td>tt0436230</td>\n",
       "      <td>2010</td>\n",
       "      <td>NaN</td>\n",
       "      <td>[Horror, Thriller]</td>\n",
       "      <td>6.7</td>\n",
       "      <td>34</td>\n",
       "      <td>The Devil Inside</td>\n",
       "      <td>12</td>\n",
       "      <td>Jan 6, 2012</td>\n",
       "      <td>1000000.0</td>\n",
       "      <td>...</td>\n",
       "      <td>0</td>\n",
       "      <td>0</td>\n",
       "      <td>0</td>\n",
       "      <td>0</td>\n",
       "      <td>10075.949000</td>\n",
       "      <td>5226.294500</td>\n",
       "      <td>99.017291</td>\n",
       "      <td>98.122522</td>\n",
       "      <td>2</td>\n",
       "      <td>Good</td>\n",
       "    </tr>\n",
       "    <tr>\n",
       "      <th>4</th>\n",
       "      <td>tt0437086</td>\n",
       "      <td>2019</td>\n",
       "      <td>122.0</td>\n",
       "      <td>[Action, Adventure, Sci-Fi]</td>\n",
       "      <td>7.5</td>\n",
       "      <td>88207</td>\n",
       "      <td>Alita: Battle Angel</td>\n",
       "      <td>24</td>\n",
       "      <td>Feb 14, 2019</td>\n",
       "      <td>170000000.0</td>\n",
       "      <td>...</td>\n",
       "      <td>1</td>\n",
       "      <td>0</td>\n",
       "      <td>0</td>\n",
       "      <td>1</td>\n",
       "      <td>137.044727</td>\n",
       "      <td>-49.582229</td>\n",
       "      <td>57.813869</td>\n",
       "      <td>-98.342765</td>\n",
       "      <td>3</td>\n",
       "      <td>Great</td>\n",
       "    </tr>\n",
       "    <tr>\n",
       "      <th>5</th>\n",
       "      <td>tt0443272</td>\n",
       "      <td>2012</td>\n",
       "      <td>150.0</td>\n",
       "      <td>[Biography, Drama, History]</td>\n",
       "      <td>7.4</td>\n",
       "      <td>228701</td>\n",
       "      <td>Lincoln</td>\n",
       "      <td>73</td>\n",
       "      <td>Nov 9, 2012</td>\n",
       "      <td>65000000.0</td>\n",
       "      <td>...</td>\n",
       "      <td>0</td>\n",
       "      <td>0</td>\n",
       "      <td>0</td>\n",
       "      <td>0</td>\n",
       "      <td>320.532740</td>\n",
       "      <td>180.319958</td>\n",
       "      <td>76.220639</td>\n",
       "      <td>64.326479</td>\n",
       "      <td>3</td>\n",
       "      <td>Great</td>\n",
       "    </tr>\n",
       "    <tr>\n",
       "      <th>...</th>\n",
       "      <td>...</td>\n",
       "      <td>...</td>\n",
       "      <td>...</td>\n",
       "      <td>...</td>\n",
       "      <td>...</td>\n",
       "      <td>...</td>\n",
       "      <td>...</td>\n",
       "      <td>...</td>\n",
       "      <td>...</td>\n",
       "      <td>...</td>\n",
       "      <td>...</td>\n",
       "      <td>...</td>\n",
       "      <td>...</td>\n",
       "      <td>...</td>\n",
       "      <td>...</td>\n",
       "      <td>...</td>\n",
       "      <td>...</td>\n",
       "      <td>...</td>\n",
       "      <td>...</td>\n",
       "      <td>...</td>\n",
       "      <td>...</td>\n",
       "    </tr>\n",
       "    <tr>\n",
       "      <th>1220</th>\n",
       "      <td>tt7961060</td>\n",
       "      <td>2018</td>\n",
       "      <td>100.0</td>\n",
       "      <td>[Action, Adventure, Animation]</td>\n",
       "      <td>8.0</td>\n",
       "      <td>16465</td>\n",
       "      <td>Dragon Ball Super: Broly</td>\n",
       "      <td>36</td>\n",
       "      <td>Jan 16, 2019</td>\n",
       "      <td>8500000.0</td>\n",
       "      <td>...</td>\n",
       "      <td>0</td>\n",
       "      <td>0</td>\n",
       "      <td>0</td>\n",
       "      <td>1</td>\n",
       "      <td>1344.091235</td>\n",
       "      <td>257.373588</td>\n",
       "      <td>93.075230</td>\n",
       "      <td>72.018078</td>\n",
       "      <td>3</td>\n",
       "      <td>Great</td>\n",
       "    </tr>\n",
       "    <tr>\n",
       "      <th>1221</th>\n",
       "      <td>tt7981492</td>\n",
       "      <td>2018</td>\n",
       "      <td>113.0</td>\n",
       "      <td>[Horror, Thriller]</td>\n",
       "      <td>4.3</td>\n",
       "      <td>971</td>\n",
       "      <td>Sabrina</td>\n",
       "      <td>60</td>\n",
       "      <td>Dec 15, 1995</td>\n",
       "      <td>58000000.0</td>\n",
       "      <td>...</td>\n",
       "      <td>0</td>\n",
       "      <td>0</td>\n",
       "      <td>0</td>\n",
       "      <td>0</td>\n",
       "      <td>50.172414</td>\n",
       "      <td>-7.830484</td>\n",
       "      <td>33.409874</td>\n",
       "      <td>-8.495742</td>\n",
       "      <td>2</td>\n",
       "      <td>Bad</td>\n",
       "    </tr>\n",
       "    <tr>\n",
       "      <th>1224</th>\n",
       "      <td>tt8450662</td>\n",
       "      <td>2018</td>\n",
       "      <td>66.0</td>\n",
       "      <td>[Documentary]</td>\n",
       "      <td>7.3</td>\n",
       "      <td>22</td>\n",
       "      <td>Beloved</td>\n",
       "      <td>65</td>\n",
       "      <td>Oct 16, 1998</td>\n",
       "      <td>53000000.0</td>\n",
       "      <td>...</td>\n",
       "      <td>0</td>\n",
       "      <td>0</td>\n",
       "      <td>0</td>\n",
       "      <td>0</td>\n",
       "      <td>-56.882100</td>\n",
       "      <td>-56.882100</td>\n",
       "      <td>-131.922241</td>\n",
       "      <td>-131.922241</td>\n",
       "      <td>1</td>\n",
       "      <td>Great</td>\n",
       "    </tr>\n",
       "    <tr>\n",
       "      <th>1225</th>\n",
       "      <td>tt8632862</td>\n",
       "      <td>2018</td>\n",
       "      <td>128.0</td>\n",
       "      <td>[Documentary]</td>\n",
       "      <td>6.7</td>\n",
       "      <td>11628</td>\n",
       "      <td>Fahrenheit 11/9</td>\n",
       "      <td>29</td>\n",
       "      <td>Sep 21, 2018</td>\n",
       "      <td>5000000.0</td>\n",
       "      <td>...</td>\n",
       "      <td>0</td>\n",
       "      <td>0</td>\n",
       "      <td>0</td>\n",
       "      <td>0</td>\n",
       "      <td>33.074300</td>\n",
       "      <td>27.046120</td>\n",
       "      <td>24.854010</td>\n",
       "      <td>21.288427</td>\n",
       "      <td>1</td>\n",
       "      <td>Good</td>\n",
       "    </tr>\n",
       "    <tr>\n",
       "      <th>1227</th>\n",
       "      <td>tt9024106</td>\n",
       "      <td>2019</td>\n",
       "      <td>106.0</td>\n",
       "      <td>[Biography, Drama]</td>\n",
       "      <td>6.3</td>\n",
       "      <td>5945</td>\n",
       "      <td>Unplanned</td>\n",
       "      <td>33</td>\n",
       "      <td>Mar 29, 2019</td>\n",
       "      <td>6000000.0</td>\n",
       "      <td>...</td>\n",
       "      <td>0</td>\n",
       "      <td>0</td>\n",
       "      <td>0</td>\n",
       "      <td>0</td>\n",
       "      <td>201.793683</td>\n",
       "      <td>201.793683</td>\n",
       "      <td>66.864780</td>\n",
       "      <td>66.864780</td>\n",
       "      <td>2</td>\n",
       "      <td>Good</td>\n",
       "    </tr>\n",
       "  </tbody>\n",
       "</table>\n",
       "<p>983 rows × 40 columns</p>\n",
       "</div>"
      ],
      "text/plain": [
       "       movie_id  start_year  runtime_minutes                          genres  \\\n",
       "0     tt0339736        2017             98.0                        [Horror]   \n",
       "2     tt0426566        2012              NaN                         [Drama]   \n",
       "3     tt0436230        2010              NaN              [Horror, Thriller]   \n",
       "4     tt0437086        2019            122.0     [Action, Adventure, Sci-Fi]   \n",
       "5     tt0443272        2012            150.0     [Biography, Drama, History]   \n",
       "...         ...         ...              ...                             ...   \n",
       "1220  tt7961060        2018            100.0  [Action, Adventure, Animation]   \n",
       "1221  tt7981492        2018            113.0              [Horror, Thriller]   \n",
       "1224  tt8450662        2018             66.0                   [Documentary]   \n",
       "1225  tt8632862        2018            128.0                   [Documentary]   \n",
       "1227  tt9024106        2019            106.0              [Biography, Drama]   \n",
       "\n",
       "      averagerating  numvotes                     title  id  release_date  \\\n",
       "0               5.6      2420                  Whiplash  43  Oct 10, 2014   \n",
       "2               6.0        13                 Breakdown  11   May 2, 1997   \n",
       "3               6.7        34          The Devil Inside  12   Jan 6, 2012   \n",
       "4               7.5     88207       Alita: Battle Angel  24  Feb 14, 2019   \n",
       "5               7.4    228701                   Lincoln  73   Nov 9, 2012   \n",
       "...             ...       ...                       ...  ..           ...   \n",
       "1220            8.0     16465  Dragon Ball Super: Broly  36  Jan 16, 2019   \n",
       "1221            4.3       971                   Sabrina  60  Dec 15, 1995   \n",
       "1224            7.3        22                   Beloved  65  Oct 16, 1998   \n",
       "1225            6.7     11628           Fahrenheit 11/9  29  Sep 21, 2018   \n",
       "1227            6.3      5945                 Unplanned  33  Mar 29, 2019   \n",
       "\n",
       "      production_budget  ...  Sci-Fi  Comedy  War  Action  ROI_worldwide  \\\n",
       "0             3300000.0  ...       0       0    0       0    1080.879909   \n",
       "2            36000000.0  ...       0       0    0       0      39.330956   \n",
       "3             1000000.0  ...       0       0    0       0   10075.949000   \n",
       "4           170000000.0  ...       1       0    0       1     137.044727   \n",
       "5            65000000.0  ...       0       0    0       0     320.532740   \n",
       "...                 ...  ...     ...     ...  ...     ...            ...   \n",
       "1220          8500000.0  ...       0       0    0       1    1344.091235   \n",
       "1221         58000000.0  ...       0       0    0       0      50.172414   \n",
       "1224         53000000.0  ...       0       0    0       0     -56.882100   \n",
       "1225          5000000.0  ...       0       0    0       0      33.074300   \n",
       "1227          6000000.0  ...       0       0    0       0     201.793683   \n",
       "\n",
       "      ROI_domestic  gross_profit_margin_worldwide  \\\n",
       "0       296.727455                      91.531738   \n",
       "2        39.330956                      28.228440   \n",
       "3      5226.294500                      99.017291   \n",
       "4       -49.582229                      57.813869   \n",
       "5       180.319958                      76.220639   \n",
       "...            ...                            ...   \n",
       "1220    257.373588                      93.075230   \n",
       "1221     -7.830484                      33.409874   \n",
       "1224    -56.882100                    -131.922241   \n",
       "1225     27.046120                      24.854010   \n",
       "1227    201.793683                      66.864780   \n",
       "\n",
       "      gross_profit_margin_domestic  num_of_genres  rating  \n",
       "0                        74.793779              1    Good  \n",
       "2                        28.228440              1    Good  \n",
       "3                        98.122522              2    Good  \n",
       "4                       -98.342765              3   Great  \n",
       "5                        64.326479              3   Great  \n",
       "...                            ...            ...     ...  \n",
       "1220                     72.018078              3   Great  \n",
       "1221                     -8.495742              2     Bad  \n",
       "1224                   -131.922241              1   Great  \n",
       "1225                     21.288427              1    Good  \n",
       "1227                     66.864780              2    Good  \n",
       "\n",
       "[983 rows x 40 columns]"
      ]
     },
     "execution_count": 230,
     "metadata": {},
     "output_type": "execute_result"
    }
   ],
   "source": [
    "main_df"
   ]
  },
  {
   "cell_type": "markdown",
   "metadata": {},
   "source": [
    "#  Analysis of Genres\n",
    "\n",
    "### -Does number of genres of a movie affect its return on investment (ROI)\n",
    "\n",
    "### -Does the type of genre of a movie affect its ROI?"
   ]
  },
  {
   "cell_type": "code",
   "execution_count": 308,
   "metadata": {
    "ExecuteTime": {
     "end_time": "2022-03-09T22:41:46.385096Z",
     "start_time": "2022-03-09T22:41:46.362835Z"
    }
   },
   "outputs": [
    {
     "data": {
      "text/plain": [
       "num_of_genres\n",
       "1    228.784231\n",
       "2    418.953539\n",
       "3    357.856805\n",
       "Name: ROI_worldwide, dtype: float64"
      ]
     },
     "execution_count": 308,
     "metadata": {},
     "output_type": "execute_result"
    }
   ],
   "source": [
    "#grouped dataframe by number of genres of each movie\n",
    "\n",
    "grouped_by_num_of_genres = main_df.groupby(['num_of_genres']).mean()\n",
    "num_genres_roi = grouped_by_num_of_genres['ROI_worldwide']\n",
    "num_genres_roi"
   ]
  },
  {
   "cell_type": "code",
   "execution_count": 336,
   "metadata": {
    "ExecuteTime": {
     "end_time": "2022-03-09T22:50:47.007337Z",
     "start_time": "2022-03-09T22:50:46.592758Z"
    }
   },
   "outputs": [
    {
     "data": {
      "image/png": "[encoded data removed]",
      "text/plain": [
       "<Figure size 1440x864 with 1 Axes>"
      ]
     },
     "metadata": {
      "needs_background": "light"
     },
     "output_type": "display_data"
    }
   ],
   "source": [
    "#barplot of ROI by number of genres\n",
    "\n",
    "fig, ax = plt.subplots(figsize=(20,12))\n",
    "\n",
    "ax.barh(num_genres_roi.index, list(num_genres_roi), color='red')\n",
    "\n",
    "ax.set_title('ROI of Movies based on # of Genres (worldwide)', fontsize=25)\n",
    "ax.set_ylabel(\"# of Genres\", fontsize=20)\n",
    "ax.set_yticks([1,2,3])\n",
    "ax.set_xlabel('ROI', fontsize=20)\n",
    "ax.set_xticks(range(0,600,50))\n",
    "ax.set_xticklabels(['{}%'.format(i) for i in range(0,600,50)])\n",
    "\n",
    "plt.show()"
   ]
  },
  {
   "cell_type": "code",
   "execution_count": 234,
   "metadata": {
    "ExecuteTime": {
     "end_time": "2022-03-09T22:24:47.914147Z",
     "start_time": "2022-03-09T22:24:47.889478Z"
    }
   },
   "outputs": [],
   "source": [
    "#dropping duplicates\n",
    "main_df.drop_duplicates(subset=['movie_id'], inplace=True)"
   ]
  },
  {
   "cell_type": "code",
   "execution_count": 235,
   "metadata": {
    "ExecuteTime": {
     "end_time": "2022-03-09T22:24:48.806553Z",
     "start_time": "2022-03-09T22:24:48.790522Z"
    }
   },
   "outputs": [
    {
     "name": "stdout",
     "output_type": "stream",
     "text": [
      "Western: 5\n",
      "Fantasy: 35\n",
      "Drama: 480\n",
      "Musical: 12\n",
      "News: 4\n",
      "Documentary: 123\n",
      "Music: 22\n",
      "Horror: 102\n",
      "Sport: 24\n",
      "Adventure: 86\n",
      "Thriller: 164\n",
      "Animation: 21\n",
      "Biography: 65\n",
      "Family: 39\n",
      "History: 24\n",
      "Mystery: 58\n",
      "Crime: 108\n",
      "Romance: 77\n",
      "Sci-Fi: 61\n",
      "Comedy: 190\n",
      "War: 11\n",
      "Action: 161\n"
     ]
    }
   ],
   "source": [
    "#calculating amount of movies in each genre in the dataset\n",
    "\n",
    "genre_amt = []\n",
    "\n",
    "for i in genre_columns:\n",
    "    num_genre = main_df[i].sum()\n",
    "    genre_amt.append(num_genre)\n",
    "    print(\"{}: {}\".format(i, num_genre))"
   ]
  },
  {
   "cell_type": "code",
   "execution_count": 236,
   "metadata": {
    "ExecuteTime": {
     "end_time": "2022-03-09T22:24:50.019212Z",
     "start_time": "2022-03-09T22:24:49.720416Z"
    },
    "scrolled": true
   },
   "outputs": [
    {
     "name": "stdout",
     "output_type": "stream",
     "text": [
      "85.0909090909091\n",
      "59.5\n"
     ]
    },
    {
     "data": {
      "image/png": "[encoded data removed]",
      "text/plain": [
       "<Figure size 432x288 with 1 Axes>"
      ]
     },
     "metadata": {
      "needs_background": "light"
     },
     "output_type": "display_data"
    }
   ],
   "source": [
    "#searching for best way to change data for outliers\n",
    "\n",
    "import numpy as np\n",
    "\n",
    "genre_amt = np.array(genre_amt)\n",
    "\n",
    "mean = np.mean(genre_amt)\n",
    "median = np.median(genre_amt)\n",
    "print(mean)\n",
    "print(median)\n",
    "\n",
    "plt.hist(genre_amt)\n",
    "plt.show()"
   ]
  },
  {
   "cell_type": "code",
   "execution_count": 237,
   "metadata": {
    "ExecuteTime": {
     "end_time": "2022-03-09T22:24:50.969565Z",
     "start_time": "2022-03-09T22:24:50.948891Z"
    }
   },
   "outputs": [],
   "source": [
    "#function to condense genres with less than 25 movies into a new genre called 'Other'\n",
    "\n",
    "def other_genre(genre):\n",
    "    if 'News' or 'Sport' or 'Music' or 'War' or 'Western' or 'Musical' or 'History' in genre:\n",
    "        return 1\n",
    "    else:\n",
    "        return 0\n",
    "\n",
    "#created new binary column for 'Other' and dropped unnecessary columns\n",
    "main_df['Other'] = main_df.genres.apply(lambda x: other_genre(x))\n",
    "main_df.drop(columns=['News', 'Sport', 'Music', 'War', 'Western', 'Musical', 'History'], inplace=True)"
   ]
  },
  {
   "cell_type": "code",
   "execution_count": 240,
   "metadata": {
    "ExecuteTime": {
     "end_time": "2022-03-09T22:24:53.808370Z",
     "start_time": "2022-03-09T22:24:53.709256Z"
    }
   },
   "outputs": [
    {
     "data": {
      "text/html": [
       "<div>\n",
       "<style scoped>\n",
       "    .dataframe tbody tr th:only-of-type {\n",
       "        vertical-align: middle;\n",
       "    }\n",
       "\n",
       "    .dataframe tbody tr th {\n",
       "        vertical-align: top;\n",
       "    }\n",
       "\n",
       "    .dataframe thead th {\n",
       "        text-align: right;\n",
       "    }\n",
       "</style>\n",
       "<table border=\"1\" class=\"dataframe\">\n",
       "  <thead>\n",
       "    <tr style=\"text-align: right;\">\n",
       "      <th></th>\n",
       "      <th>movie_id</th>\n",
       "      <th>start_year</th>\n",
       "      <th>runtime_minutes</th>\n",
       "      <th>genres</th>\n",
       "      <th>averagerating</th>\n",
       "      <th>numvotes</th>\n",
       "      <th>title</th>\n",
       "      <th>id</th>\n",
       "      <th>release_date</th>\n",
       "      <th>production_budget</th>\n",
       "      <th>...</th>\n",
       "      <th>Sci-Fi</th>\n",
       "      <th>Comedy</th>\n",
       "      <th>Action</th>\n",
       "      <th>ROI_worldwide</th>\n",
       "      <th>ROI_domestic</th>\n",
       "      <th>gross_profit_margin_worldwide</th>\n",
       "      <th>gross_profit_margin_domestic</th>\n",
       "      <th>num_of_genres</th>\n",
       "      <th>rating</th>\n",
       "      <th>Other</th>\n",
       "    </tr>\n",
       "  </thead>\n",
       "  <tbody>\n",
       "    <tr>\n",
       "      <th>0</th>\n",
       "      <td>tt0339736</td>\n",
       "      <td>2017</td>\n",
       "      <td>98.0</td>\n",
       "      <td>[Horror]</td>\n",
       "      <td>5.6</td>\n",
       "      <td>2420</td>\n",
       "      <td>Whiplash</td>\n",
       "      <td>43</td>\n",
       "      <td>Oct 10, 2014</td>\n",
       "      <td>3300000.0</td>\n",
       "      <td>...</td>\n",
       "      <td>0</td>\n",
       "      <td>0</td>\n",
       "      <td>0</td>\n",
       "      <td>1080.879909</td>\n",
       "      <td>296.727455</td>\n",
       "      <td>91.531738</td>\n",
       "      <td>74.793779</td>\n",
       "      <td>1</td>\n",
       "      <td>Good</td>\n",
       "      <td>1</td>\n",
       "    </tr>\n",
       "    <tr>\n",
       "      <th>2</th>\n",
       "      <td>tt0426566</td>\n",
       "      <td>2012</td>\n",
       "      <td>NaN</td>\n",
       "      <td>[Drama]</td>\n",
       "      <td>6.0</td>\n",
       "      <td>13</td>\n",
       "      <td>Breakdown</td>\n",
       "      <td>11</td>\n",
       "      <td>May 2, 1997</td>\n",
       "      <td>36000000.0</td>\n",
       "      <td>...</td>\n",
       "      <td>0</td>\n",
       "      <td>0</td>\n",
       "      <td>0</td>\n",
       "      <td>39.330956</td>\n",
       "      <td>39.330956</td>\n",
       "      <td>28.228440</td>\n",
       "      <td>28.228440</td>\n",
       "      <td>1</td>\n",
       "      <td>Good</td>\n",
       "      <td>1</td>\n",
       "    </tr>\n",
       "    <tr>\n",
       "      <th>3</th>\n",
       "      <td>tt0436230</td>\n",
       "      <td>2010</td>\n",
       "      <td>NaN</td>\n",
       "      <td>[Horror, Thriller]</td>\n",
       "      <td>6.7</td>\n",
       "      <td>34</td>\n",
       "      <td>The Devil Inside</td>\n",
       "      <td>12</td>\n",
       "      <td>Jan 6, 2012</td>\n",
       "      <td>1000000.0</td>\n",
       "      <td>...</td>\n",
       "      <td>0</td>\n",
       "      <td>0</td>\n",
       "      <td>0</td>\n",
       "      <td>10075.949000</td>\n",
       "      <td>5226.294500</td>\n",
       "      <td>99.017291</td>\n",
       "      <td>98.122522</td>\n",
       "      <td>2</td>\n",
       "      <td>Good</td>\n",
       "      <td>1</td>\n",
       "    </tr>\n",
       "    <tr>\n",
       "      <th>4</th>\n",
       "      <td>tt0437086</td>\n",
       "      <td>2019</td>\n",
       "      <td>122.0</td>\n",
       "      <td>[Action, Adventure, Sci-Fi]</td>\n",
       "      <td>7.5</td>\n",
       "      <td>88207</td>\n",
       "      <td>Alita: Battle Angel</td>\n",
       "      <td>24</td>\n",
       "      <td>Feb 14, 2019</td>\n",
       "      <td>170000000.0</td>\n",
       "      <td>...</td>\n",
       "      <td>1</td>\n",
       "      <td>0</td>\n",
       "      <td>1</td>\n",
       "      <td>137.044727</td>\n",
       "      <td>-49.582229</td>\n",
       "      <td>57.813869</td>\n",
       "      <td>-98.342765</td>\n",
       "      <td>3</td>\n",
       "      <td>Great</td>\n",
       "      <td>1</td>\n",
       "    </tr>\n",
       "    <tr>\n",
       "      <th>5</th>\n",
       "      <td>tt0443272</td>\n",
       "      <td>2012</td>\n",
       "      <td>150.0</td>\n",
       "      <td>[Biography, Drama, History]</td>\n",
       "      <td>7.4</td>\n",
       "      <td>228701</td>\n",
       "      <td>Lincoln</td>\n",
       "      <td>73</td>\n",
       "      <td>Nov 9, 2012</td>\n",
       "      <td>65000000.0</td>\n",
       "      <td>...</td>\n",
       "      <td>0</td>\n",
       "      <td>0</td>\n",
       "      <td>0</td>\n",
       "      <td>320.532740</td>\n",
       "      <td>180.319958</td>\n",
       "      <td>76.220639</td>\n",
       "      <td>64.326479</td>\n",
       "      <td>3</td>\n",
       "      <td>Great</td>\n",
       "      <td>1</td>\n",
       "    </tr>\n",
       "    <tr>\n",
       "      <th>...</th>\n",
       "      <td>...</td>\n",
       "      <td>...</td>\n",
       "      <td>...</td>\n",
       "      <td>...</td>\n",
       "      <td>...</td>\n",
       "      <td>...</td>\n",
       "      <td>...</td>\n",
       "      <td>...</td>\n",
       "      <td>...</td>\n",
       "      <td>...</td>\n",
       "      <td>...</td>\n",
       "      <td>...</td>\n",
       "      <td>...</td>\n",
       "      <td>...</td>\n",
       "      <td>...</td>\n",
       "      <td>...</td>\n",
       "      <td>...</td>\n",
       "      <td>...</td>\n",
       "      <td>...</td>\n",
       "      <td>...</td>\n",
       "      <td>...</td>\n",
       "    </tr>\n",
       "    <tr>\n",
       "      <th>1220</th>\n",
       "      <td>tt7961060</td>\n",
       "      <td>2018</td>\n",
       "      <td>100.0</td>\n",
       "      <td>[Action, Adventure, Animation]</td>\n",
       "      <td>8.0</td>\n",
       "      <td>16465</td>\n",
       "      <td>Dragon Ball Super: Broly</td>\n",
       "      <td>36</td>\n",
       "      <td>Jan 16, 2019</td>\n",
       "      <td>8500000.0</td>\n",
       "      <td>...</td>\n",
       "      <td>0</td>\n",
       "      <td>0</td>\n",
       "      <td>1</td>\n",
       "      <td>1344.091235</td>\n",
       "      <td>257.373588</td>\n",
       "      <td>93.075230</td>\n",
       "      <td>72.018078</td>\n",
       "      <td>3</td>\n",
       "      <td>Great</td>\n",
       "      <td>1</td>\n",
       "    </tr>\n",
       "    <tr>\n",
       "      <th>1221</th>\n",
       "      <td>tt7981492</td>\n",
       "      <td>2018</td>\n",
       "      <td>113.0</td>\n",
       "      <td>[Horror, Thriller]</td>\n",
       "      <td>4.3</td>\n",
       "      <td>971</td>\n",
       "      <td>Sabrina</td>\n",
       "      <td>60</td>\n",
       "      <td>Dec 15, 1995</td>\n",
       "      <td>58000000.0</td>\n",
       "      <td>...</td>\n",
       "      <td>0</td>\n",
       "      <td>0</td>\n",
       "      <td>0</td>\n",
       "      <td>50.172414</td>\n",
       "      <td>-7.830484</td>\n",
       "      <td>33.409874</td>\n",
       "      <td>-8.495742</td>\n",
       "      <td>2</td>\n",
       "      <td>Bad</td>\n",
       "      <td>1</td>\n",
       "    </tr>\n",
       "    <tr>\n",
       "      <th>1224</th>\n",
       "      <td>tt8450662</td>\n",
       "      <td>2018</td>\n",
       "      <td>66.0</td>\n",
       "      <td>[Documentary]</td>\n",
       "      <td>7.3</td>\n",
       "      <td>22</td>\n",
       "      <td>Beloved</td>\n",
       "      <td>65</td>\n",
       "      <td>Oct 16, 1998</td>\n",
       "      <td>53000000.0</td>\n",
       "      <td>...</td>\n",
       "      <td>0</td>\n",
       "      <td>0</td>\n",
       "      <td>0</td>\n",
       "      <td>-56.882100</td>\n",
       "      <td>-56.882100</td>\n",
       "      <td>-131.922241</td>\n",
       "      <td>-131.922241</td>\n",
       "      <td>1</td>\n",
       "      <td>Great</td>\n",
       "      <td>1</td>\n",
       "    </tr>\n",
       "    <tr>\n",
       "      <th>1225</th>\n",
       "      <td>tt8632862</td>\n",
       "      <td>2018</td>\n",
       "      <td>128.0</td>\n",
       "      <td>[Documentary]</td>\n",
       "      <td>6.7</td>\n",
       "      <td>11628</td>\n",
       "      <td>Fahrenheit 11/9</td>\n",
       "      <td>29</td>\n",
       "      <td>Sep 21, 2018</td>\n",
       "      <td>5000000.0</td>\n",
       "      <td>...</td>\n",
       "      <td>0</td>\n",
       "      <td>0</td>\n",
       "      <td>0</td>\n",
       "      <td>33.074300</td>\n",
       "      <td>27.046120</td>\n",
       "      <td>24.854010</td>\n",
       "      <td>21.288427</td>\n",
       "      <td>1</td>\n",
       "      <td>Good</td>\n",
       "      <td>1</td>\n",
       "    </tr>\n",
       "    <tr>\n",
       "      <th>1227</th>\n",
       "      <td>tt9024106</td>\n",
       "      <td>2019</td>\n",
       "      <td>106.0</td>\n",
       "      <td>[Biography, Drama]</td>\n",
       "      <td>6.3</td>\n",
       "      <td>5945</td>\n",
       "      <td>Unplanned</td>\n",
       "      <td>33</td>\n",
       "      <td>Mar 29, 2019</td>\n",
       "      <td>6000000.0</td>\n",
       "      <td>...</td>\n",
       "      <td>0</td>\n",
       "      <td>0</td>\n",
       "      <td>0</td>\n",
       "      <td>201.793683</td>\n",
       "      <td>201.793683</td>\n",
       "      <td>66.864780</td>\n",
       "      <td>66.864780</td>\n",
       "      <td>2</td>\n",
       "      <td>Good</td>\n",
       "      <td>1</td>\n",
       "    </tr>\n",
       "  </tbody>\n",
       "</table>\n",
       "<p>936 rows × 34 columns</p>\n",
       "</div>"
      ],
      "text/plain": [
       "       movie_id  start_year  runtime_minutes                          genres  \\\n",
       "0     tt0339736        2017             98.0                        [Horror]   \n",
       "2     tt0426566        2012              NaN                         [Drama]   \n",
       "3     tt0436230        2010              NaN              [Horror, Thriller]   \n",
       "4     tt0437086        2019            122.0     [Action, Adventure, Sci-Fi]   \n",
       "5     tt0443272        2012            150.0     [Biography, Drama, History]   \n",
       "...         ...         ...              ...                             ...   \n",
       "1220  tt7961060        2018            100.0  [Action, Adventure, Animation]   \n",
       "1221  tt7981492        2018            113.0              [Horror, Thriller]   \n",
       "1224  tt8450662        2018             66.0                   [Documentary]   \n",
       "1225  tt8632862        2018            128.0                   [Documentary]   \n",
       "1227  tt9024106        2019            106.0              [Biography, Drama]   \n",
       "\n",
       "      averagerating  numvotes                     title  id  release_date  \\\n",
       "0               5.6      2420                  Whiplash  43  Oct 10, 2014   \n",
       "2               6.0        13                 Breakdown  11   May 2, 1997   \n",
       "3               6.7        34          The Devil Inside  12   Jan 6, 2012   \n",
       "4               7.5     88207       Alita: Battle Angel  24  Feb 14, 2019   \n",
       "5               7.4    228701                   Lincoln  73   Nov 9, 2012   \n",
       "...             ...       ...                       ...  ..           ...   \n",
       "1220            8.0     16465  Dragon Ball Super: Broly  36  Jan 16, 2019   \n",
       "1221            4.3       971                   Sabrina  60  Dec 15, 1995   \n",
       "1224            7.3        22                   Beloved  65  Oct 16, 1998   \n",
       "1225            6.7     11628           Fahrenheit 11/9  29  Sep 21, 2018   \n",
       "1227            6.3      5945                 Unplanned  33  Mar 29, 2019   \n",
       "\n",
       "      production_budget  ...  Sci-Fi  Comedy  Action  ROI_worldwide  \\\n",
       "0             3300000.0  ...       0       0       0    1080.879909   \n",
       "2            36000000.0  ...       0       0       0      39.330956   \n",
       "3             1000000.0  ...       0       0       0   10075.949000   \n",
       "4           170000000.0  ...       1       0       1     137.044727   \n",
       "5            65000000.0  ...       0       0       0     320.532740   \n",
       "...                 ...  ...     ...     ...     ...            ...   \n",
       "1220          8500000.0  ...       0       0       1    1344.091235   \n",
       "1221         58000000.0  ...       0       0       0      50.172414   \n",
       "1224         53000000.0  ...       0       0       0     -56.882100   \n",
       "1225          5000000.0  ...       0       0       0      33.074300   \n",
       "1227          6000000.0  ...       0       0       0     201.793683   \n",
       "\n",
       "      ROI_domestic  gross_profit_margin_worldwide  \\\n",
       "0       296.727455                      91.531738   \n",
       "2        39.330956                      28.228440   \n",
       "3      5226.294500                      99.017291   \n",
       "4       -49.582229                      57.813869   \n",
       "5       180.319958                      76.220639   \n",
       "...            ...                            ...   \n",
       "1220    257.373588                      93.075230   \n",
       "1221     -7.830484                      33.409874   \n",
       "1224    -56.882100                    -131.922241   \n",
       "1225     27.046120                      24.854010   \n",
       "1227    201.793683                      66.864780   \n",
       "\n",
       "      gross_profit_margin_domestic  num_of_genres  rating  Other  \n",
       "0                        74.793779              1    Good      1  \n",
       "2                        28.228440              1    Good      1  \n",
       "3                        98.122522              2    Good      1  \n",
       "4                       -98.342765              3   Great      1  \n",
       "5                        64.326479              3   Great      1  \n",
       "...                            ...            ...     ...    ...  \n",
       "1220                     72.018078              3   Great      1  \n",
       "1221                     -8.495742              2     Bad      1  \n",
       "1224                   -131.922241              1   Great      1  \n",
       "1225                     21.288427              1    Good      1  \n",
       "1227                     66.864780              2    Good      1  \n",
       "\n",
       "[936 rows x 34 columns]"
      ]
     },
     "execution_count": 240,
     "metadata": {},
     "output_type": "execute_result"
    }
   ],
   "source": [
    "main_df"
   ]
  },
  {
   "cell_type": "code",
   "execution_count": 241,
   "metadata": {
    "ExecuteTime": {
     "end_time": "2022-03-09T22:24:54.709191Z",
     "start_time": "2022-03-09T22:24:54.691423Z"
    }
   },
   "outputs": [],
   "source": [
    "#created function to merge animation and family movies into one genre\n",
    "\n",
    "def family_animation(genre):\n",
    "    if 'Family' in genre or 'Animation' in genre:\n",
    "        return 1\n",
    "    else:\n",
    "        return 0\n",
    "\n",
    "#created new genre column called 'Family Friendly'\n",
    "main_df['Family Friendly'] = main_df.genres.apply(lambda x: family_animation(x))"
   ]
  },
  {
   "cell_type": "code",
   "execution_count": 243,
   "metadata": {
    "ExecuteTime": {
     "end_time": "2022-03-09T22:24:56.598738Z",
     "start_time": "2022-03-09T22:24:56.508945Z"
    }
   },
   "outputs": [
    {
     "data": {
      "text/html": [
       "<div>\n",
       "<style scoped>\n",
       "    .dataframe tbody tr th:only-of-type {\n",
       "        vertical-align: middle;\n",
       "    }\n",
       "\n",
       "    .dataframe tbody tr th {\n",
       "        vertical-align: top;\n",
       "    }\n",
       "\n",
       "    .dataframe thead th {\n",
       "        text-align: right;\n",
       "    }\n",
       "</style>\n",
       "<table border=\"1\" class=\"dataframe\">\n",
       "  <thead>\n",
       "    <tr style=\"text-align: right;\">\n",
       "      <th></th>\n",
       "      <th>movie_id</th>\n",
       "      <th>start_year</th>\n",
       "      <th>runtime_minutes</th>\n",
       "      <th>genres</th>\n",
       "      <th>averagerating</th>\n",
       "      <th>numvotes</th>\n",
       "      <th>title</th>\n",
       "      <th>id</th>\n",
       "      <th>release_date</th>\n",
       "      <th>production_budget</th>\n",
       "      <th>...</th>\n",
       "      <th>Comedy</th>\n",
       "      <th>Action</th>\n",
       "      <th>ROI_worldwide</th>\n",
       "      <th>ROI_domestic</th>\n",
       "      <th>gross_profit_margin_worldwide</th>\n",
       "      <th>gross_profit_margin_domestic</th>\n",
       "      <th>num_of_genres</th>\n",
       "      <th>rating</th>\n",
       "      <th>Other</th>\n",
       "      <th>Family Friendly</th>\n",
       "    </tr>\n",
       "  </thead>\n",
       "  <tbody>\n",
       "    <tr>\n",
       "      <th>0</th>\n",
       "      <td>tt0339736</td>\n",
       "      <td>2017</td>\n",
       "      <td>98.0</td>\n",
       "      <td>[Horror]</td>\n",
       "      <td>5.6</td>\n",
       "      <td>2420</td>\n",
       "      <td>Whiplash</td>\n",
       "      <td>43</td>\n",
       "      <td>Oct 10, 2014</td>\n",
       "      <td>3300000.0</td>\n",
       "      <td>...</td>\n",
       "      <td>0</td>\n",
       "      <td>0</td>\n",
       "      <td>1080.879909</td>\n",
       "      <td>296.727455</td>\n",
       "      <td>91.531738</td>\n",
       "      <td>74.793779</td>\n",
       "      <td>1</td>\n",
       "      <td>Good</td>\n",
       "      <td>1</td>\n",
       "      <td>0</td>\n",
       "    </tr>\n",
       "    <tr>\n",
       "      <th>2</th>\n",
       "      <td>tt0426566</td>\n",
       "      <td>2012</td>\n",
       "      <td>NaN</td>\n",
       "      <td>[Drama]</td>\n",
       "      <td>6.0</td>\n",
       "      <td>13</td>\n",
       "      <td>Breakdown</td>\n",
       "      <td>11</td>\n",
       "      <td>May 2, 1997</td>\n",
       "      <td>36000000.0</td>\n",
       "      <td>...</td>\n",
       "      <td>0</td>\n",
       "      <td>0</td>\n",
       "      <td>39.330956</td>\n",
       "      <td>39.330956</td>\n",
       "      <td>28.228440</td>\n",
       "      <td>28.228440</td>\n",
       "      <td>1</td>\n",
       "      <td>Good</td>\n",
       "      <td>1</td>\n",
       "      <td>0</td>\n",
       "    </tr>\n",
       "    <tr>\n",
       "      <th>3</th>\n",
       "      <td>tt0436230</td>\n",
       "      <td>2010</td>\n",
       "      <td>NaN</td>\n",
       "      <td>[Horror, Thriller]</td>\n",
       "      <td>6.7</td>\n",
       "      <td>34</td>\n",
       "      <td>The Devil Inside</td>\n",
       "      <td>12</td>\n",
       "      <td>Jan 6, 2012</td>\n",
       "      <td>1000000.0</td>\n",
       "      <td>...</td>\n",
       "      <td>0</td>\n",
       "      <td>0</td>\n",
       "      <td>10075.949000</td>\n",
       "      <td>5226.294500</td>\n",
       "      <td>99.017291</td>\n",
       "      <td>98.122522</td>\n",
       "      <td>2</td>\n",
       "      <td>Good</td>\n",
       "      <td>1</td>\n",
       "      <td>0</td>\n",
       "    </tr>\n",
       "    <tr>\n",
       "      <th>4</th>\n",
       "      <td>tt0437086</td>\n",
       "      <td>2019</td>\n",
       "      <td>122.0</td>\n",
       "      <td>[Action, Adventure, Sci-Fi]</td>\n",
       "      <td>7.5</td>\n",
       "      <td>88207</td>\n",
       "      <td>Alita: Battle Angel</td>\n",
       "      <td>24</td>\n",
       "      <td>Feb 14, 2019</td>\n",
       "      <td>170000000.0</td>\n",
       "      <td>...</td>\n",
       "      <td>0</td>\n",
       "      <td>1</td>\n",
       "      <td>137.044727</td>\n",
       "      <td>-49.582229</td>\n",
       "      <td>57.813869</td>\n",
       "      <td>-98.342765</td>\n",
       "      <td>3</td>\n",
       "      <td>Great</td>\n",
       "      <td>1</td>\n",
       "      <td>0</td>\n",
       "    </tr>\n",
       "    <tr>\n",
       "      <th>5</th>\n",
       "      <td>tt0443272</td>\n",
       "      <td>2012</td>\n",
       "      <td>150.0</td>\n",
       "      <td>[Biography, Drama, History]</td>\n",
       "      <td>7.4</td>\n",
       "      <td>228701</td>\n",
       "      <td>Lincoln</td>\n",
       "      <td>73</td>\n",
       "      <td>Nov 9, 2012</td>\n",
       "      <td>65000000.0</td>\n",
       "      <td>...</td>\n",
       "      <td>0</td>\n",
       "      <td>0</td>\n",
       "      <td>320.532740</td>\n",
       "      <td>180.319958</td>\n",
       "      <td>76.220639</td>\n",
       "      <td>64.326479</td>\n",
       "      <td>3</td>\n",
       "      <td>Great</td>\n",
       "      <td>1</td>\n",
       "      <td>0</td>\n",
       "    </tr>\n",
       "    <tr>\n",
       "      <th>...</th>\n",
       "      <td>...</td>\n",
       "      <td>...</td>\n",
       "      <td>...</td>\n",
       "      <td>...</td>\n",
       "      <td>...</td>\n",
       "      <td>...</td>\n",
       "      <td>...</td>\n",
       "      <td>...</td>\n",
       "      <td>...</td>\n",
       "      <td>...</td>\n",
       "      <td>...</td>\n",
       "      <td>...</td>\n",
       "      <td>...</td>\n",
       "      <td>...</td>\n",
       "      <td>...</td>\n",
       "      <td>...</td>\n",
       "      <td>...</td>\n",
       "      <td>...</td>\n",
       "      <td>...</td>\n",
       "      <td>...</td>\n",
       "      <td>...</td>\n",
       "    </tr>\n",
       "    <tr>\n",
       "      <th>1220</th>\n",
       "      <td>tt7961060</td>\n",
       "      <td>2018</td>\n",
       "      <td>100.0</td>\n",
       "      <td>[Action, Adventure, Animation]</td>\n",
       "      <td>8.0</td>\n",
       "      <td>16465</td>\n",
       "      <td>Dragon Ball Super: Broly</td>\n",
       "      <td>36</td>\n",
       "      <td>Jan 16, 2019</td>\n",
       "      <td>8500000.0</td>\n",
       "      <td>...</td>\n",
       "      <td>0</td>\n",
       "      <td>1</td>\n",
       "      <td>1344.091235</td>\n",
       "      <td>257.373588</td>\n",
       "      <td>93.075230</td>\n",
       "      <td>72.018078</td>\n",
       "      <td>3</td>\n",
       "      <td>Great</td>\n",
       "      <td>1</td>\n",
       "      <td>1</td>\n",
       "    </tr>\n",
       "    <tr>\n",
       "      <th>1221</th>\n",
       "      <td>tt7981492</td>\n",
       "      <td>2018</td>\n",
       "      <td>113.0</td>\n",
       "      <td>[Horror, Thriller]</td>\n",
       "      <td>4.3</td>\n",
       "      <td>971</td>\n",
       "      <td>Sabrina</td>\n",
       "      <td>60</td>\n",
       "      <td>Dec 15, 1995</td>\n",
       "      <td>58000000.0</td>\n",
       "      <td>...</td>\n",
       "      <td>0</td>\n",
       "      <td>0</td>\n",
       "      <td>50.172414</td>\n",
       "      <td>-7.830484</td>\n",
       "      <td>33.409874</td>\n",
       "      <td>-8.495742</td>\n",
       "      <td>2</td>\n",
       "      <td>Bad</td>\n",
       "      <td>1</td>\n",
       "      <td>0</td>\n",
       "    </tr>\n",
       "    <tr>\n",
       "      <th>1224</th>\n",
       "      <td>tt8450662</td>\n",
       "      <td>2018</td>\n",
       "      <td>66.0</td>\n",
       "      <td>[Documentary]</td>\n",
       "      <td>7.3</td>\n",
       "      <td>22</td>\n",
       "      <td>Beloved</td>\n",
       "      <td>65</td>\n",
       "      <td>Oct 16, 1998</td>\n",
       "      <td>53000000.0</td>\n",
       "      <td>...</td>\n",
       "      <td>0</td>\n",
       "      <td>0</td>\n",
       "      <td>-56.882100</td>\n",
       "      <td>-56.882100</td>\n",
       "      <td>-131.922241</td>\n",
       "      <td>-131.922241</td>\n",
       "      <td>1</td>\n",
       "      <td>Great</td>\n",
       "      <td>1</td>\n",
       "      <td>0</td>\n",
       "    </tr>\n",
       "    <tr>\n",
       "      <th>1225</th>\n",
       "      <td>tt8632862</td>\n",
       "      <td>2018</td>\n",
       "      <td>128.0</td>\n",
       "      <td>[Documentary]</td>\n",
       "      <td>6.7</td>\n",
       "      <td>11628</td>\n",
       "      <td>Fahrenheit 11/9</td>\n",
       "      <td>29</td>\n",
       "      <td>Sep 21, 2018</td>\n",
       "      <td>5000000.0</td>\n",
       "      <td>...</td>\n",
       "      <td>0</td>\n",
       "      <td>0</td>\n",
       "      <td>33.074300</td>\n",
       "      <td>27.046120</td>\n",
       "      <td>24.854010</td>\n",
       "      <td>21.288427</td>\n",
       "      <td>1</td>\n",
       "      <td>Good</td>\n",
       "      <td>1</td>\n",
       "      <td>0</td>\n",
       "    </tr>\n",
       "    <tr>\n",
       "      <th>1227</th>\n",
       "      <td>tt9024106</td>\n",
       "      <td>2019</td>\n",
       "      <td>106.0</td>\n",
       "      <td>[Biography, Drama]</td>\n",
       "      <td>6.3</td>\n",
       "      <td>5945</td>\n",
       "      <td>Unplanned</td>\n",
       "      <td>33</td>\n",
       "      <td>Mar 29, 2019</td>\n",
       "      <td>6000000.0</td>\n",
       "      <td>...</td>\n",
       "      <td>0</td>\n",
       "      <td>0</td>\n",
       "      <td>201.793683</td>\n",
       "      <td>201.793683</td>\n",
       "      <td>66.864780</td>\n",
       "      <td>66.864780</td>\n",
       "      <td>2</td>\n",
       "      <td>Good</td>\n",
       "      <td>1</td>\n",
       "      <td>0</td>\n",
       "    </tr>\n",
       "  </tbody>\n",
       "</table>\n",
       "<p>936 rows × 35 columns</p>\n",
       "</div>"
      ],
      "text/plain": [
       "       movie_id  start_year  runtime_minutes                          genres  \\\n",
       "0     tt0339736        2017             98.0                        [Horror]   \n",
       "2     tt0426566        2012              NaN                         [Drama]   \n",
       "3     tt0436230        2010              NaN              [Horror, Thriller]   \n",
       "4     tt0437086        2019            122.0     [Action, Adventure, Sci-Fi]   \n",
       "5     tt0443272        2012            150.0     [Biography, Drama, History]   \n",
       "...         ...         ...              ...                             ...   \n",
       "1220  tt7961060        2018            100.0  [Action, Adventure, Animation]   \n",
       "1221  tt7981492        2018            113.0              [Horror, Thriller]   \n",
       "1224  tt8450662        2018             66.0                   [Documentary]   \n",
       "1225  tt8632862        2018            128.0                   [Documentary]   \n",
       "1227  tt9024106        2019            106.0              [Biography, Drama]   \n",
       "\n",
       "      averagerating  numvotes                     title  id  release_date  \\\n",
       "0               5.6      2420                  Whiplash  43  Oct 10, 2014   \n",
       "2               6.0        13                 Breakdown  11   May 2, 1997   \n",
       "3               6.7        34          The Devil Inside  12   Jan 6, 2012   \n",
       "4               7.5     88207       Alita: Battle Angel  24  Feb 14, 2019   \n",
       "5               7.4    228701                   Lincoln  73   Nov 9, 2012   \n",
       "...             ...       ...                       ...  ..           ...   \n",
       "1220            8.0     16465  Dragon Ball Super: Broly  36  Jan 16, 2019   \n",
       "1221            4.3       971                   Sabrina  60  Dec 15, 1995   \n",
       "1224            7.3        22                   Beloved  65  Oct 16, 1998   \n",
       "1225            6.7     11628           Fahrenheit 11/9  29  Sep 21, 2018   \n",
       "1227            6.3      5945                 Unplanned  33  Mar 29, 2019   \n",
       "\n",
       "      production_budget  ...  Comedy  Action  ROI_worldwide  ROI_domestic  \\\n",
       "0             3300000.0  ...       0       0    1080.879909    296.727455   \n",
       "2            36000000.0  ...       0       0      39.330956     39.330956   \n",
       "3             1000000.0  ...       0       0   10075.949000   5226.294500   \n",
       "4           170000000.0  ...       0       1     137.044727    -49.582229   \n",
       "5            65000000.0  ...       0       0     320.532740    180.319958   \n",
       "...                 ...  ...     ...     ...            ...           ...   \n",
       "1220          8500000.0  ...       0       1    1344.091235    257.373588   \n",
       "1221         58000000.0  ...       0       0      50.172414     -7.830484   \n",
       "1224         53000000.0  ...       0       0     -56.882100    -56.882100   \n",
       "1225          5000000.0  ...       0       0      33.074300     27.046120   \n",
       "1227          6000000.0  ...       0       0     201.793683    201.793683   \n",
       "\n",
       "      gross_profit_margin_worldwide  gross_profit_margin_domestic  \\\n",
       "0                         91.531738                     74.793779   \n",
       "2                         28.228440                     28.228440   \n",
       "3                         99.017291                     98.122522   \n",
       "4                         57.813869                    -98.342765   \n",
       "5                         76.220639                     64.326479   \n",
       "...                             ...                           ...   \n",
       "1220                      93.075230                     72.018078   \n",
       "1221                      33.409874                     -8.495742   \n",
       "1224                    -131.922241                   -131.922241   \n",
       "1225                      24.854010                     21.288427   \n",
       "1227                      66.864780                     66.864780   \n",
       "\n",
       "      num_of_genres  rating  Other  Family Friendly  \n",
       "0                 1    Good      1                0  \n",
       "2                 1    Good      1                0  \n",
       "3                 2    Good      1                0  \n",
       "4                 3   Great      1                0  \n",
       "5                 3   Great      1                0  \n",
       "...             ...     ...    ...              ...  \n",
       "1220              3   Great      1                1  \n",
       "1221              2     Bad      1                0  \n",
       "1224              1   Great      1                0  \n",
       "1225              1    Good      1                0  \n",
       "1227              2    Good      1                0  \n",
       "\n",
       "[936 rows x 35 columns]"
      ]
     },
     "execution_count": 243,
     "metadata": {},
     "output_type": "execute_result"
    }
   ],
   "source": [
    "main_df"
   ]
  },
  {
   "cell_type": "code",
   "execution_count": 244,
   "metadata": {
    "ExecuteTime": {
     "end_time": "2022-03-09T22:24:57.499134Z",
     "start_time": "2022-03-09T22:24:57.489010Z"
    }
   },
   "outputs": [],
   "source": [
    "#created function to combine sci-fi and fantasy genre\n",
    "def scifi_fantasy(genre):\n",
    "    if 'Sci-Fi' in genre or 'Fantasy' in genre:\n",
    "        return 1\n",
    "    else:\n",
    "        return 0\n",
    "\n",
    "#created new column for sci-fi/fantasy movies\n",
    "main_df['Sci-Fi/Fantasy'] = main_df.genres.apply(lambda x: scifi_fantasy(x))"
   ]
  },
  {
   "cell_type": "code",
   "execution_count": 246,
   "metadata": {
    "ExecuteTime": {
     "end_time": "2022-03-09T22:24:59.370122Z",
     "start_time": "2022-03-09T22:24:59.270635Z"
    }
   },
   "outputs": [
    {
     "data": {
      "text/html": [
       "<div>\n",
       "<style scoped>\n",
       "    .dataframe tbody tr th:only-of-type {\n",
       "        vertical-align: middle;\n",
       "    }\n",
       "\n",
       "    .dataframe tbody tr th {\n",
       "        vertical-align: top;\n",
       "    }\n",
       "\n",
       "    .dataframe thead th {\n",
       "        text-align: right;\n",
       "    }\n",
       "</style>\n",
       "<table border=\"1\" class=\"dataframe\">\n",
       "  <thead>\n",
       "    <tr style=\"text-align: right;\">\n",
       "      <th></th>\n",
       "      <th>movie_id</th>\n",
       "      <th>start_year</th>\n",
       "      <th>runtime_minutes</th>\n",
       "      <th>genres</th>\n",
       "      <th>averagerating</th>\n",
       "      <th>numvotes</th>\n",
       "      <th>title</th>\n",
       "      <th>id</th>\n",
       "      <th>release_date</th>\n",
       "      <th>production_budget</th>\n",
       "      <th>...</th>\n",
       "      <th>Action</th>\n",
       "      <th>ROI_worldwide</th>\n",
       "      <th>ROI_domestic</th>\n",
       "      <th>gross_profit_margin_worldwide</th>\n",
       "      <th>gross_profit_margin_domestic</th>\n",
       "      <th>num_of_genres</th>\n",
       "      <th>rating</th>\n",
       "      <th>Other</th>\n",
       "      <th>Family Friendly</th>\n",
       "      <th>Sci-Fi/Fantasy</th>\n",
       "    </tr>\n",
       "  </thead>\n",
       "  <tbody>\n",
       "    <tr>\n",
       "      <th>0</th>\n",
       "      <td>tt0339736</td>\n",
       "      <td>2017</td>\n",
       "      <td>98.0</td>\n",
       "      <td>[Horror]</td>\n",
       "      <td>5.6</td>\n",
       "      <td>2420</td>\n",
       "      <td>Whiplash</td>\n",
       "      <td>43</td>\n",
       "      <td>Oct 10, 2014</td>\n",
       "      <td>3300000.0</td>\n",
       "      <td>...</td>\n",
       "      <td>0</td>\n",
       "      <td>1080.879909</td>\n",
       "      <td>296.727455</td>\n",
       "      <td>91.531738</td>\n",
       "      <td>74.793779</td>\n",
       "      <td>1</td>\n",
       "      <td>Good</td>\n",
       "      <td>1</td>\n",
       "      <td>0</td>\n",
       "      <td>0</td>\n",
       "    </tr>\n",
       "    <tr>\n",
       "      <th>2</th>\n",
       "      <td>tt0426566</td>\n",
       "      <td>2012</td>\n",
       "      <td>NaN</td>\n",
       "      <td>[Drama]</td>\n",
       "      <td>6.0</td>\n",
       "      <td>13</td>\n",
       "      <td>Breakdown</td>\n",
       "      <td>11</td>\n",
       "      <td>May 2, 1997</td>\n",
       "      <td>36000000.0</td>\n",
       "      <td>...</td>\n",
       "      <td>0</td>\n",
       "      <td>39.330956</td>\n",
       "      <td>39.330956</td>\n",
       "      <td>28.228440</td>\n",
       "      <td>28.228440</td>\n",
       "      <td>1</td>\n",
       "      <td>Good</td>\n",
       "      <td>1</td>\n",
       "      <td>0</td>\n",
       "      <td>0</td>\n",
       "    </tr>\n",
       "    <tr>\n",
       "      <th>3</th>\n",
       "      <td>tt0436230</td>\n",
       "      <td>2010</td>\n",
       "      <td>NaN</td>\n",
       "      <td>[Horror, Thriller]</td>\n",
       "      <td>6.7</td>\n",
       "      <td>34</td>\n",
       "      <td>The Devil Inside</td>\n",
       "      <td>12</td>\n",
       "      <td>Jan 6, 2012</td>\n",
       "      <td>1000000.0</td>\n",
       "      <td>...</td>\n",
       "      <td>0</td>\n",
       "      <td>10075.949000</td>\n",
       "      <td>5226.294500</td>\n",
       "      <td>99.017291</td>\n",
       "      <td>98.122522</td>\n",
       "      <td>2</td>\n",
       "      <td>Good</td>\n",
       "      <td>1</td>\n",
       "      <td>0</td>\n",
       "      <td>0</td>\n",
       "    </tr>\n",
       "    <tr>\n",
       "      <th>4</th>\n",
       "      <td>tt0437086</td>\n",
       "      <td>2019</td>\n",
       "      <td>122.0</td>\n",
       "      <td>[Action, Adventure, Sci-Fi]</td>\n",
       "      <td>7.5</td>\n",
       "      <td>88207</td>\n",
       "      <td>Alita: Battle Angel</td>\n",
       "      <td>24</td>\n",
       "      <td>Feb 14, 2019</td>\n",
       "      <td>170000000.0</td>\n",
       "      <td>...</td>\n",
       "      <td>1</td>\n",
       "      <td>137.044727</td>\n",
       "      <td>-49.582229</td>\n",
       "      <td>57.813869</td>\n",
       "      <td>-98.342765</td>\n",
       "      <td>3</td>\n",
       "      <td>Great</td>\n",
       "      <td>1</td>\n",
       "      <td>0</td>\n",
       "      <td>1</td>\n",
       "    </tr>\n",
       "    <tr>\n",
       "      <th>5</th>\n",
       "      <td>tt0443272</td>\n",
       "      <td>2012</td>\n",
       "      <td>150.0</td>\n",
       "      <td>[Biography, Drama, History]</td>\n",
       "      <td>7.4</td>\n",
       "      <td>228701</td>\n",
       "      <td>Lincoln</td>\n",
       "      <td>73</td>\n",
       "      <td>Nov 9, 2012</td>\n",
       "      <td>65000000.0</td>\n",
       "      <td>...</td>\n",
       "      <td>0</td>\n",
       "      <td>320.532740</td>\n",
       "      <td>180.319958</td>\n",
       "      <td>76.220639</td>\n",
       "      <td>64.326479</td>\n",
       "      <td>3</td>\n",
       "      <td>Great</td>\n",
       "      <td>1</td>\n",
       "      <td>0</td>\n",
       "      <td>0</td>\n",
       "    </tr>\n",
       "    <tr>\n",
       "      <th>...</th>\n",
       "      <td>...</td>\n",
       "      <td>...</td>\n",
       "      <td>...</td>\n",
       "      <td>...</td>\n",
       "      <td>...</td>\n",
       "      <td>...</td>\n",
       "      <td>...</td>\n",
       "      <td>...</td>\n",
       "      <td>...</td>\n",
       "      <td>...</td>\n",
       "      <td>...</td>\n",
       "      <td>...</td>\n",
       "      <td>...</td>\n",
       "      <td>...</td>\n",
       "      <td>...</td>\n",
       "      <td>...</td>\n",
       "      <td>...</td>\n",
       "      <td>...</td>\n",
       "      <td>...</td>\n",
       "      <td>...</td>\n",
       "      <td>...</td>\n",
       "    </tr>\n",
       "    <tr>\n",
       "      <th>1220</th>\n",
       "      <td>tt7961060</td>\n",
       "      <td>2018</td>\n",
       "      <td>100.0</td>\n",
       "      <td>[Action, Adventure, Animation]</td>\n",
       "      <td>8.0</td>\n",
       "      <td>16465</td>\n",
       "      <td>Dragon Ball Super: Broly</td>\n",
       "      <td>36</td>\n",
       "      <td>Jan 16, 2019</td>\n",
       "      <td>8500000.0</td>\n",
       "      <td>...</td>\n",
       "      <td>1</td>\n",
       "      <td>1344.091235</td>\n",
       "      <td>257.373588</td>\n",
       "      <td>93.075230</td>\n",
       "      <td>72.018078</td>\n",
       "      <td>3</td>\n",
       "      <td>Great</td>\n",
       "      <td>1</td>\n",
       "      <td>1</td>\n",
       "      <td>0</td>\n",
       "    </tr>\n",
       "    <tr>\n",
       "      <th>1221</th>\n",
       "      <td>tt7981492</td>\n",
       "      <td>2018</td>\n",
       "      <td>113.0</td>\n",
       "      <td>[Horror, Thriller]</td>\n",
       "      <td>4.3</td>\n",
       "      <td>971</td>\n",
       "      <td>Sabrina</td>\n",
       "      <td>60</td>\n",
       "      <td>Dec 15, 1995</td>\n",
       "      <td>58000000.0</td>\n",
       "      <td>...</td>\n",
       "      <td>0</td>\n",
       "      <td>50.172414</td>\n",
       "      <td>-7.830484</td>\n",
       "      <td>33.409874</td>\n",
       "      <td>-8.495742</td>\n",
       "      <td>2</td>\n",
       "      <td>Bad</td>\n",
       "      <td>1</td>\n",
       "      <td>0</td>\n",
       "      <td>0</td>\n",
       "    </tr>\n",
       "    <tr>\n",
       "      <th>1224</th>\n",
       "      <td>tt8450662</td>\n",
       "      <td>2018</td>\n",
       "      <td>66.0</td>\n",
       "      <td>[Documentary]</td>\n",
       "      <td>7.3</td>\n",
       "      <td>22</td>\n",
       "      <td>Beloved</td>\n",
       "      <td>65</td>\n",
       "      <td>Oct 16, 1998</td>\n",
       "      <td>53000000.0</td>\n",
       "      <td>...</td>\n",
       "      <td>0</td>\n",
       "      <td>-56.882100</td>\n",
       "      <td>-56.882100</td>\n",
       "      <td>-131.922241</td>\n",
       "      <td>-131.922241</td>\n",
       "      <td>1</td>\n",
       "      <td>Great</td>\n",
       "      <td>1</td>\n",
       "      <td>0</td>\n",
       "      <td>0</td>\n",
       "    </tr>\n",
       "    <tr>\n",
       "      <th>1225</th>\n",
       "      <td>tt8632862</td>\n",
       "      <td>2018</td>\n",
       "      <td>128.0</td>\n",
       "      <td>[Documentary]</td>\n",
       "      <td>6.7</td>\n",
       "      <td>11628</td>\n",
       "      <td>Fahrenheit 11/9</td>\n",
       "      <td>29</td>\n",
       "      <td>Sep 21, 2018</td>\n",
       "      <td>5000000.0</td>\n",
       "      <td>...</td>\n",
       "      <td>0</td>\n",
       "      <td>33.074300</td>\n",
       "      <td>27.046120</td>\n",
       "      <td>24.854010</td>\n",
       "      <td>21.288427</td>\n",
       "      <td>1</td>\n",
       "      <td>Good</td>\n",
       "      <td>1</td>\n",
       "      <td>0</td>\n",
       "      <td>0</td>\n",
       "    </tr>\n",
       "    <tr>\n",
       "      <th>1227</th>\n",
       "      <td>tt9024106</td>\n",
       "      <td>2019</td>\n",
       "      <td>106.0</td>\n",
       "      <td>[Biography, Drama]</td>\n",
       "      <td>6.3</td>\n",
       "      <td>5945</td>\n",
       "      <td>Unplanned</td>\n",
       "      <td>33</td>\n",
       "      <td>Mar 29, 2019</td>\n",
       "      <td>6000000.0</td>\n",
       "      <td>...</td>\n",
       "      <td>0</td>\n",
       "      <td>201.793683</td>\n",
       "      <td>201.793683</td>\n",
       "      <td>66.864780</td>\n",
       "      <td>66.864780</td>\n",
       "      <td>2</td>\n",
       "      <td>Good</td>\n",
       "      <td>1</td>\n",
       "      <td>0</td>\n",
       "      <td>0</td>\n",
       "    </tr>\n",
       "  </tbody>\n",
       "</table>\n",
       "<p>936 rows × 36 columns</p>\n",
       "</div>"
      ],
      "text/plain": [
       "       movie_id  start_year  runtime_minutes                          genres  \\\n",
       "0     tt0339736        2017             98.0                        [Horror]   \n",
       "2     tt0426566        2012              NaN                         [Drama]   \n",
       "3     tt0436230        2010              NaN              [Horror, Thriller]   \n",
       "4     tt0437086        2019            122.0     [Action, Adventure, Sci-Fi]   \n",
       "5     tt0443272        2012            150.0     [Biography, Drama, History]   \n",
       "...         ...         ...              ...                             ...   \n",
       "1220  tt7961060        2018            100.0  [Action, Adventure, Animation]   \n",
       "1221  tt7981492        2018            113.0              [Horror, Thriller]   \n",
       "1224  tt8450662        2018             66.0                   [Documentary]   \n",
       "1225  tt8632862        2018            128.0                   [Documentary]   \n",
       "1227  tt9024106        2019            106.0              [Biography, Drama]   \n",
       "\n",
       "      averagerating  numvotes                     title  id  release_date  \\\n",
       "0               5.6      2420                  Whiplash  43  Oct 10, 2014   \n",
       "2               6.0        13                 Breakdown  11   May 2, 1997   \n",
       "3               6.7        34          The Devil Inside  12   Jan 6, 2012   \n",
       "4               7.5     88207       Alita: Battle Angel  24  Feb 14, 2019   \n",
       "5               7.4    228701                   Lincoln  73   Nov 9, 2012   \n",
       "...             ...       ...                       ...  ..           ...   \n",
       "1220            8.0     16465  Dragon Ball Super: Broly  36  Jan 16, 2019   \n",
       "1221            4.3       971                   Sabrina  60  Dec 15, 1995   \n",
       "1224            7.3        22                   Beloved  65  Oct 16, 1998   \n",
       "1225            6.7     11628           Fahrenheit 11/9  29  Sep 21, 2018   \n",
       "1227            6.3      5945                 Unplanned  33  Mar 29, 2019   \n",
       "\n",
       "      production_budget  ...  Action  ROI_worldwide  ROI_domestic  \\\n",
       "0             3300000.0  ...       0    1080.879909    296.727455   \n",
       "2            36000000.0  ...       0      39.330956     39.330956   \n",
       "3             1000000.0  ...       0   10075.949000   5226.294500   \n",
       "4           170000000.0  ...       1     137.044727    -49.582229   \n",
       "5            65000000.0  ...       0     320.532740    180.319958   \n",
       "...                 ...  ...     ...            ...           ...   \n",
       "1220          8500000.0  ...       1    1344.091235    257.373588   \n",
       "1221         58000000.0  ...       0      50.172414     -7.830484   \n",
       "1224         53000000.0  ...       0     -56.882100    -56.882100   \n",
       "1225          5000000.0  ...       0      33.074300     27.046120   \n",
       "1227          6000000.0  ...       0     201.793683    201.793683   \n",
       "\n",
       "      gross_profit_margin_worldwide  gross_profit_margin_domestic  \\\n",
       "0                         91.531738                     74.793779   \n",
       "2                         28.228440                     28.228440   \n",
       "3                         99.017291                     98.122522   \n",
       "4                         57.813869                    -98.342765   \n",
       "5                         76.220639                     64.326479   \n",
       "...                             ...                           ...   \n",
       "1220                      93.075230                     72.018078   \n",
       "1221                      33.409874                     -8.495742   \n",
       "1224                    -131.922241                   -131.922241   \n",
       "1225                      24.854010                     21.288427   \n",
       "1227                      66.864780                     66.864780   \n",
       "\n",
       "      num_of_genres  rating  Other  Family Friendly  Sci-Fi/Fantasy  \n",
       "0                 1    Good      1                0               0  \n",
       "2                 1    Good      1                0               0  \n",
       "3                 2    Good      1                0               0  \n",
       "4                 3   Great      1                0               1  \n",
       "5                 3   Great      1                0               0  \n",
       "...             ...     ...    ...              ...             ...  \n",
       "1220              3   Great      1                1               0  \n",
       "1221              2     Bad      1                0               0  \n",
       "1224              1   Great      1                0               0  \n",
       "1225              1    Good      1                0               0  \n",
       "1227              2    Good      1                0               0  \n",
       "\n",
       "[936 rows x 36 columns]"
      ]
     },
     "execution_count": 246,
     "metadata": {},
     "output_type": "execute_result"
    }
   ],
   "source": [
    "main_df"
   ]
  },
  {
   "cell_type": "code",
   "execution_count": 247,
   "metadata": {
    "ExecuteTime": {
     "end_time": "2022-03-09T22:25:00.309287Z",
     "start_time": "2022-03-09T22:25:00.290935Z"
    }
   },
   "outputs": [
    {
     "data": {
      "text/plain": [
       "Index(['movie_id', 'start_year', 'runtime_minutes', 'genres', 'averagerating',\n",
       "       'numvotes', 'title', 'id', 'release_date', 'production_budget',\n",
       "       'domestic_gross', 'worldwide_gross', 'Fantasy', 'Drama', 'Documentary',\n",
       "       'Horror', 'Adventure', 'Thriller', 'Animation', 'Biography', 'Family',\n",
       "       'Mystery', 'Crime', 'Romance', 'Sci-Fi', 'Comedy', 'Action',\n",
       "       'ROI_worldwide', 'ROI_domestic', 'gross_profit_margin_worldwide',\n",
       "       'gross_profit_margin_domestic', 'num_of_genres', 'rating', 'Other',\n",
       "       'Family Friendly', 'Sci-Fi/Fantasy'],\n",
       "      dtype='object')"
      ]
     },
     "execution_count": 247,
     "metadata": {},
     "output_type": "execute_result"
    }
   ],
   "source": [
    "main_df.columns"
   ]
  },
  {
   "cell_type": "code",
   "execution_count": 248,
   "metadata": {
    "ExecuteTime": {
     "end_time": "2022-03-09T22:25:01.224168Z",
     "start_time": "2022-03-09T22:25:01.208981Z"
    }
   },
   "outputs": [],
   "source": [
    "#dropped more unnecessary columns\n",
    "main_df.drop(columns=['Sci-Fi', 'Family', 'Animation', 'Fantasy'], inplace=True)"
   ]
  },
  {
   "cell_type": "code",
   "execution_count": 249,
   "metadata": {
    "ExecuteTime": {
     "end_time": "2022-03-09T22:25:02.199461Z",
     "start_time": "2022-03-09T22:25:02.098728Z"
    }
   },
   "outputs": [
    {
     "data": {
      "text/html": [
       "<div>\n",
       "<style scoped>\n",
       "    .dataframe tbody tr th:only-of-type {\n",
       "        vertical-align: middle;\n",
       "    }\n",
       "\n",
       "    .dataframe tbody tr th {\n",
       "        vertical-align: top;\n",
       "    }\n",
       "\n",
       "    .dataframe thead th {\n",
       "        text-align: right;\n",
       "    }\n",
       "</style>\n",
       "<table border=\"1\" class=\"dataframe\">\n",
       "  <thead>\n",
       "    <tr style=\"text-align: right;\">\n",
       "      <th></th>\n",
       "      <th>movie_id</th>\n",
       "      <th>start_year</th>\n",
       "      <th>runtime_minutes</th>\n",
       "      <th>genres</th>\n",
       "      <th>averagerating</th>\n",
       "      <th>numvotes</th>\n",
       "      <th>title</th>\n",
       "      <th>id</th>\n",
       "      <th>release_date</th>\n",
       "      <th>production_budget</th>\n",
       "      <th>...</th>\n",
       "      <th>Action</th>\n",
       "      <th>ROI_worldwide</th>\n",
       "      <th>ROI_domestic</th>\n",
       "      <th>gross_profit_margin_worldwide</th>\n",
       "      <th>gross_profit_margin_domestic</th>\n",
       "      <th>num_of_genres</th>\n",
       "      <th>rating</th>\n",
       "      <th>Other</th>\n",
       "      <th>Family Friendly</th>\n",
       "      <th>Sci-Fi/Fantasy</th>\n",
       "    </tr>\n",
       "  </thead>\n",
       "  <tbody>\n",
       "    <tr>\n",
       "      <th>0</th>\n",
       "      <td>tt0339736</td>\n",
       "      <td>2017</td>\n",
       "      <td>98.0</td>\n",
       "      <td>[Horror]</td>\n",
       "      <td>5.6</td>\n",
       "      <td>2420</td>\n",
       "      <td>Whiplash</td>\n",
       "      <td>43</td>\n",
       "      <td>Oct 10, 2014</td>\n",
       "      <td>3300000.0</td>\n",
       "      <td>...</td>\n",
       "      <td>0</td>\n",
       "      <td>1080.879909</td>\n",
       "      <td>296.727455</td>\n",
       "      <td>91.531738</td>\n",
       "      <td>74.793779</td>\n",
       "      <td>1</td>\n",
       "      <td>Good</td>\n",
       "      <td>1</td>\n",
       "      <td>0</td>\n",
       "      <td>0</td>\n",
       "    </tr>\n",
       "    <tr>\n",
       "      <th>2</th>\n",
       "      <td>tt0426566</td>\n",
       "      <td>2012</td>\n",
       "      <td>NaN</td>\n",
       "      <td>[Drama]</td>\n",
       "      <td>6.0</td>\n",
       "      <td>13</td>\n",
       "      <td>Breakdown</td>\n",
       "      <td>11</td>\n",
       "      <td>May 2, 1997</td>\n",
       "      <td>36000000.0</td>\n",
       "      <td>...</td>\n",
       "      <td>0</td>\n",
       "      <td>39.330956</td>\n",
       "      <td>39.330956</td>\n",
       "      <td>28.228440</td>\n",
       "      <td>28.228440</td>\n",
       "      <td>1</td>\n",
       "      <td>Good</td>\n",
       "      <td>1</td>\n",
       "      <td>0</td>\n",
       "      <td>0</td>\n",
       "    </tr>\n",
       "    <tr>\n",
       "      <th>3</th>\n",
       "      <td>tt0436230</td>\n",
       "      <td>2010</td>\n",
       "      <td>NaN</td>\n",
       "      <td>[Horror, Thriller]</td>\n",
       "      <td>6.7</td>\n",
       "      <td>34</td>\n",
       "      <td>The Devil Inside</td>\n",
       "      <td>12</td>\n",
       "      <td>Jan 6, 2012</td>\n",
       "      <td>1000000.0</td>\n",
       "      <td>...</td>\n",
       "      <td>0</td>\n",
       "      <td>10075.949000</td>\n",
       "      <td>5226.294500</td>\n",
       "      <td>99.017291</td>\n",
       "      <td>98.122522</td>\n",
       "      <td>2</td>\n",
       "      <td>Good</td>\n",
       "      <td>1</td>\n",
       "      <td>0</td>\n",
       "      <td>0</td>\n",
       "    </tr>\n",
       "    <tr>\n",
       "      <th>4</th>\n",
       "      <td>tt0437086</td>\n",
       "      <td>2019</td>\n",
       "      <td>122.0</td>\n",
       "      <td>[Action, Adventure, Sci-Fi]</td>\n",
       "      <td>7.5</td>\n",
       "      <td>88207</td>\n",
       "      <td>Alita: Battle Angel</td>\n",
       "      <td>24</td>\n",
       "      <td>Feb 14, 2019</td>\n",
       "      <td>170000000.0</td>\n",
       "      <td>...</td>\n",
       "      <td>1</td>\n",
       "      <td>137.044727</td>\n",
       "      <td>-49.582229</td>\n",
       "      <td>57.813869</td>\n",
       "      <td>-98.342765</td>\n",
       "      <td>3</td>\n",
       "      <td>Great</td>\n",
       "      <td>1</td>\n",
       "      <td>0</td>\n",
       "      <td>1</td>\n",
       "    </tr>\n",
       "    <tr>\n",
       "      <th>5</th>\n",
       "      <td>tt0443272</td>\n",
       "      <td>2012</td>\n",
       "      <td>150.0</td>\n",
       "      <td>[Biography, Drama, History]</td>\n",
       "      <td>7.4</td>\n",
       "      <td>228701</td>\n",
       "      <td>Lincoln</td>\n",
       "      <td>73</td>\n",
       "      <td>Nov 9, 2012</td>\n",
       "      <td>65000000.0</td>\n",
       "      <td>...</td>\n",
       "      <td>0</td>\n",
       "      <td>320.532740</td>\n",
       "      <td>180.319958</td>\n",
       "      <td>76.220639</td>\n",
       "      <td>64.326479</td>\n",
       "      <td>3</td>\n",
       "      <td>Great</td>\n",
       "      <td>1</td>\n",
       "      <td>0</td>\n",
       "      <td>0</td>\n",
       "    </tr>\n",
       "    <tr>\n",
       "      <th>...</th>\n",
       "      <td>...</td>\n",
       "      <td>...</td>\n",
       "      <td>...</td>\n",
       "      <td>...</td>\n",
       "      <td>...</td>\n",
       "      <td>...</td>\n",
       "      <td>...</td>\n",
       "      <td>...</td>\n",
       "      <td>...</td>\n",
       "      <td>...</td>\n",
       "      <td>...</td>\n",
       "      <td>...</td>\n",
       "      <td>...</td>\n",
       "      <td>...</td>\n",
       "      <td>...</td>\n",
       "      <td>...</td>\n",
       "      <td>...</td>\n",
       "      <td>...</td>\n",
       "      <td>...</td>\n",
       "      <td>...</td>\n",
       "      <td>...</td>\n",
       "    </tr>\n",
       "    <tr>\n",
       "      <th>1220</th>\n",
       "      <td>tt7961060</td>\n",
       "      <td>2018</td>\n",
       "      <td>100.0</td>\n",
       "      <td>[Action, Adventure, Animation]</td>\n",
       "      <td>8.0</td>\n",
       "      <td>16465</td>\n",
       "      <td>Dragon Ball Super: Broly</td>\n",
       "      <td>36</td>\n",
       "      <td>Jan 16, 2019</td>\n",
       "      <td>8500000.0</td>\n",
       "      <td>...</td>\n",
       "      <td>1</td>\n",
       "      <td>1344.091235</td>\n",
       "      <td>257.373588</td>\n",
       "      <td>93.075230</td>\n",
       "      <td>72.018078</td>\n",
       "      <td>3</td>\n",
       "      <td>Great</td>\n",
       "      <td>1</td>\n",
       "      <td>1</td>\n",
       "      <td>0</td>\n",
       "    </tr>\n",
       "    <tr>\n",
       "      <th>1221</th>\n",
       "      <td>tt7981492</td>\n",
       "      <td>2018</td>\n",
       "      <td>113.0</td>\n",
       "      <td>[Horror, Thriller]</td>\n",
       "      <td>4.3</td>\n",
       "      <td>971</td>\n",
       "      <td>Sabrina</td>\n",
       "      <td>60</td>\n",
       "      <td>Dec 15, 1995</td>\n",
       "      <td>58000000.0</td>\n",
       "      <td>...</td>\n",
       "      <td>0</td>\n",
       "      <td>50.172414</td>\n",
       "      <td>-7.830484</td>\n",
       "      <td>33.409874</td>\n",
       "      <td>-8.495742</td>\n",
       "      <td>2</td>\n",
       "      <td>Bad</td>\n",
       "      <td>1</td>\n",
       "      <td>0</td>\n",
       "      <td>0</td>\n",
       "    </tr>\n",
       "    <tr>\n",
       "      <th>1224</th>\n",
       "      <td>tt8450662</td>\n",
       "      <td>2018</td>\n",
       "      <td>66.0</td>\n",
       "      <td>[Documentary]</td>\n",
       "      <td>7.3</td>\n",
       "      <td>22</td>\n",
       "      <td>Beloved</td>\n",
       "      <td>65</td>\n",
       "      <td>Oct 16, 1998</td>\n",
       "      <td>53000000.0</td>\n",
       "      <td>...</td>\n",
       "      <td>0</td>\n",
       "      <td>-56.882100</td>\n",
       "      <td>-56.882100</td>\n",
       "      <td>-131.922241</td>\n",
       "      <td>-131.922241</td>\n",
       "      <td>1</td>\n",
       "      <td>Great</td>\n",
       "      <td>1</td>\n",
       "      <td>0</td>\n",
       "      <td>0</td>\n",
       "    </tr>\n",
       "    <tr>\n",
       "      <th>1225</th>\n",
       "      <td>tt8632862</td>\n",
       "      <td>2018</td>\n",
       "      <td>128.0</td>\n",
       "      <td>[Documentary]</td>\n",
       "      <td>6.7</td>\n",
       "      <td>11628</td>\n",
       "      <td>Fahrenheit 11/9</td>\n",
       "      <td>29</td>\n",
       "      <td>Sep 21, 2018</td>\n",
       "      <td>5000000.0</td>\n",
       "      <td>...</td>\n",
       "      <td>0</td>\n",
       "      <td>33.074300</td>\n",
       "      <td>27.046120</td>\n",
       "      <td>24.854010</td>\n",
       "      <td>21.288427</td>\n",
       "      <td>1</td>\n",
       "      <td>Good</td>\n",
       "      <td>1</td>\n",
       "      <td>0</td>\n",
       "      <td>0</td>\n",
       "    </tr>\n",
       "    <tr>\n",
       "      <th>1227</th>\n",
       "      <td>tt9024106</td>\n",
       "      <td>2019</td>\n",
       "      <td>106.0</td>\n",
       "      <td>[Biography, Drama]</td>\n",
       "      <td>6.3</td>\n",
       "      <td>5945</td>\n",
       "      <td>Unplanned</td>\n",
       "      <td>33</td>\n",
       "      <td>Mar 29, 2019</td>\n",
       "      <td>6000000.0</td>\n",
       "      <td>...</td>\n",
       "      <td>0</td>\n",
       "      <td>201.793683</td>\n",
       "      <td>201.793683</td>\n",
       "      <td>66.864780</td>\n",
       "      <td>66.864780</td>\n",
       "      <td>2</td>\n",
       "      <td>Good</td>\n",
       "      <td>1</td>\n",
       "      <td>0</td>\n",
       "      <td>0</td>\n",
       "    </tr>\n",
       "  </tbody>\n",
       "</table>\n",
       "<p>936 rows × 32 columns</p>\n",
       "</div>"
      ],
      "text/plain": [
       "       movie_id  start_year  runtime_minutes                          genres  \\\n",
       "0     tt0339736        2017             98.0                        [Horror]   \n",
       "2     tt0426566        2012              NaN                         [Drama]   \n",
       "3     tt0436230        2010              NaN              [Horror, Thriller]   \n",
       "4     tt0437086        2019            122.0     [Action, Adventure, Sci-Fi]   \n",
       "5     tt0443272        2012            150.0     [Biography, Drama, History]   \n",
       "...         ...         ...              ...                             ...   \n",
       "1220  tt7961060        2018            100.0  [Action, Adventure, Animation]   \n",
       "1221  tt7981492        2018            113.0              [Horror, Thriller]   \n",
       "1224  tt8450662        2018             66.0                   [Documentary]   \n",
       "1225  tt8632862        2018            128.0                   [Documentary]   \n",
       "1227  tt9024106        2019            106.0              [Biography, Drama]   \n",
       "\n",
       "      averagerating  numvotes                     title  id  release_date  \\\n",
       "0               5.6      2420                  Whiplash  43  Oct 10, 2014   \n",
       "2               6.0        13                 Breakdown  11   May 2, 1997   \n",
       "3               6.7        34          The Devil Inside  12   Jan 6, 2012   \n",
       "4               7.5     88207       Alita: Battle Angel  24  Feb 14, 2019   \n",
       "5               7.4    228701                   Lincoln  73   Nov 9, 2012   \n",
       "...             ...       ...                       ...  ..           ...   \n",
       "1220            8.0     16465  Dragon Ball Super: Broly  36  Jan 16, 2019   \n",
       "1221            4.3       971                   Sabrina  60  Dec 15, 1995   \n",
       "1224            7.3        22                   Beloved  65  Oct 16, 1998   \n",
       "1225            6.7     11628           Fahrenheit 11/9  29  Sep 21, 2018   \n",
       "1227            6.3      5945                 Unplanned  33  Mar 29, 2019   \n",
       "\n",
       "      production_budget  ...  Action  ROI_worldwide  ROI_domestic  \\\n",
       "0             3300000.0  ...       0    1080.879909    296.727455   \n",
       "2            36000000.0  ...       0      39.330956     39.330956   \n",
       "3             1000000.0  ...       0   10075.949000   5226.294500   \n",
       "4           170000000.0  ...       1     137.044727    -49.582229   \n",
       "5            65000000.0  ...       0     320.532740    180.319958   \n",
       "...                 ...  ...     ...            ...           ...   \n",
       "1220          8500000.0  ...       1    1344.091235    257.373588   \n",
       "1221         58000000.0  ...       0      50.172414     -7.830484   \n",
       "1224         53000000.0  ...       0     -56.882100    -56.882100   \n",
       "1225          5000000.0  ...       0      33.074300     27.046120   \n",
       "1227          6000000.0  ...       0     201.793683    201.793683   \n",
       "\n",
       "      gross_profit_margin_worldwide  gross_profit_margin_domestic  \\\n",
       "0                         91.531738                     74.793779   \n",
       "2                         28.228440                     28.228440   \n",
       "3                         99.017291                     98.122522   \n",
       "4                         57.813869                    -98.342765   \n",
       "5                         76.220639                     64.326479   \n",
       "...                             ...                           ...   \n",
       "1220                      93.075230                     72.018078   \n",
       "1221                      33.409874                     -8.495742   \n",
       "1224                    -131.922241                   -131.922241   \n",
       "1225                      24.854010                     21.288427   \n",
       "1227                      66.864780                     66.864780   \n",
       "\n",
       "      num_of_genres  rating  Other  Family Friendly  Sci-Fi/Fantasy  \n",
       "0                 1    Good      1                0               0  \n",
       "2                 1    Good      1                0               0  \n",
       "3                 2    Good      1                0               0  \n",
       "4                 3   Great      1                0               1  \n",
       "5                 3   Great      1                0               0  \n",
       "...             ...     ...    ...              ...             ...  \n",
       "1220              3   Great      1                1               0  \n",
       "1221              2     Bad      1                0               0  \n",
       "1224              1   Great      1                0               0  \n",
       "1225              1    Good      1                0               0  \n",
       "1227              2    Good      1                0               0  \n",
       "\n",
       "[936 rows x 32 columns]"
      ]
     },
     "execution_count": 249,
     "metadata": {},
     "output_type": "execute_result"
    }
   ],
   "source": [
    "main_df"
   ]
  },
  {
   "cell_type": "code",
   "execution_count": 251,
   "metadata": {
    "ExecuteTime": {
     "end_time": "2022-03-09T22:25:04.019316Z",
     "start_time": "2022-03-09T22:25:04.003358Z"
    }
   },
   "outputs": [],
   "source": [
    "#updated genre list\n",
    "\n",
    "genre_columns.remove('War')\n",
    "genre_columns.remove('News')\n",
    "genre_columns.remove('Sci-Fi')\n",
    "genre_columns.remove('Sport')\n",
    "genre_columns.remove('History')\n",
    "genre_columns.remove('Western')\n",
    "genre_columns.remove('Family')\n",
    "genre_columns.remove('Animation')\n",
    "genre_columns.remove('Music')\n",
    "genre_columns.remove('Musical')\n",
    "genre_columns.remove('Fantasy')\n",
    "\n",
    "genre_columns.append('Family Friendly')\n",
    "genre_columns.append('Sci-Fi/Fantasy')\n",
    "genre_columns.append('Other')"
   ]
  },
  {
   "cell_type": "code",
   "execution_count": 252,
   "metadata": {
    "ExecuteTime": {
     "end_time": "2022-03-09T22:25:04.918535Z",
     "start_time": "2022-03-09T22:25:04.902623Z"
    }
   },
   "outputs": [
    {
     "data": {
      "text/plain": [
       "['Drama',\n",
       " 'Documentary',\n",
       " 'Horror',\n",
       " 'Adventure',\n",
       " 'Thriller',\n",
       " 'Biography',\n",
       " 'Mystery',\n",
       " 'Crime',\n",
       " 'Romance',\n",
       " 'Comedy',\n",
       " 'Action',\n",
       " 'Family Friendly',\n",
       " 'Sci-Fi/Fantasy',\n",
       " 'Other']"
      ]
     },
     "execution_count": 252,
     "metadata": {},
     "output_type": "execute_result"
    }
   ],
   "source": [
    "genre_columns"
   ]
  },
  {
   "cell_type": "code",
   "execution_count": 253,
   "metadata": {
    "ExecuteTime": {
     "end_time": "2022-03-09T22:25:05.792742Z",
     "start_time": "2022-03-09T22:25:05.722557Z"
    }
   },
   "outputs": [
    {
     "data": {
      "text/plain": [
       "14"
      ]
     },
     "execution_count": 253,
     "metadata": {},
     "output_type": "execute_result"
    }
   ],
   "source": [
    "#created a list calle groups that has dataframes grouped by all the genres in main_df \n",
    "\n",
    "groups = []\n",
    "\n",
    "for i in genre_columns:\n",
    "    i = main_df.groupby([i]).mean()\n",
    "    groups.append(i)\n",
    "\n",
    "len(groups)"
   ]
  },
  {
   "cell_type": "code",
   "execution_count": 255,
   "metadata": {
    "ExecuteTime": {
     "end_time": "2022-03-09T22:25:12.476502Z",
     "start_time": "2022-03-09T22:25:07.727141Z"
    }
   },
   "outputs": [
    {
     "data": {
      "image/png": "[encoded data removed]",
      "text/plain": [
       "<Figure size 1080x576 with 1 Axes>"
      ]
     },
     "metadata": {
      "needs_background": "light"
     },
     "output_type": "display_data"
    },
    {
     "data": {
      "image/png": "[encoded data removed]",
      "text/plain": [
       "<Figure size 1080x576 with 1 Axes>"
      ]
     },
     "metadata": {
      "needs_background": "light"
     },
     "output_type": "display_data"
    },
    {
     "data": {
      "image/png": "[encoded data removed]",
      "text/plain": [
       "<Figure size 1080x576 with 1 Axes>"
      ]
     },
     "metadata": {
      "needs_background": "light"
     },
     "output_type": "display_data"
    },
    {
     "data": {
      "image/png": "[encoded data removed]",
      "text/plain": [
       "<Figure size 1080x576 with 1 Axes>"
      ]
     },
     "metadata": {
      "needs_background": "light"
     },
     "output_type": "display_data"
    },
    {
     "data": {
      "image/png": "[encoded data removed]",
      "text/plain": [
       "<Figure size 1080x576 with 1 Axes>"
      ]
     },
     "metadata": {
      "needs_background": "light"
     },
     "output_type": "display_data"
    },
    {
     "data": {
      "image/png": "[encoded data removed]",
      "text/plain": [
       "<Figure size 1080x576 with 1 Axes>"
      ]
     },
     "metadata": {
      "needs_background": "light"
     },
     "output_type": "display_data"
    },
    {
     "data": {
      "image/png": "[encoded data removed]",
      "text/plain": [
       "<Figure size 1080x576 with 1 Axes>"
      ]
     },
     "metadata": {
      "needs_background": "light"
     },
     "output_type": "display_data"
    },
    {
     "data": {
      "image/png": "[encoded data removed]",
      "text/plain": [
       "<Figure size 1080x576 with 1 Axes>"
      ]
     },
     "metadata": {
      "needs_background": "light"
     },
     "output_type": "display_data"
    },
    {
     "data": {
      "image/png": "[encoded data removed]",
      "text/plain": [
       "<Figure size 1080x576 with 1 Axes>"
      ]
     },
     "metadata": {
      "needs_background": "light"
     },
     "output_type": "display_data"
    },
    {
     "data": {
      "image/png": "[encoded data removed]",
      "text/plain": [
       "<Figure size 1080x576 with 1 Axes>"
      ]
     },
     "metadata": {
      "needs_background": "light"
     },
     "output_type": "display_data"
    },
    {
     "data": {
      "image/png": "[encoded data removed]",
      "text/plain": [
       "<Figure size 1080x576 with 1 Axes>"
      ]
     },
     "metadata": {
      "needs_background": "light"
     },
     "output_type": "display_data"
    },
    {
     "data": {
      "image/png": "[encoded data removed]",
      "text/plain": [
       "<Figure size 1080x576 with 1 Axes>"
      ]
     },
     "metadata": {
      "needs_background": "light"
     },
     "output_type": "display_data"
    },
    {
     "data": {
      "image/png": "[encoded data removed]",
      "text/plain": [
       "<Figure size 1080x576 with 1 Axes>"
      ]
     },
     "metadata": {
      "needs_background": "light"
     },
     "output_type": "display_data"
    },
    {
     "data": {
      "image/png": "[encoded data removed]",
      "text/plain": [
       "<Figure size 1080x576 with 1 Axes>"
      ]
     },
     "metadata": {
      "needs_background": "light"
     },
     "output_type": "display_data"
    }
   ],
   "source": [
    "#empty dictionary to store average ROI for each genre\n",
    "genres_dct = {}\n",
    "\n",
    "#for loop which generates graphs for individaul genres and ROI\n",
    "#adds genre and ROI to genres_dct\n",
    "counter = 0\n",
    "for i in genre_columns:\n",
    "    \n",
    "\n",
    "    groups[counter][['ROI_worldwide']].plot(kind='barh', figsize=(15,8))\n",
    "    plt.legend(['ROI World Wide'])\n",
    "    plt.title('Average ROI for {} Movies'.format(i))\n",
    "    \n",
    "    genres_dct[i] = list(groups[counter][['ROI_worldwide']].loc[1])[0]\n",
    "                                                                \n",
    "    plt.show()\n",
    "    counter +=1"
   ]
  },
  {
   "cell_type": "code",
   "execution_count": 256,
   "metadata": {
    "ExecuteTime": {
     "end_time": "2022-03-09T22:25:13.396896Z",
     "start_time": "2022-03-09T22:25:13.379326Z"
    }
   },
   "outputs": [
    {
     "data": {
      "text/plain": [
       "{'Drama': 268.7528219917036,\n",
       " 'Documentary': 465.22109527957565,\n",
       " 'Horror': 574.770986077203,\n",
       " 'Adventure': 220.69631137428303,\n",
       " 'Thriller': 356.94524577414217,\n",
       " 'Biography': 600.2801257009237,\n",
       " 'Mystery': 428.8087264880483,\n",
       " 'Crime': 252.16561474499554,\n",
       " 'Romance': 361.89123111187695,\n",
       " 'Comedy': 376.74784506410145,\n",
       " 'Action': 417.7867574977618,\n",
       " 'Family Friendly': 297.97818395789113,\n",
       " 'Sci-Fi/Fantasy': 256.554589429844,\n",
       " 'Other': 321.50741399874045}"
      ]
     },
     "execution_count": 256,
     "metadata": {},
     "output_type": "execute_result"
    }
   ],
   "source": [
    "genres_dct"
   ]
  },
  {
   "cell_type": "code",
   "execution_count": 257,
   "metadata": {
    "ExecuteTime": {
     "end_time": "2022-03-09T22:25:14.856657Z",
     "start_time": "2022-03-09T22:25:14.322026Z"
    }
   },
   "outputs": [
    {
     "data": {
      "text/plain": [
       "<AxesSubplot:>"
      ]
     },
     "execution_count": 257,
     "metadata": {},
     "output_type": "execute_result"
    },
    {
     "data": {
      "image/png": "[encoded data removed]",
      "text/plain": [
       "<Figure size 1080x576 with 1 Axes>"
      ]
     },
     "metadata": {
      "needs_background": "light"
     },
     "output_type": "display_data"
    }
   ],
   "source": [
    "#created a dataframe using genres_dct\n",
    "\n",
    "ROI = pd.DataFrame(data=genres_dct, index=range(1))\n",
    "ROI = ROI.transpose()\n",
    "\n",
    "#plotted Average ROI by genre\n",
    "ROI.plot(kind='bar', figsize=(15,8))"
   ]
  },
  {
   "cell_type": "code",
   "execution_count": 258,
   "metadata": {
    "ExecuteTime": {
     "end_time": "2022-03-09T22:25:16.116511Z",
     "start_time": "2022-03-09T22:25:15.797222Z"
    }
   },
   "outputs": [
    {
     "data": {
      "text/plain": [
       "Text(0.5, 1.0, 'Top 5 Genre ROI')"
      ]
     },
     "execution_count": 258,
     "metadata": {},
     "output_type": "execute_result"
    },
    {
     "data": {
      "image/png": "[encoded data removed]",
      "text/plain": [
       "<Figure size 1080x576 with 1 Axes>"
      ]
     },
     "metadata": {
      "needs_background": "light"
     },
     "output_type": "display_data"
    }
   ],
   "source": [
    "#created a series of the five genres with the highest average ROIs\n",
    "top_5_genres = ROI[0].sort_values(ascending=False)[0:5]\n",
    "\n",
    "#plotted average ROI for 5 best genres\n",
    "fig, ax = plt.subplots(figsize=(15,8))\n",
    "\n",
    "ax.bar(range(5), top_5_genres, color='purple')\n",
    "ax.set_xticks(range(len(top_5_genres)))\n",
    "ax.set_xticklabels(top_5_genres.index)\n",
    "ax.set_ylim(300)\n",
    "\n",
    "ax.set_title('Top 5 Genre ROI', fontsize=20)"
   ]
  },
  {
   "cell_type": "code",
   "execution_count": 259,
   "metadata": {
    "ExecuteTime": {
     "end_time": "2022-03-09T22:25:17.057549Z",
     "start_time": "2022-03-09T22:25:17.039677Z"
    }
   },
   "outputs": [
    {
     "data": {
      "text/plain": [
       "Index(['Biography', 'Horror', 'Documentary', 'Mystery', 'Action'], dtype='object')"
      ]
     },
     "execution_count": 259,
     "metadata": {},
     "output_type": "execute_result"
    }
   ],
   "source": [
    "top_5_genres.index"
   ]
  },
  {
   "cell_type": "code",
   "execution_count": 260,
   "metadata": {
    "ExecuteTime": {
     "end_time": "2022-03-09T22:25:17.984706Z",
     "start_time": "2022-03-09T22:25:17.971495Z"
    }
   },
   "outputs": [],
   "source": [
    "#filterting dataframe\n",
    "\n",
    "wanted_columns=['movie_id', 'averagerating', 'numvotes', 'num_of_genres', 'rating',\n",
    "                'ROI_worldwide', 'Biography', 'Mystery', 'Horror', 'Documentary', 'Action']\n",
    "\n",
    "filtered_df = main_df.loc[:, wanted_columns]"
   ]
  },
  {
   "cell_type": "code",
   "execution_count": 262,
   "metadata": {
    "ExecuteTime": {
     "end_time": "2022-03-09T22:25:26.806998Z",
     "start_time": "2022-03-09T22:25:19.828382Z"
    }
   },
   "outputs": [],
   "source": [
    "#loaded in database with directors\n",
    "\n",
    "directors= pd.read_sql(\"\"\"\n",
    "\n",
    "SELECT primary_name as director, movie_id\n",
    "FROM persons\n",
    "JOIN directors\n",
    "    USING(person_id)\n",
    "\"\"\", conn)"
   ]
  },
  {
   "cell_type": "code",
   "execution_count": 263,
   "metadata": {
    "ExecuteTime": {
     "end_time": "2022-03-09T22:25:27.927337Z",
     "start_time": "2022-03-09T22:25:27.739639Z"
    }
   },
   "outputs": [],
   "source": [
    "#merged directors with filtered_df\n",
    "\n",
    "directors_ROI = filtered_df.merge(directors, on='movie_id')"
   ]
  },
  {
   "cell_type": "code",
   "execution_count": 264,
   "metadata": {
    "ExecuteTime": {
     "end_time": "2022-03-09T22:25:28.916929Z",
     "start_time": "2022-03-09T22:25:28.871935Z"
    }
   },
   "outputs": [
    {
     "data": {
      "text/html": [
       "<div>\n",
       "<style scoped>\n",
       "    .dataframe tbody tr th:only-of-type {\n",
       "        vertical-align: middle;\n",
       "    }\n",
       "\n",
       "    .dataframe tbody tr th {\n",
       "        vertical-align: top;\n",
       "    }\n",
       "\n",
       "    .dataframe thead th {\n",
       "        text-align: right;\n",
       "    }\n",
       "</style>\n",
       "<table border=\"1\" class=\"dataframe\">\n",
       "  <thead>\n",
       "    <tr style=\"text-align: right;\">\n",
       "      <th></th>\n",
       "      <th>movie_id</th>\n",
       "      <th>averagerating</th>\n",
       "      <th>numvotes</th>\n",
       "      <th>num_of_genres</th>\n",
       "      <th>rating</th>\n",
       "      <th>ROI_worldwide</th>\n",
       "      <th>Biography</th>\n",
       "      <th>Mystery</th>\n",
       "      <th>Horror</th>\n",
       "      <th>Documentary</th>\n",
       "      <th>Action</th>\n",
       "      <th>director</th>\n",
       "    </tr>\n",
       "  </thead>\n",
       "  <tbody>\n",
       "    <tr>\n",
       "      <th>0</th>\n",
       "      <td>tt0339736</td>\n",
       "      <td>5.6</td>\n",
       "      <td>2420</td>\n",
       "      <td>1</td>\n",
       "      <td>Good</td>\n",
       "      <td>1080.879909</td>\n",
       "      <td>0</td>\n",
       "      <td>0</td>\n",
       "      <td>1</td>\n",
       "      <td>0</td>\n",
       "      <td>0</td>\n",
       "      <td>Andrew Getty</td>\n",
       "    </tr>\n",
       "    <tr>\n",
       "      <th>1</th>\n",
       "      <td>tt0426566</td>\n",
       "      <td>6.0</td>\n",
       "      <td>13</td>\n",
       "      <td>1</td>\n",
       "      <td>Good</td>\n",
       "      <td>39.330956</td>\n",
       "      <td>0</td>\n",
       "      <td>0</td>\n",
       "      <td>0</td>\n",
       "      <td>0</td>\n",
       "      <td>0</td>\n",
       "      <td>Julio Bove</td>\n",
       "    </tr>\n",
       "    <tr>\n",
       "      <th>2</th>\n",
       "      <td>tt0426566</td>\n",
       "      <td>6.0</td>\n",
       "      <td>13</td>\n",
       "      <td>1</td>\n",
       "      <td>Good</td>\n",
       "      <td>39.330956</td>\n",
       "      <td>0</td>\n",
       "      <td>0</td>\n",
       "      <td>0</td>\n",
       "      <td>0</td>\n",
       "      <td>0</td>\n",
       "      <td>Julio Bove</td>\n",
       "    </tr>\n",
       "    <tr>\n",
       "      <th>3</th>\n",
       "      <td>tt0436230</td>\n",
       "      <td>6.7</td>\n",
       "      <td>34</td>\n",
       "      <td>2</td>\n",
       "      <td>Good</td>\n",
       "      <td>10075.949000</td>\n",
       "      <td>0</td>\n",
       "      <td>0</td>\n",
       "      <td>1</td>\n",
       "      <td>0</td>\n",
       "      <td>0</td>\n",
       "      <td>Joaquin Perea</td>\n",
       "    </tr>\n",
       "    <tr>\n",
       "      <th>4</th>\n",
       "      <td>tt0436230</td>\n",
       "      <td>6.7</td>\n",
       "      <td>34</td>\n",
       "      <td>2</td>\n",
       "      <td>Good</td>\n",
       "      <td>10075.949000</td>\n",
       "      <td>0</td>\n",
       "      <td>0</td>\n",
       "      <td>1</td>\n",
       "      <td>0</td>\n",
       "      <td>0</td>\n",
       "      <td>Joaquin Perea</td>\n",
       "    </tr>\n",
       "    <tr>\n",
       "      <th>...</th>\n",
       "      <td>...</td>\n",
       "      <td>...</td>\n",
       "      <td>...</td>\n",
       "      <td>...</td>\n",
       "      <td>...</td>\n",
       "      <td>...</td>\n",
       "      <td>...</td>\n",
       "      <td>...</td>\n",
       "      <td>...</td>\n",
       "      <td>...</td>\n",
       "      <td>...</td>\n",
       "      <td>...</td>\n",
       "    </tr>\n",
       "    <tr>\n",
       "      <th>2124</th>\n",
       "      <td>tt8632862</td>\n",
       "      <td>6.7</td>\n",
       "      <td>11628</td>\n",
       "      <td>1</td>\n",
       "      <td>Good</td>\n",
       "      <td>33.074300</td>\n",
       "      <td>0</td>\n",
       "      <td>0</td>\n",
       "      <td>0</td>\n",
       "      <td>1</td>\n",
       "      <td>0</td>\n",
       "      <td>Michael Moore</td>\n",
       "    </tr>\n",
       "    <tr>\n",
       "      <th>2125</th>\n",
       "      <td>tt9024106</td>\n",
       "      <td>6.3</td>\n",
       "      <td>5945</td>\n",
       "      <td>2</td>\n",
       "      <td>Good</td>\n",
       "      <td>201.793683</td>\n",
       "      <td>1</td>\n",
       "      <td>0</td>\n",
       "      <td>0</td>\n",
       "      <td>0</td>\n",
       "      <td>0</td>\n",
       "      <td>Chuck Konzelman</td>\n",
       "    </tr>\n",
       "    <tr>\n",
       "      <th>2126</th>\n",
       "      <td>tt9024106</td>\n",
       "      <td>6.3</td>\n",
       "      <td>5945</td>\n",
       "      <td>2</td>\n",
       "      <td>Good</td>\n",
       "      <td>201.793683</td>\n",
       "      <td>1</td>\n",
       "      <td>0</td>\n",
       "      <td>0</td>\n",
       "      <td>0</td>\n",
       "      <td>0</td>\n",
       "      <td>Chuck Konzelman</td>\n",
       "    </tr>\n",
       "    <tr>\n",
       "      <th>2127</th>\n",
       "      <td>tt9024106</td>\n",
       "      <td>6.3</td>\n",
       "      <td>5945</td>\n",
       "      <td>2</td>\n",
       "      <td>Good</td>\n",
       "      <td>201.793683</td>\n",
       "      <td>1</td>\n",
       "      <td>0</td>\n",
       "      <td>0</td>\n",
       "      <td>0</td>\n",
       "      <td>0</td>\n",
       "      <td>Cary Solomon</td>\n",
       "    </tr>\n",
       "    <tr>\n",
       "      <th>2128</th>\n",
       "      <td>tt9024106</td>\n",
       "      <td>6.3</td>\n",
       "      <td>5945</td>\n",
       "      <td>2</td>\n",
       "      <td>Good</td>\n",
       "      <td>201.793683</td>\n",
       "      <td>1</td>\n",
       "      <td>0</td>\n",
       "      <td>0</td>\n",
       "      <td>0</td>\n",
       "      <td>0</td>\n",
       "      <td>Cary Solomon</td>\n",
       "    </tr>\n",
       "  </tbody>\n",
       "</table>\n",
       "<p>2129 rows × 12 columns</p>\n",
       "</div>"
      ],
      "text/plain": [
       "       movie_id  averagerating  numvotes  num_of_genres rating  ROI_worldwide  \\\n",
       "0     tt0339736            5.6      2420              1   Good    1080.879909   \n",
       "1     tt0426566            6.0        13              1   Good      39.330956   \n",
       "2     tt0426566            6.0        13              1   Good      39.330956   \n",
       "3     tt0436230            6.7        34              2   Good   10075.949000   \n",
       "4     tt0436230            6.7        34              2   Good   10075.949000   \n",
       "...         ...            ...       ...            ...    ...            ...   \n",
       "2124  tt8632862            6.7     11628              1   Good      33.074300   \n",
       "2125  tt9024106            6.3      5945              2   Good     201.793683   \n",
       "2126  tt9024106            6.3      5945              2   Good     201.793683   \n",
       "2127  tt9024106            6.3      5945              2   Good     201.793683   \n",
       "2128  tt9024106            6.3      5945              2   Good     201.793683   \n",
       "\n",
       "      Biography  Mystery  Horror  Documentary  Action         director  \n",
       "0             0        0       1            0       0     Andrew Getty  \n",
       "1             0        0       0            0       0       Julio Bove  \n",
       "2             0        0       0            0       0       Julio Bove  \n",
       "3             0        0       1            0       0    Joaquin Perea  \n",
       "4             0        0       1            0       0    Joaquin Perea  \n",
       "...         ...      ...     ...          ...     ...              ...  \n",
       "2124          0        0       0            1       0    Michael Moore  \n",
       "2125          1        0       0            0       0  Chuck Konzelman  \n",
       "2126          1        0       0            0       0  Chuck Konzelman  \n",
       "2127          1        0       0            0       0     Cary Solomon  \n",
       "2128          1        0       0            0       0     Cary Solomon  \n",
       "\n",
       "[2129 rows x 12 columns]"
      ]
     },
     "execution_count": 264,
     "metadata": {},
     "output_type": "execute_result"
    }
   ],
   "source": [
    "directors_ROI"
   ]
  },
  {
   "cell_type": "code",
   "execution_count": 265,
   "metadata": {
    "ExecuteTime": {
     "end_time": "2022-03-09T22:25:29.839100Z",
     "start_time": "2022-03-09T22:25:29.806412Z"
    }
   },
   "outputs": [],
   "source": [
    "grouped_director = directors_ROI.groupby(['director']).mean()\n",
    "grouped_director['ROI_worldwide'].sort_values(ascending=False)[0:5].plot(kind='bar')"
   ]
  },
  {
   "cell_type": "code",
   "execution_count": 267,
   "metadata": {
    "ExecuteTime": {
     "end_time": "2022-03-09T22:25:32.011196Z",
     "start_time": "2022-03-09T22:25:31.989032Z"
    }
   },
   "outputs": [],
   "source": [
    "biography = directors_ROI[directors_ROI.Biography == 1]\n",
    "top_bio_directors = biography.groupby(['director']).mean()['ROI_worldwide'].sort_values(ascending=False)[0:5]"
   ]
  },
  {
   "cell_type": "code",
   "execution_count": 268,
   "metadata": {
    "ExecuteTime": {
     "end_time": "2022-03-09T22:25:33.246727Z",
     "start_time": "2022-03-09T22:25:32.936337Z"
    }
   },
   "outputs": [
    {
     "data": {
      "image/png": "[encoded data removed]",
      "text/plain": [
       "<Figure size 1080x576 with 1 Axes>"
      ]
     },
     "metadata": {
      "needs_background": "light"
     },
     "output_type": "display_data"
    }
   ],
   "source": [
    "#plotting best directors\n",
    "\n",
    "fig, ax = plt.subplots(figsize=(15,8))\n",
    "\n",
    "ax.bar(range(len(top_bio_directors)), top_bio_directors)\n",
    "ax.set_xticks(range(len(top_bio_directors)))\n",
    "ax.set_xticklabels(top_bio_directors.index, fontsize=10)\n",
    "ax.set_title(\"Top 5 Directors for Biography Genre by ROI\", fontsize=25)\n",
    "\n",
    "plt.show()"
   ]
  },
  {
   "cell_type": "code",
   "execution_count": 269,
   "metadata": {
    "ExecuteTime": {
     "end_time": "2022-03-09T22:25:34.197455Z",
     "start_time": "2022-03-09T22:25:34.181164Z"
    }
   },
   "outputs": [
    {
     "data": {
      "text/plain": [
       "Index(['Biography', 'Horror', 'Documentary', 'Mystery', 'Action'], dtype='object')"
      ]
     },
     "execution_count": 269,
     "metadata": {},
     "output_type": "execute_result"
    }
   ],
   "source": [
    "top_5_genres.index"
   ]
  },
  {
   "cell_type": "code",
   "execution_count": 270,
   "metadata": {
    "ExecuteTime": {
     "end_time": "2022-03-09T22:25:35.178294Z",
     "start_time": "2022-03-09T22:25:35.147063Z"
    }
   },
   "outputs": [],
   "source": [
    "horror = directors_ROI[directors_ROI.Horror == 1]\n",
    "top_horror_directors = horror.groupby(['director']).mean()['ROI_worldwide'].sort_values(ascending=False)[0:5]"
   ]
  },
  {
   "cell_type": "code",
   "execution_count": 271,
   "metadata": {
    "ExecuteTime": {
     "end_time": "2022-03-09T22:25:36.425287Z",
     "start_time": "2022-03-09T22:25:36.106663Z"
    }
   },
   "outputs": [
    {
     "data": {
      "image/png": "[encoded data removed]",
      "text/plain": [
       "<Figure size 1080x576 with 1 Axes>"
      ]
     },
     "metadata": {
      "needs_background": "light"
     },
     "output_type": "display_data"
    }
   ],
   "source": [
    "fig, ax = plt.subplots(figsize=(15,8))\n",
    "\n",
    "ax.bar(range(len(top_horror_directors)), top_horror_directors)\n",
    "ax.set_xticks(range(len(top_horror_directors)))\n",
    "ax.set_xticklabels(top_horror_directors.index, fontsize=10)\n",
    "ax.set_title(\"Top 5 Directors for Horror Genre by ROI\", fontsize=25)\n",
    "\n",
    "plt.show()"
   ]
  },
  {
   "cell_type": "code",
   "execution_count": 272,
   "metadata": {
    "ExecuteTime": {
     "end_time": "2022-03-09T22:25:37.387366Z",
     "start_time": "2022-03-09T22:25:37.360223Z"
    }
   },
   "outputs": [],
   "source": [
    "documentary = directors_ROI[directors_ROI.Documentary == 1]\n",
    "top_documentary_directors = documentary.groupby(['director']).mean()['ROI_worldwide'].sort_values(ascending=False)[0:5]"
   ]
  },
  {
   "cell_type": "code",
   "execution_count": 273,
   "metadata": {
    "ExecuteTime": {
     "end_time": "2022-03-09T22:25:38.666334Z",
     "start_time": "2022-03-09T22:25:38.338303Z"
    }
   },
   "outputs": [
    {
     "data": {
      "image/png": "[encoded data removed]",
      "text/plain": [
       "<Figure size 1080x576 with 1 Axes>"
      ]
     },
     "metadata": {
      "needs_background": "light"
     },
     "output_type": "display_data"
    }
   ],
   "source": [
    "fig, ax = plt.subplots(figsize=(15,8))\n",
    "\n",
    "ax.bar(range(len(top_documentary_directors)), top_documentary_directors)\n",
    "ax.set_xticks(range(len(top_documentary_directors)))\n",
    "ax.set_xticklabels(top_documentary_directors.index, fontsize=10)\n",
    "ax.set_title(\"Top 5 Directors for Documentary Genre by ROI\", fontsize=25)\n",
    "\n",
    "plt.show()"
   ]
  },
  {
   "cell_type": "code",
   "execution_count": 274,
   "metadata": {
    "ExecuteTime": {
     "end_time": "2022-03-09T22:25:39.638804Z",
     "start_time": "2022-03-09T22:25:39.614500Z"
    }
   },
   "outputs": [],
   "source": [
    "mystery = directors_ROI[directors_ROI.Mystery == 1]\n",
    "top_mystery_directors = mystery.groupby(['director']).mean()['ROI_worldwide'].sort_values(ascending=False)[0:5]"
   ]
  },
  {
   "cell_type": "code",
   "execution_count": 275,
   "metadata": {
    "ExecuteTime": {
     "end_time": "2022-03-09T22:25:40.907192Z",
     "start_time": "2022-03-09T22:25:40.571441Z"
    }
   },
   "outputs": [
    {
     "data": {
      "image/png": "[encoded data removed]",
      "text/plain": [
       "<Figure size 1080x576 with 1 Axes>"
      ]
     },
     "metadata": {
      "needs_background": "light"
     },
     "output_type": "display_data"
    }
   ],
   "source": [
    "fig, ax = plt.subplots(figsize=(15,8))\n",
    "\n",
    "ax.bar(range(len(top_mystery_directors)), top_mystery_directors)\n",
    "ax.set_xticks(range(len(top_mystery_directors)))\n",
    "ax.set_xticklabels(top_mystery_directors.index, fontsize=10)\n",
    "ax.set_title(\"Top 5 Directors for Mystery Genre by ROI\", fontsize=25)\n",
    "\n",
    "plt.show()"
   ]
  },
  {
   "cell_type": "code",
   "execution_count": 276,
   "metadata": {
    "ExecuteTime": {
     "end_time": "2022-03-09T22:25:41.876191Z",
     "start_time": "2022-03-09T22:25:41.851275Z"
    }
   },
   "outputs": [],
   "source": [
    "action = directors_ROI[directors_ROI.Action == 1]\n",
    "top_action_directors = action.groupby(['director']).mean()['ROI_worldwide'].sort_values(ascending=False)[0:5]"
   ]
  },
  {
   "cell_type": "code",
   "execution_count": 277,
   "metadata": {
    "ExecuteTime": {
     "end_time": "2022-03-09T22:25:43.117330Z",
     "start_time": "2022-03-09T22:25:42.809483Z"
    }
   },
   "outputs": [
    {
     "data": {
      "image/png": "[encoded data removed]",
      "text/plain": [
       "<Figure size 1080x576 with 1 Axes>"
      ]
     },
     "metadata": {
      "needs_background": "light"
     },
     "output_type": "display_data"
    }
   ],
   "source": [
    "fig, ax = plt.subplots(figsize=(15,8))\n",
    "\n",
    "ax.bar(range(len(top_action_directors)), top_action_directors)\n",
    "ax.set_xticks(range(len(top_action_directors)))\n",
    "ax.set_xticklabels(top_action_directors.index, fontsize=10)\n",
    "ax.set_title(\"Top 5 Directors for Action Genre by ROI\", fontsize=25)\n",
    "\n",
    "plt.show()"
   ]
  },
  {
   "cell_type": "code",
   "execution_count": 278,
   "metadata": {
    "ExecuteTime": {
     "end_time": "2022-03-09T22:25:44.077427Z",
     "start_time": "2022-03-09T22:25:44.058502Z"
    }
   },
   "outputs": [],
   "source": [
    "main_df.reset_index(inplace=True)"
   ]
  },
  {
   "cell_type": "code",
   "execution_count": 279,
   "metadata": {
    "ExecuteTime": {
     "end_time": "2022-03-09T22:25:45.047122Z",
     "start_time": "2022-03-09T22:25:45.016463Z"
    }
   },
   "outputs": [
    {
     "data": {
      "text/plain": [
       "['The Joneses',\n",
       " 'Iris',\n",
       " 'Three Kings',\n",
       " 'Inside Out',\n",
       " 'Last Man Standing',\n",
       " 'Born to Fly: Elizabeth Streb vs. Gravity',\n",
       " 'The Lost City',\n",
       " 'Step Up',\n",
       " 'Ballerina',\n",
       " 'Bambi',\n",
       " 'All or Nothing',\n",
       " 'Romeo Is Bleeding',\n",
       " 'Jumper',\n",
       " 'Virtuosity',\n",
       " 'Limitless',\n",
       " 'Bobby',\n",
       " 'Yes',\n",
       " 'Death Sentence']"
      ]
     },
     "execution_count": 279,
     "metadata": {},
     "output_type": "execute_result"
    }
   ],
   "source": [
    "counter = 0\n",
    "bio_doc_films = []\n",
    "for i in main_df.genres:\n",
    "    if ('Biography' in i) and ('Documentary' in i):\n",
    "        bio_doc_films.append(main_df.loc[counter, 'title'])\n",
    "    counter +=1\n",
    "\n",
    "bio_doc_films"
   ]
  },
  {
   "cell_type": "code",
   "execution_count": 280,
   "metadata": {
    "ExecuteTime": {
     "end_time": "2022-03-09T22:25:45.997244Z",
     "start_time": "2022-03-09T22:25:45.976912Z"
    }
   },
   "outputs": [
    {
     "data": {
      "text/plain": [
       "['Resident Evil: Afterlife',\n",
       " 'I, Frankenstein',\n",
       " \"You're Next\",\n",
       " 'The Forgotten',\n",
       " 'Maniac',\n",
       " 'The Hunted',\n",
       " 'The Strangers',\n",
       " 'Resident Evil: The Final Chapter',\n",
       " 'Creature',\n",
       " 'Tag',\n",
       " 'Mandy',\n",
       " 'The First Purge',\n",
       " 'Outbreak']"
      ]
     },
     "execution_count": 280,
     "metadata": {},
     "output_type": "execute_result"
    }
   ],
   "source": [
    "counter = 0\n",
    "horror_action_films = []\n",
    "for i in main_df.genres:\n",
    "    if ('Horror' in i) and ('Action' in i):\n",
    "        horror_action_films.append(main_df.loc[counter, 'title'])\n",
    "    counter +=1\n",
    "horror_action_films"
   ]
  },
  {
   "cell_type": "code",
   "execution_count": 281,
   "metadata": {
    "ExecuteTime": {
     "end_time": "2022-03-09T22:25:46.927410Z",
     "start_time": "2022-03-09T22:25:46.907028Z"
    }
   },
   "outputs": [
    {
     "data": {
      "text/plain": [
       "['Inescapable', 'Non-Stop', 'Panic Room', 'The Guardian']"
      ]
     },
     "execution_count": 281,
     "metadata": {},
     "output_type": "execute_result"
    }
   ],
   "source": [
    "counter = 0\n",
    "mystery_action_films = []\n",
    "for i in main_df.genres:\n",
    "    if ('Mystery' in i) and ('Action' in i):\n",
    "        mystery_action_films.append(main_df.loc[counter, 'title'])\n",
    "    counter +=1\n",
    "mystery_action_films"
   ]
  },
  {
   "cell_type": "code",
   "execution_count": 282,
   "metadata": {
    "ExecuteTime": {
     "end_time": "2022-03-09T22:25:47.856093Z",
     "start_time": "2022-03-09T22:25:47.834362Z"
    }
   },
   "outputs": [
    {
     "data": {
      "text/plain": [
       "[]"
      ]
     },
     "execution_count": 282,
     "metadata": {},
     "output_type": "execute_result"
    }
   ],
   "source": [
    "counter = 0\n",
    "mystery_horror_films = []\n",
    "for i in main_df.genres:\n",
    "    if ('Mystery' in i) and ('Horror' in i):\n",
    "        mystery_action_films.append(main_df.loc[counter, 'title'])\n",
    "    counter +=1\n",
    "mystery_horror_films"
   ]
  },
  {
   "cell_type": "code",
   "execution_count": 283,
   "metadata": {
    "ExecuteTime": {
     "end_time": "2022-03-09T22:25:48.796464Z",
     "start_time": "2022-03-09T22:25:48.778024Z"
    }
   },
   "outputs": [
    {
     "data": {
      "text/plain": [
       "[]"
      ]
     },
     "execution_count": 283,
     "metadata": {},
     "output_type": "execute_result"
    }
   ],
   "source": [
    "counter = 0\n",
    "mystery_documentary_films = []\n",
    "for i in main_df.genres:\n",
    "    if ('Mystery' in i) and ('Documentary' in i):\n",
    "        mystery_documentary_films.append(main_df.loc[counter, 'title'])\n",
    "    counter +=1\n",
    "mystery_documentary_films"
   ]
  },
  {
   "cell_type": "code",
   "execution_count": 284,
   "metadata": {
    "ExecuteTime": {
     "end_time": "2022-03-09T22:25:49.747112Z",
     "start_time": "2022-03-09T22:25:49.727832Z"
    }
   },
   "outputs": [
    {
     "data": {
      "text/plain": [
       "[]"
      ]
     },
     "execution_count": 284,
     "metadata": {},
     "output_type": "execute_result"
    }
   ],
   "source": [
    "counter = 0\n",
    "horror_documentary_films = []\n",
    "for i in main_df.genres:\n",
    "    if ('Horror' in i) and ('Documentary' in i):\n",
    "        horror_documentary_films.append(main_df.loc[counter, 'title'])\n",
    "    counter +=1\n",
    "horror_documentary_films"
   ]
  },
  {
   "cell_type": "code",
   "execution_count": 285,
   "metadata": {
    "ExecuteTime": {
     "end_time": "2022-03-09T22:25:50.706278Z",
     "start_time": "2022-03-09T22:25:50.676887Z"
    }
   },
   "outputs": [
    {
     "data": {
      "text/plain": [
       "[]"
      ]
     },
     "execution_count": 285,
     "metadata": {},
     "output_type": "execute_result"
    }
   ],
   "source": [
    "counter = 0\n",
    "biography_horror_films = []\n",
    "for i in main_df.genres:\n",
    "    if ('Horror' in i) and ('Biography' in i):\n",
    "        biography_horror_films.append(main_df.loc[counter, 'title'])\n",
    "    counter +=1\n",
    "biography_horror_films"
   ]
  },
  {
   "cell_type": "code",
   "execution_count": 286,
   "metadata": {
    "ExecuteTime": {
     "end_time": "2022-03-09T22:25:51.647390Z",
     "start_time": "2022-03-09T22:25:51.625774Z"
    }
   },
   "outputs": [
    {
     "data": {
      "text/plain": [
       "[]"
      ]
     },
     "execution_count": 286,
     "metadata": {},
     "output_type": "execute_result"
    }
   ],
   "source": [
    "counter = 0\n",
    "mystery_bio_films = []\n",
    "for i in main_df.genres:\n",
    "    if ('Mystery' in i) and ('Biography' in i):\n",
    "        mystery_bio_films.append(main_df.loc[counter, 'title'])\n",
    "    counter +=1\n",
    "mystery_bio_films"
   ]
  },
  {
   "cell_type": "code",
   "execution_count": 287,
   "metadata": {
    "ExecuteTime": {
     "end_time": "2022-03-09T22:25:52.587379Z",
     "start_time": "2022-03-09T22:25:52.571552Z"
    }
   },
   "outputs": [
    {
     "data": {
      "text/plain": [
       "['Jackass 3D',\n",
       " 'The Return',\n",
       " 'Born to Fly: Elizabeth Streb vs. Gravity',\n",
       " 'The Hammer',\n",
       " 'Down by Law',\n",
       " 'Snow Day']"
      ]
     },
     "execution_count": 287,
     "metadata": {},
     "output_type": "execute_result"
    }
   ],
   "source": [
    "counter = 0\n",
    "doc_action_films = []\n",
    "for i in main_df.genres:\n",
    "    if ('Documentary' in i) and ('Action' in i):\n",
    "        doc_action_films.append(main_df.loc[counter, 'title'])\n",
    "    counter +=1\n",
    "doc_action_films"
   ]
  },
  {
   "cell_type": "code",
   "execution_count": 288,
   "metadata": {
    "ExecuteTime": {
     "end_time": "2022-03-09T22:25:53.547291Z",
     "start_time": "2022-03-09T22:25:53.527391Z"
    }
   },
   "outputs": [
    {
     "data": {
      "text/plain": [
       "Index(['Biography', 'Horror', 'Documentary', 'Mystery', 'Action'], dtype='object')"
      ]
     },
     "execution_count": 288,
     "metadata": {},
     "output_type": "execute_result"
    }
   ],
   "source": [
    "top_5_genres.index"
   ]
  },
  {
   "cell_type": "code",
   "execution_count": 289,
   "metadata": {
    "ExecuteTime": {
     "end_time": "2022-03-09T22:25:54.486785Z",
     "start_time": "2022-03-09T22:25:54.458642Z"
    }
   },
   "outputs": [
    {
     "data": {
      "text/plain": [
       "['Machine Gun Preacher',\n",
       " 'Born to Fly: Elizabeth Streb vs. Gravity',\n",
       " 'The Masked Saint']"
      ]
     },
     "execution_count": 289,
     "metadata": {},
     "output_type": "execute_result"
    }
   ],
   "source": [
    "counter = 0\n",
    "bio_action_films = []\n",
    "for i in main_df.genres:\n",
    "    if ('Action' in i) and ('Biography' in i):\n",
    "        bio_action_films.append(main_df.loc[counter, 'title'])\n",
    "    counter +=1\n",
    "bio_action_films"
   ]
  }
 ],
 "metadata": {
  "kernelspec": {
   "display_name": "Python 3",
   "language": "python",
   "name": "python3"
  },
  "language_info": {
   "codemirror_mode": {
    "name": "ipython",
    "version": 3
   },
   "file_extension": ".py",
   "mimetype": "text/x-python",
   "name": "python",
   "nbconvert_exporter": "python",
   "pygments_lexer": "ipython3",
   "version": "3.8.5"
  },
  "toc": {
   "base_numbering": 1,
   "nav_menu": {},
   "number_sections": true,
   "sideBar": true,
   "skip_h1_title": false,
   "title_cell": "Table of Contents",
   "title_sidebar": "Contents",
   "toc_cell": false,
   "toc_position": {},
   "toc_section_display": true,
   "toc_window_display": false
  },
  "varInspector": {
   "cols": {
    "lenName": 16,
    "lenType": 16,
    "lenVar": 40
   },
   "kernels_config": {
    "python": {
     "delete_cmd_postfix": "",
     "delete_cmd_prefix": "del ",
     "library": "var_list.py",
     "varRefreshCmd": "print(var_dic_list())"
    },
    "r": {
     "delete_cmd_postfix": ") ",
     "delete_cmd_prefix": "rm(",
     "library": "var_list.r",
     "varRefreshCmd": "cat(var_dic_list()) "
    }
   },
   "types_to_exclude": [
    "module",
    "function",
    "builtin_function_or_method",
    "instance",
    "_Feature"
   ],
   "window_display": false
  }
 },
 "nbformat": 4,
 "nbformat_minor": 2
}
